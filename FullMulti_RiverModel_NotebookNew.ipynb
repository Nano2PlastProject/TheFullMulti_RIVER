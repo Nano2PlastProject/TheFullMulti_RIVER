{
 "cells": [
  {
   "cell_type": "markdown",
   "metadata": {},
   "source": [
    "##### Set up screen wide view"
   ]
  },
  {
   "cell_type": "code",
   "execution_count": null,
   "metadata": {
    "ExecuteTime": {
     "end_time": "2022-04-06T13:16:33.670914Z",
     "start_time": "2022-04-06T13:16:33.649950Z"
    }
   },
   "outputs": [],
   "source": [
    "from IPython.core.display import display, HTML\n",
    "display(HTML(\"<style>.container { width:80% !important; }</style>\"))"
   ]
  },
  {
   "cell_type": "markdown",
   "metadata": {},
   "source": [
    "# Import libraries and modules"
   ]
  },
  {
   "cell_type": "code",
   "execution_count": null,
   "metadata": {
    "ExecuteTime": {
     "end_time": "2022-04-06T13:16:35.524465Z",
     "start_time": "2022-04-06T13:16:34.602046Z"
    }
   },
   "outputs": [],
   "source": [
    "##Import libraries\n",
    "import os\n",
    "import pandas as pd\n",
    "import itertools\n",
    "import numpy as np\n",
    "import matplotlib.patches as mpatches\n",
    "from matplotlib import pyplot as plt\n",
    "import seaborn as sns\n",
    "from matplotlib.colors import LogNorm\n",
    "from scipy.integrate import odeint\n",
    "from celluloid import Camera\n",
    "from cycler import cycler\n",
    "import warnings\n",
    "warnings.filterwarnings('ignore')\n",
    "%matplotlib inline"
   ]
  },
  {
   "cell_type": "code",
   "execution_count": null,
   "metadata": {
    "ExecuteTime": {
     "end_time": "2022-04-06T13:16:35.571765Z",
     "start_time": "2022-04-06T13:16:35.558309Z"
    }
   },
   "outputs": [],
   "source": [
    "##Set current working directory\n",
    "cwd=os.getcwd()\n",
    "cwd"
   ]
  },
  {
   "cell_type": "code",
   "execution_count": null,
   "metadata": {
    "ExecuteTime": {
     "end_time": "2022-04-06T13:17:53.577699Z",
     "start_time": "2022-04-06T13:17:53.557792Z"
    }
   },
   "outputs": [],
   "source": [
    "os.chdir(cwd+\"\\Functions\")\n",
    "##Import functions\n",
    "from objectGenerationRiver_func import*\n",
    "from GlobalConstants import * \n",
    "from readImputParam import readProcessparam, microplasticData,readCompartmentData\n",
    "from dilutionVol_calculator_func import*\n",
    "import RC_GeneratorRiver\n",
    "from RC_estimation_function import*\n",
    "from reshape_RC_df_fun import*\n",
    "from fillInteractions_df_funRiverNew import*\n",
    "os.chdir(cwd)"
   ]
  },
  {
   "cell_type": "markdown",
   "metadata": {},
   "source": [
    "# Import input files"
   ]
  },
  {
   "cell_type": "code",
   "execution_count": null,
   "metadata": {
    "ExecuteTime": {
     "end_time": "2022-04-06T14:38:59.064533Z",
     "start_time": "2022-04-06T14:38:59.037587Z"
    }
   },
   "outputs": [],
   "source": [
    "os.chdir(cwd+\"/Inputs\")\n",
    "#Import process parameters\n",
    "process_df= readProcessparam (\"process_paramRiver.txt\")\n",
    "#Import MP parameters (radius, volume, etc) Same way\n",
    "MP_prop = microplasticData(\"microplasticsSizeClass.txt\")\n",
    "#Import compartment info\n",
    "compartments_prop = readCompartmentData(\"compartmentsGenericRiverSec_prop.txt\")\n",
    "#Import Flow connectivity info\n",
    "river_flows=pd.read_csv(\"flow_connectivity.csv\")\n",
    "#Add river section depth field\n",
    "RSdepth = []\n",
    "for row in range(len(compartments_prop)):\n",
    "        RSdepth.append(round(sum(compartments_prop.depth_m[0:4]),2))\n",
    "compartments_prop[\"depthRS_m\"]=RSdepth\n",
    "os.chdir(cwd)"
   ]
  },
  {
   "cell_type": "code",
   "execution_count": null,
   "metadata": {
    "ExecuteTime": {
     "end_time": "2022-04-06T13:17:56.681439Z",
     "start_time": "2022-04-06T13:17:56.654478Z"
    }
   },
   "outputs": [],
   "source": [
    "compartments_prop"
   ]
  },
  {
   "cell_type": "code",
   "execution_count": null,
   "metadata": {
    "ExecuteTime": {
     "end_time": "2022-04-06T13:17:57.037747Z",
     "start_time": "2022-04-06T13:17:57.017685Z"
    }
   },
   "outputs": [],
   "source": [
    "process_df"
   ]
  },
  {
   "cell_type": "code",
   "execution_count": null,
   "metadata": {
    "ExecuteTime": {
     "end_time": "2022-04-06T13:17:57.429247Z",
     "start_time": "2022-04-06T13:17:57.405312Z"
    }
   },
   "outputs": [],
   "source": [
    "MP_prop"
   ]
  },
  {
   "cell_type": "code",
   "execution_count": null,
   "metadata": {
    "ExecuteTime": {
     "end_time": "2022-04-06T14:39:04.335045Z",
     "start_time": "2022-04-06T14:39:04.323077Z"
    },
    "scrolled": true
   },
   "outputs": [],
   "source": [
    "river_flows"
   ]
  },
  {
   "cell_type": "markdown",
   "metadata": {},
   "source": [
    "# Model set up"
   ]
  },
  {
   "cell_type": "code",
   "execution_count": null,
   "metadata": {
    "ExecuteTime": {
     "end_time": "2022-04-06T13:17:58.927046Z",
     "start_time": "2022-04-06T13:17:58.912061Z"
    }
   },
   "outputs": [],
   "source": [
    "#RIVER COMPARTMENTS\n",
    "compartments = [\"Surface Water\", \"Flowing Water\", \"Stagnant Water\", \"Sediment\"]\n",
    "riverComp = [\"1\", \"2\", \"3\", \"4\"]"
   ]
  },
  {
   "cell_type": "code",
   "execution_count": null,
   "metadata": {
    "ExecuteTime": {
     "end_time": "2022-04-06T13:17:59.360715Z",
     "start_time": "2022-04-06T13:17:59.341735Z"
    }
   },
   "outputs": [],
   "source": [
    "#MICROPLASTICS FORMS \n",
    "MPforms = [\"A\", \"B\", \"C\", \"D\"]\n",
    "MPformslabels = [\"Free\", \"Heteroaggregated\", \"Biofiolm-covered\", \"Biofilm-heteroaggregated\"]"
   ]
  },
  {
   "cell_type": "code",
   "execution_count": null,
   "metadata": {
    "ExecuteTime": {
     "end_time": "2022-04-06T13:17:59.808962Z",
     "start_time": "2022-04-06T13:17:59.801983Z"
    }
   },
   "outputs": [],
   "source": [
    "#SIZE BINS\n",
    "sizeBin =[\"a\", \"b\", \"c\", \"d\", \"e\"]\n",
    "sizeBinLabel = [\"0.1um\", \"1um\",\"10um\", \"100um\", \"1000um\"]# Detection limit for MPs via Fourier Transform Infrared Spectroscopy is 20um"
   ]
  },
  {
   "cell_type": "code",
   "execution_count": null,
   "metadata": {
    "ExecuteTime": {
     "end_time": "2022-04-06T13:17:59.982142Z",
     "start_time": "2022-04-06T13:17:59.972169Z"
    }
   },
   "outputs": [],
   "source": [
    "#MPS RIVER PROCESSES (FATE AND TRANSPORT) LIST\n",
    "processList = [\"degradation\", \"fragmentation\", \"heteroagg\", \"breakup\", \"settling\",\"rising\", \"advection\", \"mixing\", \"biofilm\", \"resusp\", \"burial\",\"sedTransport\", \"defouling\"]"
   ]
  },
  {
   "cell_type": "code",
   "execution_count": null,
   "metadata": {
    "ExecuteTime": {
     "end_time": "2022-04-06T13:18:00.168575Z",
     "start_time": "2022-04-06T13:18:00.152581Z"
    }
   },
   "outputs": [],
   "source": [
    "#RIVER SECTIONS\n",
    "numberRS=len (compartments_prop)/len(riverComp)\n",
    "listRS = [*range(0,int(numberRS),1)]\n",
    "riverSect = [str(item) for item in listRS]\n",
    "riverLengths = [str(it) for it in compartments_prop[\"length_m\"]]\n",
    "riverSectLength= riverLengths[0::4]\n",
    "RS_cumLength_m =[]\n",
    "for d in range(len(riverSectLength)):\n",
    "    if d==0:\n",
    "        RS_cumLength_m.append(float(riverSectLength[d]))\n",
    "    else:\n",
    "        RS_cumLength_m.append(float(riverSectLength[d])+float(RS_cumLength_m[d-1]))"
   ]
  },
  {
   "cell_type": "markdown",
   "metadata": {},
   "source": [
    "## Define run parameters\n",
    "- Solver (Dynamic). SteadyState under developement\n",
    "- mode (Standard). Monthly under developement\n",
    "- mode2 (Timelimit or raw): \"Timelimit\" mode sets up a time limit of 30min on the processes that exceeds that speed, while \"raw\" mode leaves the rate constant as calcualted. The raw version can straing the solver due to time.\n",
    "- record (True or False) : if \"True\" the results, RC and intercations dataframes will be recorded in the Results folder."
   ]
  },
  {
   "cell_type": "code",
   "execution_count": null,
   "metadata": {
    "ExecuteTime": {
     "end_time": "2022-04-06T13:18:00.961663Z",
     "start_time": "2022-04-06T13:18:00.943715Z"
    }
   },
   "outputs": [],
   "source": [
    "SOLVER = \"Dynamic\" \n",
    "mode = \"Standard\" \n",
    "mode2 = \"Timelimit\" \n",
    "record = \"True\""
   ]
  },
  {
   "cell_type": "markdown",
   "metadata": {},
   "source": [
    "## Define scenario \n",
    "- composition: define MP composition to study. The composition is defined in the microplastics imput file microplasticsSizeClass.txt. Examples given in such file: PE, PA and PVC.\n",
    "- imputMP: Define imput location and wich MP form is emmited by indicating the river section number, river compartment number, MP aggregation state and size bin: ex. 02Ae (RS=0:1, comp= 2:flowing water, MPtype:A:FreeMP, sizeBin:e:1000um)\n",
    "- imputFlow: define number of particles per minute entering the system\n",
    "- imputPulse: define number of particles entering the systems in a pulse (if any)"
   ]
  },
  {
   "attachments": {
    "CodingFigure_FullMulti.png": {
     "image/png": "[encoded data removed]"
    }
   },
   "cell_type": "markdown",
   "metadata": {},
   "source": [
    "![CodingFigure_FullMulti.png](attachment:CodingFigure_FullMulti.png)"
   ]
  },
  {
   "cell_type": "code",
   "execution_count": null,
   "metadata": {
    "ExecuteTime": {
     "end_time": "2022-04-06T13:18:02.122013Z",
     "start_time": "2022-04-06T13:18:02.104063Z"
    }
   },
   "outputs": [],
   "source": [
    "composition = \"PE\"\n",
    "imputMP= \"02Ae\"\n",
    "imputFlow=100 \n",
    "imputPulse=0"
   ]
  },
  {
   "cell_type": "markdown",
   "metadata": {},
   "source": [
    "## Set simulation time:\n",
    "- t0: starting time (seconds)\n",
    "- daysSimulation: total length of simulation (days)\n",
    "- stepSize (seconds)"
   ]
  },
  {
   "cell_type": "code",
   "execution_count": null,
   "metadata": {
    "ExecuteTime": {
     "end_time": "2022-04-06T13:18:02.773834Z",
     "start_time": "2022-04-06T13:18:02.765821Z"
    }
   },
   "outputs": [],
   "source": [
    "t0 = 0 \n",
    "daysSimulation = 365\n",
    "tmax = 24*60*daysSimulation*60 \n",
    "sec_day = 24*60*60\n",
    "stepSize= 60*60*24 #time step of 1day\n",
    "timesteps = int(sec_day*daysSimulation/stepSize) \n",
    "t_span = np.linspace(0, tmax, int(timesteps)+1, dtype=int)"
   ]
  },
  {
   "cell_type": "markdown",
   "metadata": {},
   "source": [
    "## Define model run results file name"
   ]
  },
  {
   "cell_type": "code",
   "execution_count": null,
   "metadata": {
    "ExecuteTime": {
     "end_time": "2022-04-06T13:18:03.242467Z",
     "start_time": "2022-04-06T13:18:03.220525Z"
    }
   },
   "outputs": [],
   "source": [
    "#Set up current date label#\n",
    "from datetime import datetime, timedelta\n",
    "date_time_str = '2020-01-01 00:00'\n",
    "DayStart = datetime.strptime(date_time_str, '%Y-%m-%d %H:%M')\n",
    "LastDay = DayStart + timedelta(minutes=tmax)\n",
    "date = DayStart\n",
    "daterun = date.today()\n",
    "daterun_label = daterun.strftime(\"%Y_%m_%d\")"
   ]
  },
  {
   "cell_type": "code",
   "execution_count": null,
   "metadata": {
    "ExecuteTime": {
     "end_time": "2022-04-06T13:18:03.767849Z",
     "start_time": "2022-04-06T13:18:03.753847Z"
    }
   },
   "outputs": [],
   "source": [
    "if imputFlow !=0:\n",
    "    runtitle= daterun_label+ \"_GenericRiver_\" + composition +\"_inflow_\"+ imputMP+\"_\"+str(imputFlow)+\"part_s_\"+ mode2+\"_TestRun\"\n",
    "else:\n",
    "    runtitle= daterun_label+\"_GenericRiver_\" + composition +\"_pulse_\"+ imputMP+\"_\"+str(imputPulse)+\"part_\"+ mode2+\"_TestRun\"\n",
    "runtitle"
   ]
  },
  {
   "cell_type": "markdown",
   "metadata": {},
   "source": [
    "## Create results and figures folders"
   ]
  },
  {
   "cell_type": "code",
   "execution_count": null,
   "metadata": {
    "ExecuteTime": {
     "end_time": "2022-04-04T13:43:43.491943Z",
     "start_time": "2022-04-04T13:43:43.477982Z"
    }
   },
   "outputs": [],
   "source": [
    "os.chdir(cwd+\"/Results\")\n",
    "    \n",
    "#create folder for the day if it doesnt already exists\n",
    "\n",
    "path = cwd+\"/Results\"\n",
    "os.path.isdir(path)\n",
    "old_path = (daterun_label)\n",
    "new_path = os.path.isdir(old_path)\n",
    "if not new_path:\n",
    "    os.makedirs(old_path)\n",
    "    print(\"Created Folder : \", old_path)\n",
    "else:\n",
    "    print(old_path, \"folder already exists.\")\n",
    "\n",
    "results_path= cwd+\"/Results/\"+old_path\n",
    "\n",
    "os.chdir(results_path)\n",
    "\n",
    "Fig_folder= \"/Figures\"\n",
    "os.path.isdir(results_path+Fig_folder)\n",
    "\n",
    "new_path = os.path.isdir(results_path+Fig_folder)\n",
    "if not new_path:\n",
    "    os.mkdir(\"Figures\")\n",
    "    print(\"Created Folder : \", Fig_folder)\n",
    "else:\n",
    "    print(Fig_folder, \"folder already exists.\")\n",
    "\n",
    "results_figures_path= results_path+Fig_folder"
   ]
  },
  {
   "cell_type": "markdown",
   "metadata": {},
   "source": [
    "## Generate list of species (combination of river section-compartment-MPform-sizeFraction)"
   ]
  },
  {
   "cell_type": "code",
   "execution_count": null,
   "metadata": {
    "ExecuteTime": {
     "end_time": "2022-04-06T13:18:08.417564Z",
     "start_time": "2022-04-06T13:18:08.398615Z"
    }
   },
   "outputs": [],
   "source": [
    "#Generate COMBINATIONS\n",
    "combinations = list(itertools.product(riverSect,riverComp,MPforms,sizeBin))\n",
    "#Generate raw list of combinations and lists of concentrations (C) and inflows (I)\n",
    "CombList = []\n",
    "Ilist = []\n",
    "Clist =[]\n",
    "def convertTuple(tup): \n",
    "    str =  ''.join(tup) \n",
    "    return str\n",
    "for e in combinations:\n",
    "    Clist.append(\"C_\" + convertTuple(e))\n",
    "    Ilist.append(\"I_\" + convertTuple(e))\n",
    "    CombList.append(convertTuple(e))"
   ]
  },
  {
   "cell_type": "markdown",
   "metadata": {},
   "source": [
    "# Model Run\n",
    "\n",
    "## -Estimate Rate constants"
   ]
  },
  {
   "cell_type": "code",
   "execution_count": null,
   "metadata": {
    "ExecuteTime": {
     "end_time": "2022-04-06T14:39:29.778579Z",
     "start_time": "2022-04-06T14:39:20.306568Z"
    }
   },
   "outputs": [],
   "source": [
    "RC_df=RC_estimation_function(processList,CombList,Clist,MP_prop,compartments_prop,process_df,numberRS, composition,mode2, mode, date,riverComp,MPforms,sizeBin,river_flows)"
   ]
  },
  {
   "cell_type": "markdown",
   "metadata": {},
   "source": [
    "#### Rate constants dataframe "
   ]
  },
  {
   "cell_type": "code",
   "execution_count": null,
   "metadata": {
    "ExecuteTime": {
     "end_time": "2022-04-06T14:39:32.849052Z",
     "start_time": "2022-04-06T14:39:32.811154Z"
    }
   },
   "outputs": [],
   "source": [
    "RC_df"
   ]
  },
  {
   "cell_type": "code",
   "execution_count": null,
   "metadata": {
    "ExecuteTime": {
     "end_time": "2022-04-06T14:40:43.435408Z",
     "start_time": "2022-04-06T14:40:43.366549Z"
    }
   },
   "outputs": [],
   "source": [
    "### Reshape table of RC\n",
    "RC_df_tidy=reshape_RC_df(RC_df,CombList)\n",
    "RC_df_final=RC_df_tidy.pivot_table(index=[\"Compartment\", \"MP_form\", \"SizeFrac\"],columns='Process', values='k_s-1')\n",
    "RC_df_final"
   ]
  },
  {
   "cell_type": "markdown",
   "metadata": {},
   "source": [
    "### Table of Half life times (hours)"
   ]
  },
  {
   "cell_type": "code",
   "execution_count": null,
   "metadata": {
    "ExecuteTime": {
     "end_time": "2022-04-06T14:41:49.189622Z",
     "start_time": "2022-04-06T14:41:49.154025Z"
    }
   },
   "outputs": [],
   "source": [
    "Half_life_df_h=RC_df_tidy.pivot_table(index=[\"Compartment\", \"MP_form\", \"SizeFrac\"], \n",
    "                    columns='Process', \n",
    "                    values='t1/2_h')\n",
    "Half_life_df_h"
   ]
  },
  {
   "cell_type": "markdown",
   "metadata": {},
   "source": [
    "### Heat maps of half-life times "
   ]
  },
  {
   "cell_type": "code",
   "execution_count": null,
   "metadata": {
    "ExecuteTime": {
     "end_time": "2022-04-06T14:42:07.389473Z",
     "start_time": "2022-04-06T14:42:05.903685Z"
    }
   },
   "outputs": [],
   "source": [
    "T_hm_array= [Half_life_df_h.loc[\"Surface Water\"],Half_life_df_h.loc[\"Flowing Water\"],Half_life_df_h.loc[\"Stagnant Water\"],Half_life_df_h.loc[\"Sediment\"]]\n",
    "T_hm_array_ts=[x.transpose() for x in T_hm_array]\n",
    "T_hm_array_ts=[y.replace(0, 0.0001) for y in T_hm_array_ts]\n",
    "\n",
    "for y in range(len(T_hm_array_ts)):\n",
    "    T_hm_array_ts[y].index = pd.CategoricalIndex(T_hm_array_ts[y].index, categories= [\"degradation\", \"fragmentation\",\"mixing\",\"biofilm\", \"heteroagg\", \"breakup\", \"advection\",\"settling\",\"rising\", \"resusp\", \"burial\",\"sedTransport\", \"defouling\"])\n",
    "    T_hm_array_ts[y].sort_index(level=0, inplace=True)\n",
    "    plt.figure(figsize=(10,5))\n",
    "    log_norm = LogNorm(vmin=T_hm_array_ts[y].min().min(), vmax=T_hm_array_ts[y].max().max())\n",
    "    ax = sns.heatmap(T_hm_array_ts[y],mask=(T_hm_array_ts[y]==0.0001), annot=False,annot_kws={\"size\":12}, fmt=\".2g\", cmap='GnBu',linewidth=0.01, linecolor='white', square=True, robust = True, cbar_kws={'label': 't_half (hours)'},norm=log_norm)\n",
    "    ax.invert_xaxis()\n",
    "    ax.set_title(compartments[y])\n",
    "    # Drawing the frame\n",
    "    for _, spine in ax.spines.items():\n",
    "        spine.set_visible(True)\n",
    "        spine.set_linewidth(1)\n",
    "    ax.set_facecolor('lightgrey')\n",
    "    plt.show()"
   ]
  },
  {
   "cell_type": "markdown",
   "metadata": {},
   "source": [
    "## -Generate Interactions Matrix"
   ]
  },
  {
   "cell_type": "code",
   "execution_count": null,
   "metadata": {
    "ExecuteTime": {
     "end_time": "2022-04-06T14:44:47.258110Z",
     "start_time": "2022-04-06T14:42:16.848448Z"
    }
   },
   "outputs": [],
   "source": [
    "interactions_df= fillMatrixInteractionsRiver_new (RC_df, Clist,compartments_prop,river_flows)"
   ]
  },
  {
   "cell_type": "markdown",
   "metadata": {},
   "source": [
    "### Interactions dataframe"
   ]
  },
  {
   "cell_type": "code",
   "execution_count": null,
   "metadata": {
    "ExecuteTime": {
     "end_time": "2022-04-06T14:44:48.327793Z",
     "start_time": "2022-04-06T14:44:48.285881Z"
    }
   },
   "outputs": [],
   "source": [
    "interactions_df"
   ]
  },
  {
   "cell_type": "markdown",
   "metadata": {},
   "source": [
    "## - SOLVER"
   ]
  },
  {
   "cell_type": "code",
   "execution_count": null,
   "metadata": {
    "ExecuteTime": {
     "end_time": "2022-04-06T14:45:14.909895Z",
     "start_time": "2022-04-06T14:45:14.808605Z"
    }
   },
   "outputs": [],
   "source": [
    "#Initial number of particles in the system \n",
    "PartNum_t0 = pd.DataFrame(index=Clist, columns=['number of particles'])\n",
    "for p in range(len(PartNum_t0)):\n",
    "        PartNum_t0.iloc[p][0]= 0\n",
    "PartNum_t0.loc[\"C_\"+imputMP]=imputPulse\n",
    "\n",
    "#Inflow of particles as particles per second \n",
    "Ilist = []\n",
    "for C in Clist:\n",
    "    Ilist.append(\"I\"+ C[1:])\n",
    "inflow_vector = pd.DataFrame(index=Ilist, columns=[\"number of particles\"])\n",
    "inflow_vector.loc[:,:] = 0\n",
    "inflow_vector.loc[\"I_\"+imputMP] = imputFlow/60 #transformed to particles per sec\n",
    "\n",
    "#Model funcion\n",
    "def dNdt_2(N,t,k,I):  \n",
    "    dNdt=np.dot(N,k)+I\n",
    "    return np.squeeze(dNdt)"
   ]
  },
  {
   "cell_type": "code",
   "execution_count": null,
   "metadata": {
    "ExecuteTime": {
     "end_time": "2022-04-06T14:45:15.866884Z",
     "start_time": "2022-04-06T14:45:15.852854Z"
    }
   },
   "outputs": [],
   "source": [
    "# intitial condition\n",
    "N0 = PartNum_t0['number of particles'].to_numpy(dtype=\"float\")\n",
    "I= inflow_vector['number of particles'].to_numpy(dtype=\"float\")\n",
    "# time points\n",
    "time = np.linspace(0, tmax, int(timesteps)+1, dtype=int)##in seconds"
   ]
  },
  {
   "cell_type": "code",
   "execution_count": null,
   "metadata": {
    "ExecuteTime": {
     "end_time": "2022-04-06T14:46:25.058979Z",
     "start_time": "2022-04-06T14:45:16.833419Z"
    }
   },
   "outputs": [],
   "source": [
    "#Solve ODEs\n",
    "if SOLVER == 'Dynamic':\n",
    "    k=interactions_df.to_numpy()\n",
    "    Nfinal=odeint(dNdt_2, N0, time, args =(k,I), col_deriv=True)\n",
    "    NFinal_num = pd.DataFrame(data = Nfinal, index=t_span , columns= Clist)  \n",
    "    \n",
    "elif SOLVER == \"SteadyState\":\n",
    "    print(\"Steady State not yet implemented\")\n",
    "NFinal_num    "
   ]
  },
  {
   "cell_type": "code",
   "execution_count": null,
   "metadata": {
    "ExecuteTime": {
     "end_time": "2022-04-06T14:47:33.797307Z",
     "start_time": "2022-04-06T14:46:26.065884Z"
    }
   },
   "outputs": [],
   "source": [
    "#Vector of volumes corresponding to the compartments of the river\n",
    "dilution_vol_m3= volumesVector(Clist,compartments_prop)\n",
    "\n",
    "ConcFinal_num_m3= pd.DataFrame(data = 0, index=t_span , columns= Clist) \n",
    "for ind in range(len(NFinal_num)):\n",
    "    ConcFinal_num_m3.iloc[ind]=NFinal_num.iloc[ind]/dilution_vol_m3\n",
    "\n",
    "#Substitute values smaller than 10-5 to 0\n",
    "ConcFinal_num_m3 = ConcFinal_num_m3.apply(lambda x: [y if y >= 1e-15 else 0 for y in x])"
   ]
  },
  {
   "cell_type": "markdown",
   "metadata": {},
   "source": [
    "### Concentrations dataframe (particle number/m3)"
   ]
  },
  {
   "cell_type": "code",
   "execution_count": null,
   "metadata": {
    "ExecuteTime": {
     "end_time": "2022-04-06T13:25:54.200471Z",
     "start_time": "2022-04-06T13:25:54.171549Z"
    }
   },
   "outputs": [],
   "source": [
    "ConcFinal_num_m3"
   ]
  },
  {
   "cell_type": "markdown",
   "metadata": {},
   "source": [
    "### Concentrations dataframe (mg/m3)"
   ]
  },
  {
   "cell_type": "code",
   "execution_count": null,
   "metadata": {
    "ExecuteTime": {
     "end_time": "2022-04-06T14:47:35.272957Z",
     "start_time": "2022-04-06T14:47:34.887306Z"
    }
   },
   "outputs": [],
   "source": [
    "volume= RC_df.loc[\"volume_m3\"].to_numpy()\n",
    "density= RC_df.loc[\"density_kg_m3\"].to_numpy()\n",
    "ConcFinal_mg_m3=ConcFinal_num_m3*volume*density*10**6\n",
    "ConcFinal_mg_m3"
   ]
  },
  {
   "cell_type": "markdown",
   "metadata": {},
   "source": [
    "# Plot results"
   ]
  },
  {
   "cell_type": "markdown",
   "metadata": {},
   "source": [
    "## Multyplots graphs: Concentration over time"
   ]
  },
  {
   "cell_type": "markdown",
   "metadata": {},
   "source": [
    "### Select time span units for plotting (t_span_plot)"
   ]
  },
  {
   "cell_type": "code",
   "execution_count": null,
   "metadata": {
    "ExecuteTime": {
     "end_time": "2022-04-06T14:47:36.231981Z",
     "start_time": "2022-04-06T14:47:36.217027Z"
    }
   },
   "outputs": [],
   "source": [
    "t_span_sec = np.linspace(t0, tmax, int(timesteps)+1, dtype=int)\n",
    "t_span_min=t_span_sec/60\n",
    "t_span_h = t_span_min/60\n",
    "t_span_days = t_span_h/24\n",
    "t_span_months = t_span_days/30"
   ]
  },
  {
   "cell_type": "code",
   "execution_count": null,
   "metadata": {
    "ExecuteTime": {
     "end_time": "2022-04-06T14:47:37.258281Z",
     "start_time": "2022-04-06T14:47:37.244346Z"
    }
   },
   "outputs": [],
   "source": [
    "t_span_plot = t_span_months"
   ]
  },
  {
   "cell_type": "markdown",
   "metadata": {},
   "source": [
    "### Select river sections to plot"
   ]
  },
  {
   "cell_type": "code",
   "execution_count": null,
   "metadata": {
    "ExecuteTime": {
     "end_time": "2022-04-06T13:26:59.129267Z",
     "start_time": "2022-04-06T13:26:59.116266Z"
    }
   },
   "outputs": [],
   "source": [
    "RS= [\"0\",\"3\",\"5\",\"9\",\"10\",\"12\",\"19\"] "
   ]
  },
  {
   "cell_type": "markdown",
   "metadata": {},
   "source": [
    "### Select color palette and style"
   ]
  },
  {
   "cell_type": "code",
   "execution_count": null,
   "metadata": {
    "ExecuteTime": {
     "end_time": "2022-04-06T14:47:38.450512Z",
     "start_time": "2022-04-06T14:47:38.437339Z"
    }
   },
   "outputs": [],
   "source": [
    "palette = plt.get_cmap('Set2')\n",
    "plt.style.use('seaborn-white')"
   ]
  },
  {
   "cell_type": "markdown",
   "metadata": {},
   "source": [
    "### Plot"
   ]
  },
  {
   "cell_type": "code",
   "execution_count": null,
   "metadata": {
    "ExecuteTime": {
     "end_time": "2022-04-06T13:27:20.043449Z",
     "start_time": "2022-04-06T13:27:03.711151Z"
    }
   },
   "outputs": [],
   "source": [
    "figures=[]\n",
    "png_labels=[]\n",
    "for p in range(len(MPforms)):\n",
    "    fig, axs = plt.subplots(len(compartments),len(RS), figsize=(30, 15),sharex='col')\n",
    "    fig.suptitle(\"Concentration of \"+ composition +\" \" + MPformslabels[p]+ \" (Num/$m^3$) over time\", fontsize=30)\n",
    "    for i in range(len(RS)):\n",
    "        for j in range(len(compartments)):\n",
    "           for k in range(len(sizeBin)):\n",
    "\n",
    "               axs[j,i].plot(ConcFinal_num_m3.index/60/60/24, ConcFinal_num_m3.loc[:,\"C_\"+RS[i]+str(j+1)+MPforms[p]+ sizeBin[k]], label= sizeBinLabel[k], color=palette(k), linewidth=3);\n",
    "               axs[j,i].set_yscale(\"log\")\n",
    "               axs[j,i].set_ylim(0,1e-1)\n",
    "               if RS[i] == \"0\":\n",
    "                   axs[j,i].set_title(compartments[j]+\"\\n 0-\" + str(int(RS_cumLength_m[int(RS[i])]/1000))+\" km distance \", y=1.0)\n",
    "               else:               \n",
    "                   axs[j,i].set_title(compartments[j]+\"\\n \"+str(int(RS_cumLength_m[int(RS[i])-1]/1000))+ \"-\" + str(int(RS_cumLength_m[int(RS[i])]/1000))+\" km distance \", y=1.0)\n",
    "\n",
    "               #axs[j,i].set_yscale('log')\n",
    "               axs[j,i].legend()\n",
    "                  \n",
    "\n",
    "    # Axis titles\n",
    "    plt.text(0.1, 0.5, \"Concentration of particles (Num/$m^3$)\", fontsize=18, transform=plt.gcf().transFigure, rotation='vertical',ha='center', va='center')\n",
    "    plt.text(0.5, 0.1, \"time (days)\", fontsize=18, transform=plt.gcf().transFigure, ha='center', va='center')\n",
    "    png_label = \"Concentration_Num_m3_Multiplot_sizeBins_\"+ MPformslabels[p] +\"_\" +composition+'.png'\n",
    "    png_labels.append(png_label)\n",
    "    figures.append(fig)"
   ]
  },
  {
   "cell_type": "markdown",
   "metadata": {},
   "source": [
    "## Multyplots graphs: Concentration vs distance over time "
   ]
  },
  {
   "cell_type": "markdown",
   "metadata": {},
   "source": [
    "### - Organise results for dynamic plotting (GIF)"
   ]
  },
  {
   "cell_type": "markdown",
   "metadata": {},
   "source": [
    "#### Function to extract concentration values by size fraction"
   ]
  },
  {
   "cell_type": "code",
   "execution_count": null,
   "metadata": {
    "ExecuteTime": {
     "end_time": "2022-04-06T13:27:22.019773Z",
     "start_time": "2022-04-06T13:27:22.004803Z"
    }
   },
   "outputs": [],
   "source": [
    "#Select Concentration Units: number of particles or mass\n",
    "ConcPlot_choice=\"ConcFinal_num_m3\"\n",
    "if ConcPlot_choice == \"ConcFinal_num_m3\":\n",
    "    ConcPlot = ConcFinal_num_m3\n",
    "    ConcPlot_units= [\"(No/$m^3$)\",\"Num_m3\"]\n",
    "elif ConcPlot_choice == \"ConcFinal_mg_m3\":\n",
    "    ConcPlot = ConcFinal_mg_m3\n",
    "    ConcPlot_units= [\"(mg/$m^3$)\",\"mg_m3\"]\n",
    "else:\n",
    "    print (\"Choose correct concentration dataframe\")"
   ]
  },
  {
   "cell_type": "code",
   "execution_count": null,
   "metadata": {
    "ExecuteTime": {
     "end_time": "2022-04-06T13:27:22.657569Z",
     "start_time": "2022-04-06T13:27:22.644016Z"
    }
   },
   "outputs": [],
   "source": [
    "def extract_SizeBins (t, comp, MPform,):\n",
    "    Aa=[]\n",
    "    Ab=[]\n",
    "    Ac=[]\n",
    "    Ad=[]\n",
    "    Ae=[]\n",
    "    for i in range(len(listRS)):\n",
    "        Aa.append(ConcPlot.values[t, Clist.index(\"C_\"+str(listRS[i])+comp+MPform+\"a\")])\n",
    "        Ab.append(ConcPlot.values[t, Clist.index(\"C_\"+str(listRS[i])+comp+MPform+\"b\")])\n",
    "        Ac.append(ConcPlot.values[t, Clist.index(\"C_\"+str(listRS[i])+comp+MPform+\"c\")])\n",
    "        Ad.append(ConcPlot.values[t, Clist.index(\"C_\"+str(listRS[i])+comp+MPform+\"d\")]) \n",
    "        Ae.append(ConcPlot.values[t, Clist.index(\"C_\"+str(listRS[i])+comp+MPform+\"e\")]) \n",
    "    return [Aa, Ab, Ac, Ad, Ae]"
   ]
  },
  {
   "cell_type": "markdown",
   "metadata": {},
   "source": [
    "#### Function to extract lists from a list by criteria"
   ]
  },
  {
   "cell_type": "code",
   "execution_count": null,
   "metadata": {
    "ExecuteTime": {
     "end_time": "2022-04-06T13:27:23.402470Z",
     "start_time": "2022-04-06T13:27:23.385553Z"
    }
   },
   "outputs": [],
   "source": [
    "def listofindex(criteria,Clist):                                                                                                             \n",
    "    lista= [[] for x in range(len(criteria))]\n",
    "    for i in range(len(lista)):\n",
    "        lista[i] = [n for n in Clist if criteria[i] in n[-3:]]\n",
    "    return lista"
   ]
  },
  {
   "cell_type": "markdown",
   "metadata": {},
   "source": [
    "#### Extract list of indexes needed for plotting"
   ]
  },
  {
   "cell_type": "code",
   "execution_count": null,
   "metadata": {
    "ExecuteTime": {
     "end_time": "2022-04-06T13:27:24.362596Z",
     "start_time": "2022-04-06T13:27:24.341654Z"
    }
   },
   "outputs": [],
   "source": [
    "list_of_indexesMpType=listofindex(MPforms,Clist)\n",
    "list_of_indexesCompartments=listofindex(riverComp,Clist)\n",
    "list_ofindexesSizeBins=listofindex(sizeBin,Clist)"
   ]
  },
  {
   "cell_type": "markdown",
   "metadata": {},
   "source": [
    "#### Define time resolution for extracting results (time_extract)"
   ]
  },
  {
   "cell_type": "code",
   "execution_count": null,
   "metadata": {
    "ExecuteTime": {
     "end_time": "2022-04-06T13:27:25.257132Z",
     "start_time": "2022-04-06T13:27:25.251148Z"
    }
   },
   "outputs": [],
   "source": [
    "numTstep_hour=(60*60/stepSize)\n",
    "Time_months=t_span[::(int(numTstep_hour*24*30))]\n",
    "Time_days=t_span[::(int(numTstep_hour*24))]\n",
    "Time_halfMonth=t_span[::(int(numTstep_hour*24*15))]\n",
    "Time_5days=t_span[::(int(numTstep_hour*24*5))]#5 days"
   ]
  },
  {
   "cell_type": "code",
   "execution_count": null,
   "metadata": {
    "ExecuteTime": {
     "end_time": "2022-04-06T14:47:39.412755Z",
     "start_time": "2022-04-06T14:47:39.397679Z"
    }
   },
   "outputs": [],
   "source": [
    "time_extract=Time_months"
   ]
  },
  {
   "cell_type": "markdown",
   "metadata": {},
   "source": [
    "#### Extract data for plotting"
   ]
  },
  {
   "cell_type": "markdown",
   "metadata": {},
   "source": [
    "#### Set x values (distance in km)"
   ]
  },
  {
   "cell_type": "code",
   "execution_count": null,
   "metadata": {
    "ExecuteTime": {
     "end_time": "2022-04-06T14:47:40.373050Z",
     "start_time": "2022-04-06T14:47:40.360063Z"
    }
   },
   "outputs": [],
   "source": [
    "#Distance values\n",
    "x =[d/1000 for d in RS_cumLength_m]\n",
    "compartmentsLabel=[\"Surface\\n Water\", \"Flowing\\n Water\", \"Stagnant\\n Water\", \"Sediment\"]"
   ]
  },
  {
   "cell_type": "markdown",
   "metadata": {},
   "source": [
    "#### Dataframe of y values (num/m$^3$)"
   ]
  },
  {
   "cell_type": "code",
   "execution_count": null,
   "metadata": {
    "ExecuteTime": {
     "end_time": "2022-04-06T13:28:10.046501Z",
     "start_time": "2022-04-06T13:27:29.967482Z"
    }
   },
   "outputs": [],
   "source": [
    "y_multiplot_time= [[] for t in range(len(time_extract))]\n",
    "for t in range(len(time_extract)):\n",
    "    y_multiplot =pd.DataFrame(index=compartments, columns=MPformslabels)\n",
    "    #Estimate relative abundance of MP types in the whole river and of particles per compartment\n",
    "    for j in range(len(compartments)):\n",
    "            for k in range(len(MPforms)):\n",
    "                y_multiplot.iloc[j,k] = extract_SizeBins(int(time_extract[t]/stepSize), str(j+1),MPforms[k])  \n",
    "    y_multiplot_time[t]=y_multiplot               \n",
    "y_multiplot_time     "
   ]
  },
  {
   "cell_type": "markdown",
   "metadata": {},
   "source": [
    "#### Distribution of MPs per aggregation state and compartment over time relative to particle number\n"
   ]
  },
  {
   "cell_type": "code",
   "execution_count": null,
   "metadata": {
    "ExecuteTime": {
     "end_time": "2022-04-06T13:28:11.187175Z",
     "start_time": "2022-04-06T13:28:11.063470Z"
    }
   },
   "outputs": [],
   "source": [
    "MpTypeNum_t=pd.DataFrame(index=range(len(time_extract)),columns=[\"Timepoint (min)\"]+[m+\" (Total number)\" for m in MPformslabels]+[\"Total\"])\n",
    "RelativeAbun_MPtype_t=pd.DataFrame(0, columns=[\"Timepoint (days)\"]+[m+\" (%)\" for m in MPformslabels], index=MpTypeNum_t.index)\n",
    "compNum_t=pd.DataFrame(index=range(len(time_extract)),columns=[\"Timepoint (min)\"]+[m+\" (Total number)\" for m in compartments]+[\"Total\"])\n",
    "RelativeAbun_Comp=pd.DataFrame(0, columns=[\"Timepoint (days)\"]+[m+\" (%)\" for m in compartments], index=MpTypeNum_t.index)\n",
    "for t in range(len(time_extract)):\n",
    "    #Convert concentration to particle number\n",
    "    PartNum_timestep=ConcFinal_num_m3.iloc[int(time_extract[t]/stepSize)]*dilution_vol_m3\n",
    "    MpTypeNum_t.iloc[t,len(MPforms)+1]=sum(PartNum_timestep)\n",
    "    PartNum_timestep=PartNum_timestep.to_frame()\n",
    "    for mp in range(1,1+len(MPforms)):\n",
    "        MpTypeNum_t.iloc[t,mp]=sum(PartNum_timestep.loc[list_of_indexesMpType[mp-1], :][time_extract[t]].to_list())\n",
    "        if MpTypeNum_t.iloc[t,len(MPforms)+1] == 0:\n",
    "            RelativeAbun_MPtype_t.iloc[t,mp]= 0\n",
    "        else:\n",
    "            RelativeAbun_MPtype_t.iloc[t,mp]=round((MpTypeNum_t.iloc[t,mp]/MpTypeNum_t.iloc[t,len(MPforms)+1])*100,2)\n",
    "    for com in range(1,1+len(compartments)):\n",
    "        compNum_t.iloc[t,com]=sum(PartNum_timestep.loc[list_of_indexesCompartments[com-1], :][time_extract[t]].to_list())\n",
    "        if MpTypeNum_t.iloc[t,len(MPforms)+1]== 0:\n",
    "            RelativeAbun_Comp.iloc[t,com]=0\n",
    "        else:\n",
    "            RelativeAbun_Comp.iloc[t,com]=round((compNum_t.iloc[t,com]/MpTypeNum_t.iloc[t,len(MPforms)+1])*100,2)\n",
    "    RelativeAbun_MPtype_t.iloc[t,0]=t\n",
    "    MpTypeNum_t.iloc[t,0]=time_extract[t]/stepSize\n",
    "    compNum_t.iloc[t,0]=time_extract[t]/stepSize\n",
    "    RelativeAbun_Comp.iloc[t,0]=t"
   ]
  },
  {
   "cell_type": "markdown",
   "metadata": {},
   "source": [
    "#### - Relative abundance of MPs aggregation states in the whole system per time step"
   ]
  },
  {
   "cell_type": "code",
   "execution_count": null,
   "metadata": {
    "ExecuteTime": {
     "end_time": "2022-04-06T13:28:12.176851Z",
     "start_time": "2022-04-06T13:28:12.162880Z"
    }
   },
   "outputs": [],
   "source": [
    "sum(PartNum_timestep.loc[list_of_indexesCompartments[com-1], :][time_extract[t]])"
   ]
  },
  {
   "cell_type": "code",
   "execution_count": null,
   "metadata": {
    "ExecuteTime": {
     "end_time": "2022-04-06T13:28:13.296255Z",
     "start_time": "2022-04-06T13:28:13.272319Z"
    }
   },
   "outputs": [],
   "source": [
    "compNum_t"
   ]
  },
  {
   "cell_type": "code",
   "execution_count": null,
   "metadata": {
    "ExecuteTime": {
     "end_time": "2022-04-06T13:28:14.484305Z",
     "start_time": "2022-04-06T13:28:14.470342Z"
    }
   },
   "outputs": [],
   "source": [
    "RelativeAbun_MPtype_t"
   ]
  },
  {
   "cell_type": "markdown",
   "metadata": {},
   "source": [
    "#### - Fractionation of MPs per compartmet over time for the whole system"
   ]
  },
  {
   "cell_type": "code",
   "execution_count": null,
   "metadata": {
    "ExecuteTime": {
     "end_time": "2022-04-06T13:28:15.550266Z",
     "start_time": "2022-04-06T13:28:15.536302Z"
    }
   },
   "outputs": [],
   "source": [
    "RelativeAbun_Comp"
   ]
  },
  {
   "cell_type": "markdown",
   "metadata": {},
   "source": [
    "#### - Relative abundance per size fraction after 1 year run"
   ]
  },
  {
   "cell_type": "code",
   "execution_count": null,
   "metadata": {
    "ExecuteTime": {
     "end_time": "2022-04-06T13:28:16.561054Z",
     "start_time": "2022-04-06T13:28:16.547618Z"
    }
   },
   "outputs": [],
   "source": [
    "#Define time step (1year)\n",
    "time=range(len(t_span))\n",
    "t=time[-1]# last time step "
   ]
  },
  {
   "cell_type": "code",
   "execution_count": null,
   "metadata": {
    "ExecuteTime": {
     "end_time": "2022-04-06T13:28:17.627759Z",
     "start_time": "2022-04-06T13:28:17.583459Z"
    }
   },
   "outputs": [],
   "source": [
    "# Estimate total number of particles per size fraction in each compartment for the whole river\n",
    "SizeFracNum_comp=pd.DataFrame(index=sizeBinLabel,columns= compartments)\n",
    "for siz in range(len(sizeBin)):\n",
    "    for co in range(len(SizeFracNum_comp.columns)):  \n",
    "        list_sb= [n for n in list_of_indexesCompartments[co] if sizeBin[siz] in n[-3:]]\n",
    "        SizeFracNum_comp.iloc[siz,co]=sum(NFinal_num[list_sb].iloc[t].to_list())\n",
    "\n",
    "SizeFracNum_comp"
   ]
  },
  {
   "cell_type": "code",
   "execution_count": null,
   "metadata": {
    "ExecuteTime": {
     "end_time": "2022-04-06T13:28:18.732602Z",
     "start_time": "2022-04-06T13:28:18.704678Z"
    }
   },
   "outputs": [],
   "source": [
    "Total_num_water=sum(sum(SizeFracNum_comp[compartments[0:3]].values))\n",
    "Total_num_sediment=sum(SizeFracNum_comp[compartments[-1]].values)\n",
    "RelativeAbun_SizeFrac=pd.DataFrame(index=sizeBinLabel,columns=[\"Relative abundance in water (%)\", \"Relative abundance in sediment (%)\"])\n",
    "for siz in range(len(sizeBin)):\n",
    "    if sum(SizeFracNum_comp.iloc[siz][compartments[0:3]].values)==0:\n",
    "        RelativeAbun_SizeFrac.iloc[siz,0]=0\n",
    "    else:\n",
    "        RelativeAbun_SizeFrac.iloc[siz,0]=round((sum(SizeFracNum_comp.iloc[siz][compartments[0:3]].values)/Total_num_water)*100,2)\n",
    "    if SizeFracNum_comp.iloc[siz][compartments[-1]]==0:\n",
    "        RelativeAbun_SizeFrac.iloc[siz,1]=0\n",
    "    else:\n",
    "        RelativeAbun_SizeFrac.iloc[siz,1]=round((SizeFracNum_comp.iloc[siz][compartments[-1]]/Total_num_sediment)*100,2)\n",
    "RelativeAbun_SizeFrac"
   ]
  },
  {
   "cell_type": "code",
   "execution_count": null,
   "metadata": {
    "ExecuteTime": {
     "end_time": "2022-04-06T13:28:19.776011Z",
     "start_time": "2022-04-06T13:28:19.733126Z"
    }
   },
   "outputs": [],
   "source": [
    "# Estimate total number of particles per size fraction in each compartment for the downstream section (last 200 km )\n",
    "SizeFracNum_comp_downs=pd.DataFrame(index=sizeBinLabel,columns= compartments)\n",
    "for siz in range(len(sizeBin)):\n",
    "    for co in range(len(SizeFracNum_comp.columns)):\n",
    "        list_sb= [n for n in list_of_indexesCompartments[co] if sizeBin[siz] in n[-3:]]\n",
    "        list_sb_downstream=list_sb[20*4-4*4:]\n",
    "        SizeFracNum_comp_downs.iloc[siz,co]=sum(NFinal_num[list_sb_downstream].iloc[t].to_list())\n",
    "\n",
    "SizeFracNum_comp_downs\n",
    "Total_num_water_downs=sum(sum(SizeFracNum_comp_downs[compartments[0:3]].values))\n",
    "Total_num_sediment_downs=sum(SizeFracNum_comp_downs[compartments[-1]].values)\n",
    "RelativeAbun_SizeFrac_downs=pd.DataFrame(index=sizeBinLabel,columns=[\"Relative abundance in water (%)\", \"Relative abundance in sediment (%)\"])\n",
    "for siz in range(len(sizeBin)):\n",
    "    if sum(SizeFracNum_comp_downs.iloc[siz][compartments[0:3]].values)==0:\n",
    "        RelativeAbun_SizeFrac_downs.iloc[siz,0]=0\n",
    "    else:\n",
    "        RelativeAbun_SizeFrac_downs.iloc[siz,0]=round((sum(SizeFracNum_comp_downs.iloc[siz][compartments[0:3]].values)/Total_num_water_downs)*100,2)\n",
    "    if SizeFracNum_comp_downs.iloc[siz][compartments[-1]]==0:\n",
    "        RelativeAbun_SizeFrac_downs.iloc[siz,1]=0\n",
    "    else:\n",
    "        RelativeAbun_SizeFrac_downs.iloc[siz,1]=round((SizeFracNum_comp_downs.iloc[siz][compartments[-1]]/Total_num_sediment_downs)*100,2)\n",
    "RelativeAbun_SizeFrac_downs"
   ]
  },
  {
   "cell_type": "markdown",
   "metadata": {},
   "source": [
    "### PLOT"
   ]
  },
  {
   "cell_type": "markdown",
   "metadata": {},
   "source": [
    "#### Choose style and colour palette"
   ]
  },
  {
   "cell_type": "code",
   "execution_count": null,
   "metadata": {
    "ExecuteTime": {
     "end_time": "2022-04-06T14:47:41.426485Z",
     "start_time": "2022-04-06T14:47:41.412453Z"
    }
   },
   "outputs": [],
   "source": [
    "palette = plt.get_cmap('Set2')\n",
    "plt.style.use('seaborn-white')\n",
    "# these are matplotlib.patch.Patch properties\n",
    "props = dict(boxstyle='round', facecolor='ivory', alpha=0.5)\n",
    "props2 = dict(boxstyle='round', facecolor='white', alpha=0.5)"
   ]
  },
  {
   "cell_type": "markdown",
   "metadata": {},
   "source": [
    "### Dynamic plot"
   ]
  },
  {
   "cell_type": "code",
   "execution_count": null,
   "metadata": {
    "ExecuteTime": {
     "end_time": "2021-10-28T13:28:14.881932Z",
     "start_time": "2021-10-28T13:27:59.526351Z"
    }
   },
   "outputs": [],
   "source": [
    "#Move to figures folder\n",
    "os.chdir(results_figures_path)\n",
    "#Generate animation\n",
    "fig, axs = plt.subplots(len(compartments),len(MPforms), figsize=(30, 15),sharex='col')\n",
    "labels = ['0.1 um', '1 um', '10 um', '100 um', '1000 um']\n",
    "if imputPulse != 0:\n",
    "    if imputFlow==0:\n",
    "        fig.suptitle( composition +\" microplastics fate in generic river over time (pulse= \"+ str(imputPulse)+\" particles of 1mm)\", fontsize=30)\n",
    "    else:\n",
    "        fig.suptitle( composition +\" microplastics fate in generic river over time (pulse= \"+ str(imputPulse)+\" + inflow= \"+str(imputFlow)+\" particles/min of 1mm)\", fontsize=30)\n",
    "else:\n",
    "    fig.suptitle( composition +\" microplastics fate in generic river over time (inflow= \"+str(imputFlow)+\" particles/min of 1mm)\", fontsize=30)\n",
    "camera = Camera(fig)\n",
    "for t in range(len(time_extract)): \n",
    "    for j in range(len(compartments)):\n",
    "        for k in range(len(MPforms)):\n",
    "            #Plot\n",
    "            y = y_multiplot_time[t].iloc[j,k]\n",
    "            axs[j,k].plot(x, y[0], linewidth=2.5,color=palette(0), label='0.1 um')\n",
    "            axs[j,k].plot(x, y[1], linewidth=2.5,color=palette(1), label='1 um')\n",
    "            axs[j,k].plot(x, y[2], linewidth=2.5,color=palette(2), label='10 um')\n",
    "            axs[j,k].plot(x, y[3], linewidth=2.5,color=palette(3), label='100 um')\n",
    "            axs[j,k].plot(x, y[4], linewidth=2.5,color=palette(4), label='1000 um')\n",
    "            axs[j,k].text(0.90,0.90,str(int(time_extract[t]/60/60/24)) + ' days', bbox=props, fontsize=12, transform=axs[j,k].transAxes, ha='center', va='center')\n",
    "            #Set axes labels and title\n",
    "            if j== 0:\n",
    "                axs[j,k].text(0.5,1.1, MPformslabels[k]+ \"\\n \" +str(RelativeAbun_MPtype_t.iloc[t,k+1])+ \" %\",fontsize=20, bbox=props2, transform= axs[j,k].transAxes, ha='center')        \n",
    "            else:\n",
    "                axs[j,k].set_title(MPformslabels[k]+ \" \" + composition+ \" particles in \"+ compartments[j],fontsize=15)\n",
    "      \n",
    "            if k==0:\n",
    "                axs[j,k].text(-0.25, 0.5, compartmentsLabel[j]+\"\\n\"+str(RelativeAbun_Comp.iloc[t,j+1])+\" %\",fontsize=20,rotation=0, va='center',ha='center',bbox=props2, transform=axs[j,k].transAxes)\n",
    "                \n",
    "        \n",
    "            axs[j,k].set_yscale('log')\n",
    "            if j==0:\n",
    "                axs[j,k].set_ylim(10**-9,10**1)\n",
    "            elif j==1:\n",
    "                axs[j,k].set_ylim(10**-9,10**1)\n",
    "            elif j== 2:\n",
    "                axs[j,k].set_ylim(10**-9,10**1)\n",
    "            else:\n",
    "                axs[j,k].set_ylim(10**-9,10**1)\n",
    "            axs[j,k].set_xlim(x[0],x[-1])\n",
    "            axs[j,k].tick_params(axis='x', labelsize=12)\n",
    "            axs[j,k].tick_params(axis='y', labelsize=12)\n",
    "           \n",
    "    # Axis titles\n",
    "    plt.text(0.05, 0.5, \"Concentration of particles \" +ConcPlot_units[0], fontsize=20, transform=plt.gcf().transFigure, rotation='vertical',ha='center', va='center')\n",
    "    plt.text(0.5, 0.08, \"Distance (km)\", fontsize=20, transform=plt.gcf().transFigure, ha='center', va='center')\n",
    "    #plt.legend(labels,bbox_to_anchor=(0.5, -0.18), loc='center',ncol=5, fontsize=15 )\n",
    "    camera.snap()\n",
    "           \n",
    "if imputPulse != 0:\n",
    "    animationTitle= composition+ \"_MPs_fate_dynamicPlot_log_monthly_\"+ConcPlot_units[1]+\"_Pulse_.gif\"\n",
    "else:\n",
    "    animationTitle= composition+ \"_MPs_fate_dynamicPlot_log_monthly_\"+ConcPlot_units[1]+\"_ConstantInflow_\"+str(imputFlow)+\".gif\"\n",
    "\n",
    "animation = camera.animate()\n",
    "animation.save(animationTitle, writer='matplotlib.animation.PillowWriter', fps=2) \n",
    "os.chdir(cwd)"
   ]
  },
  {
   "cell_type": "markdown",
   "metadata": {},
   "source": [
    "## Plot after 360 days"
   ]
  },
  {
   "cell_type": "markdown",
   "metadata": {},
   "source": [
    "#### Static plot (t=tfinal)"
   ]
  },
  {
   "cell_type": "code",
   "execution_count": null,
   "metadata": {
    "ExecuteTime": {
     "end_time": "2022-04-06T14:47:42.399769Z",
     "start_time": "2022-04-06T14:47:42.385635Z"
    }
   },
   "outputs": [],
   "source": [
    "t=len(time_extract)-1"
   ]
  },
  {
   "cell_type": "code",
   "execution_count": null,
   "metadata": {
    "ExecuteTime": {
     "end_time": "2022-04-06T14:47:47.795868Z",
     "start_time": "2022-04-06T14:47:43.374233Z"
    }
   },
   "outputs": [],
   "source": [
    "import matplotlib.ticker as ticker\n",
    "from matplotlib import ticker\n",
    "\n",
    "fig2, axs = plt.subplots(len(compartments),len(MPforms), figsize=(15, 10),sharex='col', sharey= \"row\", squeeze=\"True\")\n",
    "\n",
    "labels = ['0.1 um', '1 um', '10 um', '100 um', '1000 um']\n",
    "if imputFlow == 0:\n",
    "    fig2.suptitle( composition +\" plastic particles after \"+str(int(time_extract[t]/60/60/24)) + \" days (pulse= \"+ str(imputPulse)+\" particles of 1mm)\" , fontsize=18,  y=0.95)\n",
    "    \n",
    "else:\n",
    "    fig2.suptitle( composition +\" plastic particles after \"+str(int(time_extract[t]/60/60/24)) + \" days\" , fontsize=18,  y=0.95)\n",
    "\n",
    "for j in range(len(compartments)):\n",
    "    if j == 3:\n",
    "        for k in range(len(MPforms)):\n",
    "            #Plot\n",
    "            y = extract_SizeBins (t, riverComp[j], MPforms[k])\n",
    "            axs[j,k].plot(x, [e * 10**6/1.3 for e in y[0]], linewidth=2.5,color=palette(0), label='0.1 um')\n",
    "            axs[j,k].plot(x, [e * 10**6/1.3 for e in y[1]], linewidth=2.5,color=palette(1), label='1 um')\n",
    "            axs[j,k].plot(x, [e * 10**6/1.3 for e in y[2]], linewidth=2.5,color=palette(2), label='10 um')\n",
    "            axs[j,k].plot(x, [e * 10**6/1.3 for e in y[3]], linewidth=2.5,color=palette(3), label='100 um')\n",
    "            axs[j,k].plot(x, [e * 10**6/1.3 for e in y[4]], linewidth=2.5,color=palette(4), label='1000 um')\n",
    "\n",
    "            if k==3:\n",
    "                axs[j,k].text(1.2, 0.5, compartmentsLabel[j] ,fontsize=15,rotation=0, va='center',ha='center', transform=axs[j,k].transAxes)\n",
    "\n",
    "            axs[j,k].set_yscale('log')\n",
    "            axs[j,k].set_ylim(10**-9,1000000)\n",
    "            if k == 0:\n",
    "                axs[j,k].set_ylabel(\"Conc (mg/g)\", fontsize=15)\n",
    "            axs[j,k].yaxis.set_major_locator(ticker.LogLocator(base=10.0, numticks=4))\n",
    "            axs[j,k].set_xlim(x[0],x[-1])\n",
    "            axs[j,k].tick_params(axis='x', labelsize=12, direction='inout', length=6, width=1, grid_alpha=0.5)\n",
    "            axs[j,k].tick_params(axis='y',labelsize=10, direction='inout', length=6, width=1, grid_alpha=0.5) \n",
    "            formatter = ticker.ScalarFormatter(useMathText=True)\n",
    "            formatter.set_scientific(True) \n",
    "            formatter.set_powerlimits((-1,1)) \n",
    "    else:\n",
    "        for k in range(len(MPforms)):\n",
    "            #Plot\n",
    "            y = extract_SizeBins (t, riverComp[j], MPforms[k])\n",
    "            axs[j,k].plot(x, y[0], linewidth=2.5,color=palette(0), label='0.1 um')\n",
    "            axs[j,k].plot(x, y[1], linewidth=2.5,color=palette(1), label='1 um')\n",
    "            axs[j,k].plot(x, y[2], linewidth=2.5,color=palette(2), label='10 um')\n",
    "            axs[j,k].plot(x, y[3], linewidth=2.5,color=palette(3), label='100 um')\n",
    "            axs[j,k].plot(x, y[4], linewidth=2.5,color=palette(4), label='1000 um')\n",
    "            if j== 0:\n",
    "                axs[j,k].text(0.5,1.1, MPformslabels[k] ,fontsize=15, transform= axs[j,k].transAxes, ha='center')        \n",
    "            if k==3:\n",
    "                axs[j,k].text(1.2, 0.5, compartmentsLabel[j] ,fontsize=15,rotation=0, va='center',ha='center', transform=axs[j,k].transAxes)\n",
    "            if k == 0:\n",
    "                axs[j,k].set_ylabel(\"Conc \"+ ConcPlot_units[0], fontsize=15)\n",
    "            axs[j,k].set_yscale('log')\n",
    "            \n",
    "            if j==0:\n",
    "                axs[j,k].set_ylim(10**-9,10**1)\n",
    "                axs[j,k].yaxis.set_major_locator(ticker.LogLocator(base=10.0, numticks=4))\n",
    "            elif j==1:\n",
    "                axs[j,k].set_ylim(10**-9,10**1)\n",
    "                axs[j,k].yaxis.set_major_locator(ticker.LogLocator(base=10.0, numticks=4))\n",
    "            elif j== 2:\n",
    "                axs[j,k].set_ylim(10**-9,10**1)\n",
    "                axs[j,k].yaxis.set_major_locator(ticker.LogLocator(base=10.0, numticks=4))\n",
    "            axs[j,k].set_xlim(x[0],x[-1])\n",
    "\n",
    "            axs[j,k].tick_params(axis='x', labelsize=10, direction='inout', length=6, width=1, grid_alpha=0.5)\n",
    "            axs[j,k].tick_params(axis='y',labelsize=10, direction='inout', length=6, width=1, grid_alpha=0.5)\n",
    "            from matplotlib import ticker\n",
    "            formatter = ticker.ScalarFormatter(useMathText=True)\n",
    "            formatter.set_scientific(True) \n",
    "            formatter.set_powerlimits((-1,1)) \n",
    "            axs[j,k].minorticks_on()\n",
    "            \n",
    "           \n",
    "# Axis titles\n",
    "#plt.text(0.02, 0.5, \"Concentration of particles (Num/$m^3$)\", fontsize=15, transform=plt.gcf().transFigure, rotation='vertical',ha='center', va='center')\n",
    "plt.text(0.5, 0.08, \"Distance (km)\", fontsize=15, transform=plt.gcf().transFigure, ha='center', va='center')\n",
    "#plt.legend(labels,bbox_to_anchor=(0.5, -0.18), loc='center',ncol=5, fontsize=15 )\n",
    "plt.subplots_adjust(wspace=0.02,hspace=0.1)\n",
    "handles, labels = axs[j,k].get_legend_handles_labels()\n",
    "fig2.legend(handles, labels, bbox_to_anchor=(0.5, 0.04), loc='center',ncol=5, fontsize=15)\n",
    "if imputPulse != 0:\n",
    "    fig2_label= \"ConcvsDist_Multiplot_\"+ composition +\"_\"+ConcPlot_units[1]+\"_Pulse.png\"\n",
    "else:\n",
    "    fig2_label= \"ConcvsDist_Multiplot_\"+ composition +\"_\"+ConcPlot_units[1]+\"_ConstantInflow.png\""
   ]
  },
  {
   "cell_type": "code",
   "execution_count": null,
   "metadata": {
    "ExecuteTime": {
     "end_time": "2021-10-28T13:32:29.827381Z",
     "start_time": "2021-10-28T13:32:29.146131Z"
    }
   },
   "outputs": [],
   "source": [
    "#Save static figure\n",
    "os.chdir(results_figures_path)\n",
    "fig2.savefig(fig2_label)\n",
    "os.chdir(cwd)"
   ]
  },
  {
   "cell_type": "code",
   "execution_count": null,
   "metadata": {
    "ExecuteTime": {
     "end_time": "2021-10-28T13:32:38.287748Z",
     "start_time": "2021-10-28T13:32:34.802282Z"
    }
   },
   "outputs": [],
   "source": [
    "#Move to figures folder\n",
    "os.chdir(results_figures_path)\n",
    "#Generate animation\n",
    "fig1, axs = plt.subplots(len(compartments),len(MPforms), figsize=(30, 15),sharex='col')\n",
    "labels = ['0.1 um', '1 um', '10 um', '100 um', '1000 um']\n",
    "if imputPulse != 0:\n",
    "    if imputFlow==0:\n",
    "        fig1.suptitle( composition +\" microplastics fate in generic river (pulse= \"+ str(imputPulse)+\" particles of 1mm)\", fontsize=30)\n",
    "        fig1.text(0.5,0.5,str(int(time_extract[t]/60/60/24)) + ' days', bbox=props, fontsize=24, transform=axs[j,k].transAxes, ha='center', va='center')\n",
    "    else:\n",
    "        fig1.suptitle( composition +\" microplastics fate in generic river (pulse= \"+ str(imputPulse)+\" + inflow= \"+str(imputFlow)+\" particles/min of 1mm)\", fontsize=30)\n",
    "else:\n",
    "    fig1.suptitle( composition +\" microplastics fate in generic river over time (inflow= \"+str(imputFlow)+\" particles/min of 1mm)\", fontsize=30)\n",
    "\n",
    "for j in range(len(compartments)):\n",
    "    for k in range(len(MPforms)):\n",
    "        #Plot\n",
    "        y = y_multiplot_time[t].iloc[j,k]\n",
    "        axs[j,k].plot(x, y[0], linewidth=2.5,color=palette(0), label='0.1 um')\n",
    "        axs[j,k].plot(x, y[1], linewidth=2.5,color=palette(1), label='1 um')\n",
    "        axs[j,k].plot(x, y[2], linewidth=2.5,color=palette(2), label='10 um')\n",
    "        axs[j,k].plot(x, y[3], linewidth=2.5,color=palette(3), label='100 um')\n",
    "        axs[j,k].plot(x, y[4], linewidth=2.5,color=palette(4), label='1000 um')\n",
    "        #axs[j,k].text(0.90,0.90,str(int(time_extract[t]/60/60/24)) + ' days', bbox=props, fontsize=24, transform=axs[j,k].transAxes, ha='center', va='center')\n",
    "        #Set axes labels and title\n",
    "        if j== 0:\n",
    "            axs[j,k].text(0.5,1.1, MPformslabels[k]+ \"\\n \" +str(RelativeAbun_MPtype_t.iloc[t,k+1])+ \" %\",fontsize=20, bbox=props2, transform= axs[j,k].transAxes, ha='center')        \n",
    "        else:\n",
    "            axs[j,k].set_title(MPformslabels[k]+ \" \" + composition+ \" particles in \"+ compartments[j],fontsize=15)\n",
    "\n",
    "        if k==0:\n",
    "            axs[j,k].text(-0.25, 0.5, compartmentsLabel[j]+\"\\n\"+str(RelativeAbun_Comp.iloc[t,j+1])+\" %\",fontsize=20,rotation=0, va='center',ha='center',bbox=props2, transform=axs[j,k].transAxes)\n",
    "\n",
    "\n",
    "        axs[j,k].set_yscale('log')\n",
    "        if j==0:\n",
    "            axs[j,k].set_ylim(10**-9,10**1)\n",
    "        elif j==1:\n",
    "            axs[j,k].set_ylim(10**-9,10**1)\n",
    "        elif j== 2:\n",
    "            axs[j,k].set_ylim(10**-9,10**1)\n",
    "        else:\n",
    "            axs[j,k].set_ylim(10**-9,10**1)\n",
    "        axs[j,k].set_xlim(x[0],x[-1])\n",
    "        axs[j,k].tick_params(axis='x', labelsize=12)\n",
    "        axs[j,k].tick_params(axis='y', labelsize=12)\n",
    "\n",
    "# Axis titles\n",
    "plt.text(0.05, 0.5, \"Concentration of particles \" +ConcPlot_units[0], fontsize=20, transform=plt.gcf().transFigure, rotation='vertical',ha='center', va='center')\n",
    "plt.text(0.5, 0.08, \"Distance (km)\", fontsize=20, transform=plt.gcf().transFigure, ha='center', va='center')\n",
    "#plt.legend(labels,bbox_to_anchor=(0.5, -0.18), loc='center',ncol=5, fontsize=15 )\n",
    "\n",
    "           \n",
    "if imputPulse != 0:\n",
    "    animationTitle= composition+ \"_MPs_fate_dynamicPlot_log_monthly_\"+ConcPlot_units[1]+\"_Pulse_.gif\"\n",
    "else:\n",
    "    animationTitle= composition+ \"_MPs_fate_dynamicPlot_log_monthly_\"+ConcPlot_units[1]+\"_ConstantInflow_\"+str(imputFlow)+\".gif\"\n",
    "\n",
    "fig1.legend(handles, labels, bbox_to_anchor=(0.5, 0.02), loc='center',ncol=5, fontsize=24)\n",
    "if imputPulse != 0:\n",
    "    fig1_label= composition+ \"_MPs_fate_ConcvsDist_Multiplot__log_monthly_\"+ConcPlot_units[1]+\"_Pulse.png\" \n",
    "else:\n",
    "    fig1_label= composition+ \"_MPs_fate_ConcvsDist_Multiplot__log_monthly_\"+ConcPlot_units[1]+\"_ConstantInflow.png\" \n",
    "\n",
    "#Save static figure\n",
    "os.chdir(results_figures_path)\n",
    "fig1.savefig(fig1_label)\n",
    "os.chdir(cwd)"
   ]
  },
  {
   "cell_type": "markdown",
   "metadata": {},
   "source": [
    "# Save results"
   ]
  },
  {
   "cell_type": "code",
   "execution_count": null,
   "metadata": {
    "ExecuteTime": {
     "end_time": "2021-10-28T13:28:17.756426Z",
     "start_time": "2021-10-28T13:24:58.559Z"
    }
   },
   "outputs": [],
   "source": [
    "if record == \"True\":   \n",
    "    os.chdir(cwd+\"/Results\")\n",
    "    \n",
    "    #create folder for the day if it doesnt already exists\n",
    "    path = cwd+\"/Results\"\n",
    "    os.path.isdir(path)\n",
    "    old_path = (daterun_label)\n",
    "    new_path = os.path.isdir(old_path)\n",
    "    if not new_path:\n",
    "        os.makedirs(old_path)\n",
    "        print(\"Created Folder : \", old_path)\n",
    "    else:\n",
    "        print(old_path, \"folder already exists.\")\n",
    "    \n",
    "    results_path= cwd+\"/Results/\"+old_path\n",
    "    \n",
    "    os.chdir(results_path)\n",
    "    #save\n",
    "    #rate constants \n",
    "    dfRC_filename = \"RC_df\" + runtitle +\"_\"+ daterun_label + \".csv\"\n",
    "    RC_df_final.to_csv(dfRC_filename)\n",
    "    \n",
    "    #interactions dataframe to results folder\n",
    "    interactions_filename = \"interactionsdf_\"+ runtitle +\"_\"+  daterun_label + \".csv\"\n",
    "    interactions_df.to_csv(interactions_filename)\n",
    "    \n",
    "    #Results\n",
    "    filename= \"ConcVStime_particleNum_m3_\"+ runtitle +\"_\"+ daterun_label+\".csv\"\n",
    "    filename1= \"MassVStime_kg_\"+ runtitle +\"_\"+ daterun_label+\".csv\"\n",
    "    ConcFinal_num_m3.to_csv(filename)\n",
    "    ConcFinal_mg_m3.to_csv(filename1)\n",
    "    RelativeAbun_MPtype_t.to_csv(\"Relative_abundance_MPtype_\"+composition+daterun_label+\".csv\")  \n",
    "    RelativeAbun_Comp.to_csv(\"Relative_abundance_Compartment_\"+composition+daterun_label+\".csv\")  \n",
    "    \n",
    "\n",
    "    #back to working directory\n",
    "    os.chdir(cwd)\n",
    "    \n",
    "    #Save figures\n",
    "    os.chdir(results_figures_path)\n",
    "    for f in range(len(figures)):\n",
    "        figg=figures[f]\n",
    "        figg_name=png_labels[f]\n",
    "        figg.savefig(figg_name)\n",
    "    fig2.savefig(fig2_label)\n"
   ]
  }
 ],
 "metadata": {
  "kernelspec": {
   "display_name": "Python 3 (ipykernel)",
   "language": "python",
   "name": "python3"
  },
  "language_info": {
   "codemirror_mode": {
    "name": "ipython",
    "version": 3
   },
   "file_extension": ".py",
   "mimetype": "text/x-python",
   "name": "python",
   "nbconvert_exporter": "python",
   "pygments_lexer": "ipython3",
   "version": "3.9.7"
  },
  "varInspector": {
   "cols": {
    "lenName": 16,
    "lenType": 16,
    "lenVar": 40
   },
   "kernels_config": {
    "python": {
     "delete_cmd_postfix": "",
     "delete_cmd_prefix": "del ",
     "library": "var_list.py",
     "varRefreshCmd": "print(var_dic_list())"
    },
    "r": {
     "delete_cmd_postfix": ") ",
     "delete_cmd_prefix": "rm(",
     "library": "var_list.r",
     "varRefreshCmd": "cat(var_dic_list()) "
    }
   },
   "oldHeight": 358.43726,
   "position": {
    "height": "40px",
    "left": "1080.79px",
    "right": "20px",
    "top": "26.9606px",
    "width": "250px"
   },
   "types_to_exclude": [
    "module",
    "function",
    "builtin_function_or_method",
    "instance",
    "_Feature"
   ],
   "varInspector_section_display": "none",
   "window_display": true
  }
 },
 "nbformat": 4,
 "nbformat_minor": 4
}
