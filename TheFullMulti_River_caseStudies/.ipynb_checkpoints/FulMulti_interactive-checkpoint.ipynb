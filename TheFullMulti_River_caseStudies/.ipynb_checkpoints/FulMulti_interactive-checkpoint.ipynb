{
 "cells": [
  {
   "cell_type": "markdown",
   "metadata": {},
   "source": [
    "# The Full Multi Model exercise"
   ]
  },
  {
   "cell_type": "code",
   "execution_count": 1,
   "metadata": {
    "ExecuteTime": {
     "end_time": "2021-11-25T17:11:07.542110Z",
     "start_time": "2021-11-25T17:11:06.669233Z"
    }
   },
   "outputs": [],
   "source": [
    "## Import libraries and functions\n",
    "##Import libraries\n",
    "import os\n",
    "import pandas as pd\n",
    "import itertools\n",
    "import numpy as np\n",
    "import seaborn as sns\n",
    "import matplotlib.patches as mpatches\n",
    "from matplotlib import pyplot as plt\n",
    "from matplotlib.colors import LogNorm\n",
    "from scipy.integrate import odeint\n",
    "import warnings\n",
    "warnings.filterwarnings('ignore')\n",
    "##Import functions\n",
    "from objectGenerationRiver_func import*\n",
    "from GlobalConstants import * \n",
    "from readImputParam import readProcessparam, microplasticData,readCompartmentData\n",
    "from dilutionVol_calculator_func import*\n",
    "import RC_GeneratorRiver\n",
    "from RC_estimation_function import*\n",
    "from reshape_RC_df_fun2 import*\n",
    "from fillRCmatrixInteractionsTransport_func import*\n",
    "from fillRCinteractionMatrices_func import*\n",
    "from fillInteractions_df_fun import*\n",
    "from celluloid import Camera\n",
    "from cycler import cycler\n",
    "%matplotlib inline\n",
    "# Load the widgets\n",
    "import ipywidgets as widgets\n",
    "from ipywidgets import interact"
   ]
  },
  {
   "cell_type": "code",
   "execution_count": 2,
   "metadata": {
    "ExecuteTime": {
     "end_time": "2021-11-25T17:11:07.700156Z",
     "start_time": "2021-11-25T17:11:07.669206Z"
    }
   },
   "outputs": [],
   "source": [
    "#Import process parameters\n",
    "process_df= readProcessparam (\"process_paramRiver.txt\")\n",
    "#Import MP parameters (radius, volume, etc) Same way\n",
    "MP_prop = microplasticData(\"microplasticsSizeClass.txt\")\n",
    "#Import compartment info\n",
    "compartments_prop = readCompartmentData(\"compartmentsGenericRiverSec_prop.txt\")\n",
    "#Add river section depth field\n",
    "RSdepth = []\n",
    "for row in range(len(compartments_prop)):\n",
    "        RSdepth.append(round(sum(compartments_prop.depth_m[0:4]),2))\n",
    "compartments_prop[\"depthRS_m\"]=RSdepth"
   ]
  },
  {
   "cell_type": "code",
   "execution_count": 3,
   "metadata": {
    "ExecuteTime": {
     "end_time": "2021-11-25T17:11:08.030460Z",
     "start_time": "2021-11-25T17:11:08.015499Z"
    }
   },
   "outputs": [],
   "source": [
    "## Model set up\n",
    "#RIVER COMPARTMENTS\n",
    "compartments = [\"Surface Water\", \"Flowing Water\", \"Stagnant Water\", \"Sediment\"]\n",
    "riverComp = [\"1\", \"2\", \"3\", \"4\"]\n",
    "\n",
    "#MICROPLASTICS FORMS \n",
    "MPforms = [\"A\", \"B\", \"C\", \"D\"]\n",
    "MPformslabels = [\"Free\", \"Heteroaggregated\", \"Biofiolm-covered\", \"Biofilm-heteroaggregated\"]\n",
    "#SIZE BINS\n",
    "sizeBin =[\"a\", \"b\", \"c\", \"d\", \"e\"]\n",
    "sizeBinLabel = [\"0.1um\", \"1um\",\"10um\", \"100um\", \"1000um\"]# Detection limit for MPs via Fourier Transform Infrared Spectroscopy is 20um\n",
    "#MPS RIVER PROCESSES (FATE AND TRANSPORT) LIST\n",
    "processList = [\"degradation\", \"fragmentation\", \"heteroagg\", \"breakup\", \"settling\",\"rising\", \"advection\", \"mixing\", \"biofilm\", \"resusp\", \"burial\",\"sedTransport\", \"defouling\"]\n",
    "processLabels = [\"Degradation\", \"Fragmentation\", \"Heteroaggr\", \"Heterggr. Breakup\", \"Settling\",\"Rising\", \"Advection\", \"Mixing\", \"Biofouling\", \"Resusp.\", \"Burial\",\"Sed. Transport\", \"Defouling\"]\n",
    "#RIVER SECTIONS\n",
    "numberRS=len (compartments_prop)/len(riverComp)\n",
    "listRS = [*range(0,int(numberRS),1)]\n",
    "riverSect = [str(item) for item in listRS]\n",
    "riverLengths = [str(it) for it in compartments_prop[\"length_m\"]]\n",
    "riverSectLength= riverLengths[0::4]\n",
    "RS_cumLength_m =[]\n",
    "for d in range(len(riverSectLength)):\n",
    "    if d==0:\n",
    "        RS_cumLength_m.append(float(riverSectLength[d]))\n",
    "    else:\n",
    "        RS_cumLength_m.append(float(riverSectLength[d])+float(RS_cumLength_m[d-1]))"
   ]
  },
  {
   "cell_type": "code",
   "execution_count": 4,
   "metadata": {
    "ExecuteTime": {
     "end_time": "2021-11-25T17:11:08.299041Z",
     "start_time": "2021-11-25T17:11:08.284047Z"
    }
   },
   "outputs": [],
   "source": [
    "Comp_dic=dict({'Surface Water': \"1\", 'Flowing Water':\"2\",'Stagnant Water':\"3\", \"Sediment\":\"4\"})\n",
    "MPform_dic=dict({'Free': \"A\", 'Heteroaggregated':\"B\",'Biofiolm-covered':\"C\", \"Biofilm-heteroaggregated\":\"C\"})\n",
    "SizeBin_dic=dict({'0.1um': \"a\", '1um':\"b\",'10um':\"c\", \"100um\":\"d\",\"1000um\":\"e\"})\n",
    "density_dic=dict({\"PE\": 980, \"PA\":999, \"PVC\": 1580})\n",
    "River_section_dic=dict(zip(listRS, RS_cumLength_m))"
   ]
  },
  {
   "cell_type": "code",
   "execution_count": 5,
   "metadata": {
    "ExecuteTime": {
     "end_time": "2021-11-25T17:11:08.602828Z",
     "start_time": "2021-11-25T17:11:08.587048Z"
    }
   },
   "outputs": [],
   "source": [
    "t0 = 0 \n",
    "daysSimulation = 365\n",
    "tmax = 24*60*daysSimulation*60 \n",
    "sec_day = 24*60*60\n",
    "stepSize= 60*60*24 #time step of 1day\n",
    "timesteps = int(sec_day*daysSimulation/stepSize) \n",
    "t_span = np.linspace(0, tmax, int(timesteps)+1, dtype=int)\n",
    "from datetime import datetime, timedelta\n",
    "date_time_str = '2020-01-01 00:00'\n",
    "DayStart = datetime.strptime(date_time_str, '%Y-%m-%d %H:%M')\n",
    "LastDay = DayStart + timedelta(minutes=tmax)\n",
    "date = DayStart\n",
    "daterun = date.today()\n",
    "daterun_label = daterun.strftime(\"%Y_%m_%d\")"
   ]
  },
  {
   "cell_type": "code",
   "execution_count": 6,
   "metadata": {
    "ExecuteTime": {
     "end_time": "2021-11-25T17:11:08.898536Z",
     "start_time": "2021-11-25T17:11:08.886604Z"
    }
   },
   "outputs": [],
   "source": [
    "#Generate COMBINATIONS\n",
    "combinations = list(itertools.product(riverSect,riverComp,MPforms,sizeBin))\n",
    "#Generate raw list of combinations and lists of concentrations (C) and inflows (I)\n",
    "CombList = []\n",
    "Ilist = []\n",
    "Clist =[]\n",
    "def convertTuple(tup): \n",
    "    str =  ''.join(tup) \n",
    "    return str\n",
    "for e in combinations:\n",
    "    Clist.append(\"C_\" + convertTuple(e))\n",
    "    Ilist.append(\"I_\" + convertTuple(e))\n",
    "    CombList.append(convertTuple(e))"
   ]
  },
  {
   "cell_type": "markdown",
   "metadata": {},
   "source": [
    "## Define model scenario"
   ]
  },
  {
   "cell_type": "code",
   "execution_count": 7,
   "metadata": {
    "ExecuteTime": {
     "end_time": "2021-11-25T17:11:09.182378Z",
     "start_time": "2021-11-25T17:11:09.169511Z"
    }
   },
   "outputs": [],
   "source": [
    "## Define run parameters\n",
    "SOLVER = \"Dynamic\" \n",
    "mode = \"Standard\" \n",
    "mode2 = \"Timelimit\" \n",
    "record = \"True\""
   ]
  },
  {
   "cell_type": "code",
   "execution_count": 8,
   "metadata": {
    "ExecuteTime": {
     "end_time": "2021-11-25T17:11:09.449748Z",
     "start_time": "2021-11-25T17:11:09.435785Z"
    }
   },
   "outputs": [],
   "source": [
    "## Define Scenario\n",
    "#composition = \"PE\"\n",
    "#imputMP= \"02Ae\"\n",
    "#imputFlow=100 \n",
    "#imputPulse=0"
   ]
  },
  {
   "cell_type": "code",
   "execution_count": 9,
   "metadata": {
    "ExecuteTime": {
     "end_time": "2021-11-25T17:11:09.970363Z",
     "start_time": "2021-11-25T17:11:09.950381Z"
    }
   },
   "outputs": [],
   "source": [
    "#MP properties selection\n",
    "#Create drop down menue\n",
    "style = {'description_width': 'initial'}\n",
    "MP_type= widgets.Dropdown(\n",
    "    value='PE',\n",
    "    placeholder='Select shape',\n",
    "    options=['PE', 'PA', \"PVC\"],\n",
    "    description='Composition:',\n",
    "    disabled=False, style= style)\n",
    "#Create text box for float numbers\n",
    "MP_density= widgets.FloatText(\n",
    "    value= 910,\n",
    "    step=1,\n",
    "    description='Density (kg/m3):',\n",
    "    disabled=False,style= style)\n",
    "#Create drop down menue\n",
    "MP_shape= widgets.Dropdown(\n",
    "    value='Fragment',\n",
    "    placeholder='Select shape',\n",
    "    options=['Fragment', 'Fiber'],\n",
    "    description='Shape:',\n",
    "    disabled=False,style= style)"
   ]
  },
  {
   "cell_type": "code",
   "execution_count": 10,
   "metadata": {
    "ExecuteTime": {
     "end_time": "2021-11-25T17:11:10.316818Z",
     "start_time": "2021-11-25T17:11:10.271938Z"
    }
   },
   "outputs": [],
   "source": [
    "#Selection input scenario\n",
    "RC_select= widgets.Dropdown(\n",
    "    value='Surface Water',\n",
    "    placeholder='Select compartment',\n",
    "    options=[\"Surface Water\", \"Flowing Water\", \"Stagnant Water\", \"Sediment\"],\n",
    "    description='River compartment:',\n",
    "    disabled=False,style= style)\n",
    "\n",
    "MP_form= widgets.Dropdown(\n",
    "    value=\"Free\",\n",
    "    placeholder='Select shape',\n",
    "    options=[\"Free\", \"Heteroaggregated\", \"Biofiolm-covered\", \"Biofilm-heteroaggregated\"],\n",
    "    description='Aggregation state:',\n",
    "    disabled=False,style= style)\n",
    "\n",
    "MP_sizeBin=widgets.Dropdown(\n",
    "    value=\"1000um\",\n",
    "    placeholder='Select size bin',\n",
    "    options=[\"0.1um\", \"1um\",\"10um\", \"100um\", \"1000um\"],\n",
    "    description='Size bin:',\n",
    "    disabled=False,style= style)\n",
    "\n",
    "RS_selct = widgets.IntSlider(\n",
    "    value=0,\n",
    "    min=0,\n",
    "    max=19,\n",
    "    step=1,\n",
    "    description='River section:',\n",
    "    disabled=False,style= style)\n",
    "\n",
    "inputFlow= widgets.FloatText(\n",
    "    value= 100,\n",
    "    step=1,\n",
    "    description='Input flow (No/min):',\n",
    "    disabled=False,style= style)\n",
    "\n",
    "inputpulse= widgets.FloatText(\n",
    "    value= 0,\n",
    "    step=1,\n",
    "    description='Input pulse (No/min):',\n",
    "    disabled=False,style= style)"
   ]
  },
  {
   "cell_type": "code",
   "execution_count": 11,
   "metadata": {
    "ExecuteTime": {
     "end_time": "2021-11-25T17:11:10.665599Z",
     "start_time": "2021-11-25T17:11:10.652634Z"
    }
   },
   "outputs": [],
   "source": [
    "MP_properties=widgets.VBox([MP_type,],layout={'width': 'max-content'})\n",
    "MP_Emissions=widgets.VBox([RC_select,MP_form,MP_sizeBin,RS_selct,inputFlow,inputpulse],layout={'width': 'max-content'})"
   ]
  },
  {
   "cell_type": "code",
   "execution_count": 12,
   "metadata": {
    "ExecuteTime": {
     "end_time": "2021-11-25T17:11:11.103483Z",
     "start_time": "2021-11-25T17:11:11.075683Z"
    }
   },
   "outputs": [
    {
     "data": {
      "application/vnd.jupyter.widget-view+json": {
       "model_id": "d50f3e9958ab4c2c837d4be2c9746ba8",
       "version_major": 2,
       "version_minor": 0
      },
      "text/plain": [
       "Tab(children=(VBox(children=(Dropdown(description='Composition:', options=('PE', 'PA', 'PVC'), style=Descripti…"
      ]
     },
     "metadata": {},
     "output_type": "display_data"
    }
   ],
   "source": [
    "#Create a container where to locate widgets.  The widgets that are part of a container widget are called children\n",
    "#I will use a Tabs container to organise the inputs of the model\n",
    "\n",
    "children = [MP_properties, MP_Emissions]\n",
    "tab = widgets.Tab()\n",
    "tab.children = children\n",
    "tab.set_title(0, 'MP properties')\n",
    "tab.set_title(1, 'MP emissions')\n",
    "\n",
    "tab"
   ]
  },
  {
   "cell_type": "code",
   "execution_count": 14,
   "metadata": {
    "ExecuteTime": {
     "end_time": "2021-11-25T17:11:20.046125Z",
     "start_time": "2021-11-25T17:11:20.043135Z"
    }
   },
   "outputs": [],
   "source": [
    "def imput_transf(RC_select,RS_selct,MP_form,MP_sizeBin,Comp_dic):\n",
    "    return str(RS_selct.value)+Comp_dic[RC_select.value]+MPform_dic[MP_form.value]+SizeBin_dic[MP_sizeBin.value]\n"
   ]
  },
  {
   "cell_type": "code",
   "execution_count": 15,
   "metadata": {
    "ExecuteTime": {
     "end_time": "2021-11-25T17:11:20.611349Z",
     "start_time": "2021-11-25T17:11:20.574449Z"
    }
   },
   "outputs": [
    {
     "data": {
      "application/vnd.jupyter.widget-view+json": {
       "model_id": "a75735d6814d4ad5b8e89e8a3c02bd3d",
       "version_major": 2,
       "version_minor": 0
      },
      "text/plain": [
       "VBox(children=(Button(description='Load Scenario', style=ButtonStyle()), Output(layout=Layout(border='1px soli…"
      ]
     },
     "metadata": {},
     "output_type": "display_data"
    }
   ],
   "source": [
    "button_input = widgets.Button(description='Load Scenario')\n",
    "out_input = widgets.Output(layout={'border': '1px solid black'})\n",
    "def on_buttonInput_clicked(_):\n",
    "    out_input.clear_output()\n",
    "    with out_input:\n",
    "        composition = MP_type.value\n",
    "        imputMP=imput_transf(RC_select,RS_selct,MP_form,MP_sizeBin,Comp_dic)\n",
    "        imputFlow=inputFlow.value\n",
    "        imputPulse=inputpulse.value\n",
    "        on_buttonInput_clicked.data=[composition,imputMP,imputFlow,imputPulse]\n",
    "        dash = '-' * 26\n",
    "        print('{:<20}'.format(\"Input parameters\"))\n",
    "        print(dash)\n",
    "        print('{:<20}'.format(\"MP composition: \" +composition))\n",
    "        print('{:<20}'.format(\"MP density: \" +str(density_dic[composition])+ \" (kg/m3)\"))\n",
    "        print('{:<20}'.format(\"input code: \" +imputMP))\n",
    "        print('{:<20}'.format(\"input flow: \" +str(imputFlow)+\" No/min\"))\n",
    "        print('{:<20}'.format(\"input pulse: \" +str(imputPulse)+\" particles\"))\n",
    "        print(dash)\n",
    "        print('{:<20}'.format(\"Selected scenario:\"))\n",
    "        print(\"Emissions of \"+ str(inputFlow.value) +\" particles per minute of \" + MP_type.value + \" MPs in \")\n",
    "        print(MP_form.value + \" form of \" +MP_sizeBin.value+ \" in size, into the \"+RC_select.value)\n",
    "        print(\"of the riversection \"+ str(RS_selct.value))\n",
    "# linking button and function together using a button's method\n",
    "button_input.on_click(on_buttonInput_clicked)\n",
    "# displaying button and its output together\n",
    "widgets.VBox([button_input,out_input])        "
   ]
  },
  {
   "cell_type": "code",
   "execution_count": 16,
   "metadata": {
    "ExecuteTime": {
     "end_time": "2021-11-25T17:11:25.218920Z",
     "start_time": "2021-11-25T17:11:25.215927Z"
    }
   },
   "outputs": [],
   "source": [
    "#Model funcion\n",
    "def dNdt_2(N,t,k,I):  \n",
    "    dNdt=np.dot(N,k)+I\n",
    "    return np.squeeze(dNdt)"
   ]
  },
  {
   "cell_type": "code",
   "execution_count": 17,
   "metadata": {
    "ExecuteTime": {
     "end_time": "2021-11-25T17:11:26.655313Z",
     "start_time": "2021-11-25T17:11:26.641399Z"
    }
   },
   "outputs": [],
   "source": [
    "#### Function to extract concentration values by size fraction\n",
    "def extract_SizeBins (t, comp, MPform,ConcPlot):\n",
    "    Aa=[]\n",
    "    Ab=[]\n",
    "    Ac=[]\n",
    "    Ad=[]\n",
    "    Ae=[]\n",
    "    for i in range(len(listRS)):\n",
    "        Aa.append(ConcPlot.values[t, Clist.index(\"C_\"+str(listRS[i])+comp+MPform+\"a\")])\n",
    "        Ab.append(ConcPlot.values[t, Clist.index(\"C_\"+str(listRS[i])+comp+MPform+\"b\")])\n",
    "        Ac.append(ConcPlot.values[t, Clist.index(\"C_\"+str(listRS[i])+comp+MPform+\"c\")])\n",
    "        Ad.append(ConcPlot.values[t, Clist.index(\"C_\"+str(listRS[i])+comp+MPform+\"d\")]) \n",
    "        Ae.append(ConcPlot.values[t, Clist.index(\"C_\"+str(listRS[i])+comp+MPform+\"e\")]) \n",
    "    return [Aa, Ab, Ac, Ad, Ae]"
   ]
  },
  {
   "cell_type": "code",
   "execution_count": 18,
   "metadata": {
    "ExecuteTime": {
     "end_time": "2021-11-25T17:11:27.169969Z",
     "start_time": "2021-11-25T17:11:27.151019Z"
    }
   },
   "outputs": [],
   "source": [
    "#### Function to extract lists from a list by criteria\n",
    "def listofindex(criteria,Clist):                                                                                                             \n",
    "    lista= [[] for x in range(len(criteria))]\n",
    "    for i in range(len(lista)):\n",
    "        lista[i] = [n for n in Clist if criteria[i] in n[-3:]]\n",
    "    return lista"
   ]
  },
  {
   "cell_type": "code",
   "execution_count": 19,
   "metadata": {
    "ExecuteTime": {
     "end_time": "2021-11-25T17:11:27.668661Z",
     "start_time": "2021-11-25T17:11:27.654700Z"
    }
   },
   "outputs": [],
   "source": [
    "list_of_indexesMpType=listofindex(MPforms,Clist)\n",
    "list_of_indexesCompartments=listofindex(riverComp,Clist)\n",
    "list_ofindexesSizeBins=listofindex(sizeBin,Clist)"
   ]
  },
  {
   "cell_type": "code",
   "execution_count": 20,
   "metadata": {
    "ExecuteTime": {
     "end_time": "2021-11-25T17:11:28.373971Z",
     "start_time": "2021-11-25T17:11:28.364056Z"
    }
   },
   "outputs": [],
   "source": [
    "#### Define time resolution for extracting results (time_extract)\n",
    "numTstep_hour=(60*60/stepSize)\n",
    "Time_months=t_span[::(int(numTstep_hour*24*30))]\n",
    "Time_days=t_span[::(int(numTstep_hour*24))]\n",
    "Time_halfMonth=t_span[::(int(numTstep_hour*24*15))]\n",
    "Time_5days=t_span[::(int(numTstep_hour*24*5))]#5 days"
   ]
  },
  {
   "cell_type": "code",
   "execution_count": 21,
   "metadata": {
    "ExecuteTime": {
     "end_time": "2021-11-25T17:11:28.848839Z",
     "start_time": "2021-11-25T17:11:28.833863Z"
    }
   },
   "outputs": [],
   "source": [
    "time_extract=Time_days"
   ]
  },
  {
   "cell_type": "code",
   "execution_count": 41,
   "metadata": {
    "ExecuteTime": {
     "end_time": "2021-11-25T17:42:38.448232Z",
     "start_time": "2021-11-25T17:42:38.404308Z"
    }
   },
   "outputs": [],
   "source": [
    "def plot_all_tfinal(composition,imputMP,imputFlow,imputPulse,ConcPlot,ConcPlot_units):\n",
    "    import matplotlib.ticker as ticker\n",
    "    from matplotlib import ticker\n",
    "    ##Select style\n",
    "    palette = plt.get_cmap('Set2')\n",
    "    plt.style.use('seaborn-white')\n",
    "    # these are matplotlib.patch.Patch properties\n",
    "    props = dict(boxstyle='round', facecolor='ivory', alpha=0.5)\n",
    "    props2 = dict(boxstyle='round', facecolor='white', alpha=0.5)\n",
    "    x =[d/1000 for d in RS_cumLength_m]\n",
    "    compartmentsLabel=[\"Surface\\n Water\", \"Flowing\\n Water\", \"Stagnant\\n Water\", \"Sediment\"]\n",
    "    t=len(time_extract)-1\n",
    "    fig2, axs = plt.subplots(len(compartments),len(MPforms), figsize=(15, 10),sharex='col', sharey= \"row\", squeeze=\"True\")\n",
    "\n",
    "    labels = ['0.1 um', '1 um', '10 um', '100 um', '1000 um']\n",
    "    if imputFlow == 0:\n",
    "        fig2.suptitle( composition +\" plastic particles after \"+str(int(time_extract[t]/60/60/24)) + \" days (pulse= \"+ str(imputPulse)+\" particles of 1mm)\" , fontsize=18,  y=0.95)\n",
    "\n",
    "    else:\n",
    "        fig2.suptitle( composition +\" plastic particles after \"+str(int(time_extract[t]/60/60/24)) + \" days\" , fontsize=18,  y=0.95)\n",
    "\n",
    "    for j in range(len(compartments)):\n",
    "        if j == 3:\n",
    "            for k in range(len(MPforms)):\n",
    "                #Plot\n",
    "                y = extract_SizeBins (t, riverComp[j], MPforms[k],ConcPlot)\n",
    "                axs[j,k].plot(x, [e * 10**6/1.3 for e in y[0]], linewidth=2.5,color=palette(0), label='0.1 um')\n",
    "                axs[j,k].plot(x, [e * 10**6/1.3 for e in y[1]], linewidth=2.5,color=palette(1), label='1 um')\n",
    "                axs[j,k].plot(x, [e * 10**6/1.3 for e in y[2]], linewidth=2.5,color=palette(2), label='10 um')\n",
    "                axs[j,k].plot(x, [e * 10**6/1.3 for e in y[3]], linewidth=2.5,color=palette(3), label='100 um')\n",
    "                axs[j,k].plot(x, [e * 10**6/1.3 for e in y[4]], linewidth=2.5,color=palette(4), label='1000 um')\n",
    "\n",
    "                if k==3:\n",
    "                    axs[j,k].text(1.2, 0.5, compartmentsLabel[j] ,fontsize=15,rotation=0, va='center',ha='center', transform=axs[j,k].transAxes)\n",
    "\n",
    "                axs[j,k].set_yscale('log')\n",
    "                axs[j,k].set_ylim(10**-9,1000000)\n",
    "                if k == 0:\n",
    "                    axs[j,k].set_ylabel(\"Conc (mg/g)\", fontsize=15)\n",
    "                axs[j,k].yaxis.set_major_locator(ticker.LogLocator(base=10.0, numticks=4))\n",
    "                axs[j,k].set_xlim(x[0],x[-1])\n",
    "                axs[j,k].tick_params(axis='x', labelsize=12, direction='inout', length=6, width=1, grid_alpha=0.5)\n",
    "                axs[j,k].tick_params(axis='y',labelsize=10, direction='inout', length=6, width=1, grid_alpha=0.5) \n",
    "                formatter = ticker.ScalarFormatter(useMathText=True)\n",
    "                formatter.set_scientific(True) \n",
    "                formatter.set_powerlimits((-1,1)) \n",
    "        else:\n",
    "            for k in range(len(MPforms)):\n",
    "                #Plot\n",
    "                y = extract_SizeBins (t, riverComp[j], MPforms[k],ConcPlot)\n",
    "                axs[j,k].plot(x, y[0], linewidth=2.5,color=palette(0), label='0.1 um')\n",
    "                axs[j,k].plot(x, y[1], linewidth=2.5,color=palette(1), label='1 um')\n",
    "                axs[j,k].plot(x, y[2], linewidth=2.5,color=palette(2), label='10 um')\n",
    "                axs[j,k].plot(x, y[3], linewidth=2.5,color=palette(3), label='100 um')\n",
    "                axs[j,k].plot(x, y[4], linewidth=2.5,color=palette(4), label='1000 um')\n",
    "                if j== 0:\n",
    "                    axs[j,k].text(0.5,1.1, MPformslabels[k] ,fontsize=15, transform= axs[j,k].transAxes, ha='center')        \n",
    "                if k==3:\n",
    "                    axs[j,k].text(1.2, 0.5, compartmentsLabel[j] ,fontsize=15,rotation=0, va='center',ha='center', transform=axs[j,k].transAxes)\n",
    "                if k == 0:\n",
    "                    axs[j,k].set_ylabel(\"Conc \"+ ConcPlot_units[0], fontsize=15)\n",
    "                axs[j,k].set_yscale('log')\n",
    "\n",
    "                if j==0:\n",
    "                    axs[j,k].set_ylim(10**-9,10**1)\n",
    "                    axs[j,k].yaxis.set_major_locator(ticker.LogLocator(base=10.0, numticks=4))\n",
    "                elif j==1:\n",
    "                    axs[j,k].set_ylim(10**-9,10**1)\n",
    "                    axs[j,k].yaxis.set_major_locator(ticker.LogLocator(base=10.0, numticks=4))\n",
    "                elif j== 2:\n",
    "                    axs[j,k].set_ylim(10**-9,10**1)\n",
    "                    axs[j,k].yaxis.set_major_locator(ticker.LogLocator(base=10.0, numticks=4))\n",
    "                axs[j,k].set_xlim(x[0],x[-1])\n",
    "\n",
    "                axs[j,k].tick_params(axis='x', labelsize=10, direction='inout', length=6, width=1, grid_alpha=0.5)\n",
    "                axs[j,k].tick_params(axis='y',labelsize=10, direction='inout', length=6, width=1, grid_alpha=0.5)\n",
    "                from matplotlib import ticker\n",
    "                formatter = ticker.ScalarFormatter(useMathText=True)\n",
    "                formatter.set_scientific(True) \n",
    "                formatter.set_powerlimits((-1,1)) \n",
    "                axs[j,k].minorticks_on()\n",
    "\n",
    "\n",
    "    # Axis titles\n",
    "    #plt.text(0.02, 0.5, \"Concentration of particles (Num/$m^3$)\", fontsize=15, transform=plt.gcf().transFigure, rotation='vertical',ha='center', va='center')\n",
    "    plt.text(0.5, 0.08, \"Distance (km)\", fontsize=15, transform=plt.gcf().transFigure, ha='center', va='center')\n",
    "    #plt.legend(labels,bbox_to_anchor=(0.5, -0.18), loc='center',ncol=5, fontsize=15 )\n",
    "    plt.subplots_adjust(wspace=0.02,hspace=0.1)\n",
    "    handles, labels = axs[j,k].get_legend_handles_labels()\n",
    "    fig2.legend(handles, labels, bbox_to_anchor=(0.5, 0.04), loc='center',ncol=5, fontsize=15)\n",
    "    if imputPulse != 0:\n",
    "        fig2_label= \"ConcvsDist_Multiplot_\"+ composition +\"_\"+ConcPlot_units[1]+\"_Pulse.png\"\n",
    "    else:\n",
    "        fig2_label= \"ConcvsDist_Multiplot_\"+ composition +\"_\"+ConcPlot_units[1]+\"_ConstantInflow.png\"\n",
    "    return fig2"
   ]
  },
  {
   "cell_type": "code",
   "execution_count": 23,
   "metadata": {
    "ExecuteTime": {
     "end_time": "2021-11-25T17:11:33.798391Z",
     "start_time": "2021-11-25T17:11:33.759461Z"
    }
   },
   "outputs": [
    {
     "data": {
      "application/vnd.jupyter.widget-view+json": {
       "model_id": "a8d969760e414a16b3c5213509898e13",
       "version_major": 2,
       "version_minor": 0
      },
      "text/plain": [
       "VBox(children=(Button(description='Run Model', style=ButtonStyle()), Output(layout=Layout(border='1px solid bl…"
      ]
     },
     "metadata": {},
     "output_type": "display_data"
    }
   ],
   "source": [
    "button = widgets.Button(description='Run Model')\n",
    "out = widgets.Output(layout={'border': '1px solid black'})\n",
    "def on_button_clicked(_):\n",
    "    out.clear_output()\n",
    "    with out:\n",
    "        composition=on_buttonInput_clicked.data[0]\n",
    "        imputMP=on_buttonInput_clicked.data[1]\n",
    "        imputFlow=on_buttonInput_clicked.data[2]\n",
    "        imputPulse=on_buttonInput_clicked.data[3]\n",
    "        # what happens when we press the button\n",
    "        RC_df=RC_estimation_function(processList,CombList,Clist,MP_prop,compartments_prop,process_df,numberRS, composition,mode2, mode, date,riverComp,MPforms,sizeBin)\n",
    "        interactions_df= fillInteractions_fun (RC_df, Clist,compartments_prop)\n",
    "          #Initial number of particles in the system \n",
    "        PartNum_t0 = pd.DataFrame(index=Clist, columns=['number of particles'])\n",
    "        for p in range(len(PartNum_t0)):\n",
    "            PartNum_t0.iloc[p][0]= 0\n",
    "            PartNum_t0.loc[\"C_\"+imputMP]=imputPulse\n",
    "\n",
    "          #Inflow of particles as particles per second \n",
    "        Ilist = []\n",
    "        for C in Clist:\n",
    "            Ilist.append(\"I\"+ C[1:])\n",
    "        inflow_vector = pd.DataFrame(index=Ilist, columns=[\"number of particles\"])\n",
    "        inflow_vector.loc[:,:] = 0\n",
    "        inflow_vector.loc[\"I_\"+imputMP] = imputFlow/60 #transformed to particles per sec\n",
    "          # intitial condition\n",
    "        N0 = PartNum_t0['number of particles'].to_numpy(dtype=\"float\")\n",
    "        I= inflow_vector['number of particles'].to_numpy(dtype=\"float\")\n",
    "          # time points\n",
    "        time = np.linspace(0, tmax, int(timesteps)+1, dtype=int)##in seconds\n",
    "\n",
    "        #Solve ODEs\n",
    "        if SOLVER == 'Dynamic':\n",
    "            k=interactions_df.to_numpy()\n",
    "            Nfinal=odeint(dNdt_2, N0, time, args =(k,I), col_deriv=True)\n",
    "            NFinal_num = pd.DataFrame(data = Nfinal, index=t_span , columns= Clist)  \n",
    "\n",
    "        elif SOLVER == \"SteadyState\":\n",
    "            print(\"Steady State not yet implemented\")\n",
    "\n",
    "          #Vector of volumes corresponding to the compartments of the river\n",
    "        dilution_vol_m3= volumesVector(Clist,compartments_prop)\n",
    "\n",
    "        ConcFinal_num_m3= pd.DataFrame(data = 0, index=t_span , columns= Clist) \n",
    "        for ind in range(len(NFinal_num)):\n",
    "            ConcFinal_num_m3.iloc[ind]=NFinal_num.iloc[ind]/dilution_vol_m3\n",
    "\n",
    "        #Substitute values smaller than 10-5 to 0\n",
    "        ConcFinal_num_m3 = ConcFinal_num_m3.apply(lambda x: [y if y >= 1e-15 else 0 for y in x])\n",
    "        volume= RC_df.loc[\"volume_m3\"].to_numpy()\n",
    "        density= RC_df.loc[\"density_kg_m3\"].to_numpy()\n",
    "        ConcFinal_mg_m3=ConcFinal_num_m3*volume*density*10**6\n",
    "        \n",
    "        on_button_clicked.data=[ConcFinal_num_m3,ConcFinal_mg_m3]\n",
    "        print(\"Model Run sucessfully for \"+composition + \" MPs. Input scenario: \"+imputMP+ \" Input flow (No/min) = \"+ str(imputFlow)+ \"; Input pulse (No) = \"+str(imputPulse))\n",
    "        #display(ConcFinal_num_m3)\n",
    "# linking button and function together using a button's method\n",
    "button.on_click(on_button_clicked)\n",
    "# displaying button and its output together\n",
    "widgets.VBox([button,out])        "
   ]
  },
  {
   "cell_type": "code",
   "execution_count": 43,
   "metadata": {
    "ExecuteTime": {
     "end_time": "2021-11-25T17:48:20.088149Z",
     "start_time": "2021-11-25T17:48:17.319246Z"
    }
   },
   "outputs": [
    {
     "data": {
      "application/vnd.jupyter.widget-view+json": {
       "model_id": "b5611bdb8994477784559447cce5c727",
       "version_major": 2,
       "version_minor": 0
      },
      "text/plain": [
       "Dropdown(description='Concentration Units:', index=1, options=('Num/m3', 'mg/m3'), style=DescriptionStyle(desc…"
      ]
     },
     "metadata": {},
     "output_type": "display_data"
    },
    {
     "data": {
      "application/vnd.jupyter.widget-view+json": {
       "model_id": "28b4637de8bd44c09672e87fbd493fa8",
       "version_major": 2,
       "version_minor": 0
      },
      "text/plain": [
       "Output()"
      ]
     },
     "metadata": {},
     "output_type": "display_data"
    }
   ],
   "source": [
    "def plot_multiplot(ConcPlot):\n",
    "    composition=on_buttonInput_clicked.data[0]\n",
    "    imputMP=on_buttonInput_clicked.data[1]\n",
    "    imputFlow=on_buttonInput_clicked.data[2]\n",
    "    imputPulse=on_buttonInput_clicked.data[3]\n",
    "    #Select Concentration Units: number of particles or mass\n",
    "    if ConcPlot== \"mg/m3\":\n",
    "        ConcPlot = on_button_clicked.data[1] \n",
    "        ConcPlot_units= [\"(mg/$m^3$)\",\"mg_m3\"]\n",
    "    elif ConcPlot== \"Num/m3\":\n",
    "        ConcPlot = on_button_clicked.data[0]\n",
    "        ConcPlot_units= [\"(No/$m^3$)\",\"Num_m3\"]\n",
    "    else:\n",
    "        print (\"Choose correct concentration dataframe\")\n",
    "    fig2= plot_all_tfinal(composition,imputMP,imputFlow,imputPulse,ConcPlot,ConcPlot_units)\n",
    "    \n",
    "    return ConcPlot\n",
    "ConcPlot=widgets.Dropdown(value=\"mg/m3\",\n",
    "    placeholder='Select concentration units',\n",
    "    options=[\"Num/m3\", \"mg/m3\"],\n",
    "    description='Concentration Units:',\n",
    "    disabled=False,style= style)\n",
    "#box = widgets.VBox( ConcPlot )\n",
    "outPlot = widgets.interactive_output(plot_multiplot, {'ConcPlot':ConcPlot} )\n",
    "display(ConcPlot, outPlot)\n",
    "#widgets.VBox([button,out])   "
   ]
  },
  {
   "cell_type": "code",
   "execution_count": null,
   "metadata": {
    "ExecuteTime": {
     "end_time": "2021-11-24T18:02:00.486239Z",
     "start_time": "2021-11-24T18:02:00.460266Z"
    }
   },
   "outputs": [],
   "source": [
    "distance_plot=widgets.IntRangeSlider(value=[0, 19],min=0,max=19,step=1,description='River sections:',disabled=False,\n",
    "    continuous_update=False,orientation='horizontal',readout=True)\n",
    "distance_plot"
   ]
  },
  {
   "cell_type": "code",
   "execution_count": null,
   "metadata": {
    "ExecuteTime": {
     "end_time": "2021-11-24T18:41:42.695304Z",
     "start_time": "2021-11-24T18:41:42.676350Z"
    }
   },
   "outputs": [],
   "source": [
    "RS_cumLength_m"
   ]
  },
  {
   "cell_type": "code",
   "execution_count": null,
   "metadata": {
    "ExecuteTime": {
     "end_time": "2021-11-24T18:39:09.698910Z",
     "start_time": "2021-11-24T18:39:09.683287Z"
    }
   },
   "outputs": [],
   "source": [
    "distance_plot.value"
   ]
  },
  {
   "cell_type": "code",
   "execution_count": null,
   "metadata": {
    "ExecuteTime": {
     "end_time": "2021-11-24T18:43:08.765622Z",
     "start_time": "2021-11-24T18:43:08.756647Z"
    }
   },
   "outputs": [],
   "source": [
    "[0]+[d/1000 for d in RS_cumLength_m[distance_plot.value[0]:distance_plot.value[1]]]"
   ]
  },
  {
   "cell_type": "code",
   "execution_count": null,
   "metadata": {
    "ExecuteTime": {
     "end_time": "2021-11-24T18:48:02.420255Z",
     "start_time": "2021-11-24T18:48:01.957320Z"
    }
   },
   "outputs": [],
   "source": [
    "def f_plot_c_distance(MP_form,RC_select, distance_plot,t_plot):\n",
    "    palette = plt.get_cmap('Set2')\n",
    "    x =[0]+[d/1000 for d in RS_cumLength_m[distance_plot[0]:distance_plot[1]]]\n",
    "    fig, ax = plt.subplots(figsize=(10,4), dpi=100)\n",
    "    y = extract_SizeBins (t_plot, Comp_dic[RC_select], MPform_dic[MP_form])\n",
    "    ax.plot(x, [e * 10**6/1.3 for e in y[0]], linewidth=2.5,color=palette(0), label='0.1 \\u03BCm')\n",
    "    ax.plot(x, [e * 10**6/1.3 for e in y[1]], linewidth=2.5,color=palette(1), label='1 \\u03BCm')\n",
    "    ax.plot(x, [e * 10**6/1.3 for e in y[2]], linewidth=2.5,color=palette(2), label='10 \\u03BCm')\n",
    "    ax.plot(x, [e * 10**6/1.3 for e in y[3]], linewidth=2.5,color=palette(3), label='100 \\u03BCm')\n",
    "    ax.plot(x, [e * 10**6/1.3 for e in y[4]], linewidth=2.5,color=palette(4), label='1000 \\u03BCm')    \n",
    "    ax.set_title(\"Concentration of \"+ composition +\" \" + MP_form+ \" after \"+ str(t_plot*60*60*24)+ \" days\")\n",
    "    ax.set_xlabel('Distance (m)')\n",
    "    ax.set_ylabel('Concentration(No/m3)')\n",
    "    ax.set_xticks(np.linspace(min(x),max(x), 10))\n",
    "    ax.set_yscale('log')\n",
    "    \n",
    "    #ax.set_yticks(np.linspace(-A, A,11))  \n",
    "    return RS_selct, RC_select, MP_form, MP_sizeBin\n",
    "distance_plot=widgets.IntRangeSlider(value=[0, 19],min=0,max=19,step=1,description='River sections:',disabled=False,\n",
    "    continuous_update=False,orientation='horizontal',readout=True)\n",
    "t_plot=widgets.IntSlider(value=0,min=min(time_extract),max=max(time_extract),step=1,description='Time point:',disabled=False,style= style)\n",
    "row1 =widgets.HBox( [MP_form, RC_select] )\n",
    "row2 = widgets.HBox( [t,distance_plot] )\n",
    "ui = widgets.VBox( [row1, row2] )\n",
    "out2 = widgets.interactive_output(f_plot_c_distance, {'MP_form':MP_form, 'RC_select':RC_select, 't_plot':t_plot, 'distance_plot':distance_plot} )\n",
    "display(ui, out2)\n",
    "print('Something happens!')"
   ]
  },
  {
   "cell_type": "code",
   "execution_count": null,
   "metadata": {},
   "outputs": [],
   "source": [
    "import matplotlib.ticker as ticker\n",
    "from matplotlib import ticker\n",
    "plt.style.use('seaborn-whitegrid')\n",
    "\n",
    "fig2, axs = plt.subplots(len(compartments),len(MPforms), figsize=(15, 10),sharex='col', sharey= \"row\", squeeze=\"True\")\n",
    "labels = ['0.1 \\u03BCm', '1 \\u03BCm', '10 \\u03BCm', '100 \\u03BCm', '1000 \\u03BCm']\n",
    "if imputFlow == 0:\n",
    "    fig2.suptitle( composition +\" plastic particles fate along the generic river (pulse= \"+ str(imputPulse)+\" particles of 1mm)\", fontsize=20, y=0.98)\n",
    "else:\n",
    "    fig2.suptitle( composition +\" plastic particles after \"+str(int(time_extract[t]/60/60/24)) + \" days\" , fontsize=20,  y=0.98)\n",
    "\n",
    "for j in range(len(compartments)):\n",
    "    if j == 3:\n",
    "        for k in range(len(MPforms)):\n",
    "            #Plot\n",
    "            y = extract_SizeBins (t, riverComp[j], MPforms[k])\n",
    "            axs[j,k].plot(x, [e * 10**6/1.3 for e in y[0]], linewidth=2.5,color=palette(0), label='0.1 \\u03BCm')\n",
    "            axs[j,k].plot(x, [e * 10**6/1.3 for e in y[1]], linewidth=2.5,color=palette(1), label='1 \\u03BCm')\n",
    "            axs[j,k].plot(x, [e * 10**6/1.3 for e in y[2]], linewidth=2.5,color=palette(2), label='10 \\u03BCm')\n",
    "            axs[j,k].plot(x, [e * 10**6/1.3 for e in y[3]], linewidth=2.5,color=palette(3), label='100 \\u03BCm')\n",
    "            axs[j,k].plot(x, [e * 10**6/1.3 for e in y[4]], linewidth=2.5,color=palette(4), label='1000 \\u03BCm')\n",
    "            \n",
    "            if k==3:\n",
    "                axs[j,k].text(1.25, 0.5, compartmentsLabel[j] ,fontsize=18,rotation=0, va='center',ha='center', transform=axs[j,k].transAxes)\n",
    "\n",
    "            axs[j,k].set_yscale('log')\n",
    "            axs[j,k].set_ylim(10**-9,1000000)\n",
    "            if k == 0:\n",
    "                axs[j,k].set_ylabel(\"Conc (No/g)\", fontsize=18)\n",
    "            \n",
    "            axs[j,k].set_xticks([200,400,600,800])\n",
    "            axs[j,k].tick_params(axis='x', labelsize=15, direction='inout', length=6, width=1, grid_alpha=0.5)\n",
    "            axs[j,k].tick_params(axis='y',labelsize=15, direction='inout', length=6, width=1, grid_alpha=0.5) \n",
    "            \n",
    "    else:\n",
    "        for k in range(len(MPforms)):\n",
    "            #Plot\n",
    "            y = extract_SizeBins (t, riverComp[j], MPforms[k])\n",
    "            axs[j,k].plot(x, y[0], linewidth=2.5,color=palette(0), label='0.1 \\u03BCm')\n",
    "            axs[j,k].plot(x, y[1], linewidth=2.5,color=palette(1), label='1 \\u03BCm')\n",
    "            axs[j,k].plot(x, y[2], linewidth=2.5,color=palette(2), label='10 \\u03BCm')\n",
    "            axs[j,k].plot(x, y[3], linewidth=2.5,color=palette(3), label='100 \\u03BCm')\n",
    "            axs[j,k].plot(x, y[4], linewidth=2.5,color=palette(4), label='1000 \\u03BCm')\n",
    "            if j== 0:\n",
    "                axs[j,k].text(0.5,1.1, MPformslabels[k] ,fontsize=18, transform= axs[j,k].transAxes, ha='center')        \n",
    "            if k==3:\n",
    "                axs[j,k].text(1.25, 0.5, compartmentsLabel[j] ,fontsize=18,rotation=0, va='center',ha='center', transform=axs[j,k].transAxes)\n",
    "            if k == 0:\n",
    "                axs[j,k].set_ylabel(\"Conc (No/$m^3$)\", fontsize=18)\n",
    "            axs[j,k].set_yscale('log')\n",
    "            \n",
    "            if j==0:\n",
    "                axs[j,k].set_ylim(10**-9,10**1)\n",
    "                axs[j,k].yaxis.set_major_locator(ticker.LogLocator(base=10.0, numticks=4))\n",
    "            elif j==1:\n",
    "                axs[j,k].set_ylim(10**-9,10**1)\n",
    "                axs[j,k].yaxis.set_major_locator(ticker.LogLocator(base=10.0, numticks=4))\n",
    "            elif j== 2:\n",
    "                axs[j,k].set_ylim(10**-9,10**1)\n",
    "                axs[j,k].yaxis.set_major_locator(ticker.LogLocator(base=10.0, numticks=4))\n",
    "            axs[j,k].set_xlim(x[0],x[-1])\n",
    "\n",
    "            axs[j,k].tick_params(axis='x', labelsize=15, direction='inout', length=6, width=1, grid_alpha=0.5)\n",
    "            axs[j,k].tick_params(axis='y',labelsize=15, direction='inout', length=6, width=1, grid_alpha=0.5)\n",
    "           \n",
    "            \n",
    "           \n",
    "# Axis titles\n",
    "#plt.text(0.02, 0.5, \"Concentration of particles (Num/$m^3$)\", fontsize=15, transform=plt.gcf().transFigure, rotation='vertical',ha='center', va='center')\n",
    "plt.text(0.5, 0.04, \"Distance (km)\", fontsize=18, transform=plt.gcf().transFigure, ha='center', va='center')\n",
    "#plt.legend(labels,bbox_to_anchor=(0.5, -0.18), loc='center',ncol=5, fontsize=15 )\n",
    "plt.subplots_adjust(wspace=0.02,hspace=0.1)\n",
    "handles, labels = axs[j,k].get_legend_handles_labels()\n",
    "fig2.legend(handles, labels, bbox_to_anchor=(0.5, 0.02), loc='center',ncol=5, fontsize=18)        \n",
    "fig2_label= \"ConcvsDist_Num_m3_Multiplot_\"+ composition +\".png\""
   ]
  },
  {
   "cell_type": "code",
   "execution_count": null,
   "metadata": {},
   "outputs": [],
   "source": []
  },
  {
   "cell_type": "code",
   "execution_count": null,
   "metadata": {
    "ExecuteTime": {
     "end_time": "2021-11-24T17:33:36.890345Z",
     "start_time": "2021-11-24T17:33:36.352958Z"
    }
   },
   "outputs": [],
   "source": [
    "def f(MP_form,RC_select, RS_selct, MP_sizeBin):\n",
    "    t = ConcFinal_num_m3.index/60/60/24\n",
    "    fig, ax = plt.subplots(figsize=(10,4), dpi=100)\n",
    "    x = ConcFinal_num_m3.loc[:,\"C_\"+str(RS_selct)+Comp_dic[RC_select]+MPform_dic[MP_form]+SizeBin_dic[MP_sizeBin]]\n",
    "    ax.plot(t, x, 'b.', linewidth = 3)\n",
    "    ax.set_yscale(\"log\")\n",
    "    ax.grid()\n",
    "    ax.set_title(\"Concentration of \"+ composition +\" \" + MP_form+ \" MPs (Num/$m^3$) over time\")\n",
    "    ax.set_xlabel('time (days)')\n",
    "    ax.set_ylabel('Concentration(No/m3)')\n",
    "    ax.set_xticks(np.linspace(min(t),max(t), 21))\n",
    "    #ax.set_yticks(np.linspace(-A, A,11))  \n",
    "    return RS_selct, RC_select, MP_form, MP_sizeBin\n",
    "\n",
    "row1 =widgets.HBox( [RS_selct, RC_select] )\n",
    "row2 = widgets.HBox( [MP_form,MP_sizeBin] )\n",
    "ui = widgets.VBox( [row1, row2] )\n",
    "out2 = widgets.interactive_output(f, {'RS_selct':RS_selct, 'RC_select':RC_select, 'MP_form':MP_form, 'MP_sizeBin':MP_sizeBin} )\n",
    "display(ui, out2)\n",
    "print('Something happens!')"
   ]
  }
 ],
 "metadata": {
  "kernelspec": {
   "display_name": "Python 3",
   "language": "python",
   "name": "python3"
  },
  "language_info": {
   "codemirror_mode": {
    "name": "ipython",
    "version": 3
   },
   "file_extension": ".py",
   "mimetype": "text/x-python",
   "name": "python",
   "nbconvert_exporter": "python",
   "pygments_lexer": "ipython3",
   "version": "3.7.6"
  },
  "varInspector": {
   "cols": {
    "lenName": 16,
    "lenType": 16,
    "lenVar": 40
   },
   "kernels_config": {
    "python": {
     "delete_cmd_postfix": "",
     "delete_cmd_prefix": "del ",
     "library": "var_list.py",
     "varRefreshCmd": "print(var_dic_list())"
    },
    "r": {
     "delete_cmd_postfix": ") ",
     "delete_cmd_prefix": "rm(",
     "library": "var_list.r",
     "varRefreshCmd": "cat(var_dic_list()) "
    }
   },
   "oldHeight": 122.22225999999999,
   "position": {
    "height": "40px",
    "left": "1152.96px",
    "right": "20px",
    "top": "120px",
    "width": "250px"
   },
   "types_to_exclude": [
    "module",
    "function",
    "builtin_function_or_method",
    "instance",
    "_Feature"
   ],
   "varInspector_section_display": "none",
   "window_display": true
  }
 },
 "nbformat": 4,
 "nbformat_minor": 4
}
