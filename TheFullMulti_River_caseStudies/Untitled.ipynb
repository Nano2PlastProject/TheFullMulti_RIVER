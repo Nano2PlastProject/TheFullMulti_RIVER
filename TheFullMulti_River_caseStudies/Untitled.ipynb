{
 "cells": [
  {
   "cell_type": "code",
   "execution_count": 3,
   "metadata": {
    "ExecuteTime": {
     "end_time": "2021-11-23T13:05:46.338633Z",
     "start_time": "2021-11-23T13:05:46.283749Z"
    }
   },
   "outputs": [
    {
     "data": {
      "application/vnd.jupyter.widget-view+json": {
       "model_id": "c46730b014fd46909d9fb1735c0f3e97",
       "version_major": 2,
       "version_minor": 0
      },
      "text/plain": [
       "Text(value='try this word', description='Word #1')"
      ]
     },
     "metadata": {},
     "output_type": "display_data"
    },
    {
     "data": {
      "application/vnd.jupyter.widget-view+json": {
       "model_id": "fa8a6ef1e9804061bc3c2cce8d826af2",
       "version_major": 2,
       "version_minor": 0
      },
      "text/plain": [
       "Text(value='another word', description='Word #2')"
      ]
     },
     "metadata": {},
     "output_type": "display_data"
    },
    {
     "name": "stdout",
     "output_type": "stream",
     "text": [
      "Submitting\n",
      "Text Prado\n",
      "Combining words is easy: Hola Prado\n",
      "Submitting\n",
      "Text Hola\n",
      "Combining words is easy: Hola Prado\n"
     ]
    }
   ],
   "source": [
    "import ipywidgets as widgets\n",
    "from IPython.display import display\n",
    "\n",
    "def any_function_returning_value(word1,word2):\n",
    "    new_word = 'Combining words is easy: %s %s'%(word1,word2)\n",
    "    print (new_word)\n",
    "    return new_word\n",
    "\n",
    "class learn_classes_and_widgets():\n",
    "    def __init__(self, param1 = 'a word', param2 = 'another word'):\n",
    "        self.p1_text = widgets.Text(description = 'Word #1',value = param1)\n",
    "        self.p2_text = widgets.Text(description = 'Word #2',value = param2)\n",
    "        self.p1_text.on_submit(self.handle_submit)\n",
    "        self.p2_text.on_submit(self.handle_submit)\n",
    "        display(self.p1_text, self.p2_text)\n",
    "\n",
    "    def handle_submit(self, text):\n",
    "        print( \"Submitting\")\n",
    "        print ( \"Text \" + str(text.value))\n",
    "        self.w = any_function_returning_value(self.p1_text.value,self.p2_text.value)\n",
    "        return self.w\n",
    "\n",
    "f = learn_classes_and_widgets(param1 = 'try this word')"
   ]
  },
  {
   "cell_type": "code",
   "execution_count": 3,
   "metadata": {
    "ExecuteTime": {
     "end_time": "2021-11-24T10:54:40.553541Z",
     "start_time": "2021-11-24T10:54:40.425214Z"
    }
   },
   "outputs": [],
   "source": [
    "import ipywidgets as widgets"
   ]
  },
  {
   "cell_type": "code",
   "execution_count": 4,
   "metadata": {
    "ExecuteTime": {
     "end_time": "2021-11-24T10:54:41.571590Z",
     "start_time": "2021-11-24T10:54:41.465221Z"
    }
   },
   "outputs": [
    {
     "data": {
      "application/vnd.jupyter.widget-view+json": {
       "model_id": "97a4fb2b0d9f45b39b6c5182b534e4fc",
       "version_major": 2,
       "version_minor": 0
      },
      "text/plain": [
       "interactive(children=(Dropdown(description='Month:', options=(('January', 1), ('February', 2), ('March', 3), (…"
      ]
     },
     "metadata": {},
     "output_type": "display_data"
    },
    {
     "data": {
      "text/plain": [
       "<function __main__.myPlot(m)>"
      ]
     },
     "execution_count": 4,
     "metadata": {},
     "output_type": "execute_result"
    }
   ],
   "source": [
    "def myPlot(m):\n",
    "    df_month = dataset1_Txn[dataset1_Txn['Date'].dt.month == m]\n",
    "\n",
    "    sizes = df_month['BusinessArea'].value_counts()\n",
    "    # print(sizes)\n",
    "    labels = 'Large Corporates & Institutions','Business Banking'\n",
    "\n",
    "    fig, ax1 = plt.subplots()\n",
    "    ax1.pie(sizes, explode=(0,0.1), labels=labels, autopct='%1.1f%%',shadow=True, startangle=90, textprops={'fontsize': 16})\n",
    "    ax1.axis('equal')  # Equal aspect ratio ensures that pie is drawn as a circle.\n",
    "    ax1.set_title('Monthly Data')\n",
    "\n",
    "c_slide = widgets.Dropdown(\n",
    "    options=[('January', 1), ('February', 2), ('March', 3),('April', 4), ('May', 5), ('June', 6),\n",
    "            ('July', 7), ('August', 8), ('September', 9),('October', 10), ('November', 11), ('December', 12)],\n",
    "    value=1,\n",
    "    description='Month:',\n",
    ")\n",
    "\n",
    "\n",
    "widgets.interact(myPlot, m=c_slide)\n"
   ]
  },
  {
   "cell_type": "code",
   "execution_count": null,
   "metadata": {},
   "outputs": [],
   "source": []
  }
 ],
 "metadata": {
  "kernelspec": {
   "display_name": "Python 3",
   "language": "python",
   "name": "python3"
  },
  "language_info": {
   "codemirror_mode": {
    "name": "ipython",
    "version": 3
   },
   "file_extension": ".py",
   "mimetype": "text/x-python",
   "name": "python",
   "nbconvert_exporter": "python",
   "pygments_lexer": "ipython3",
   "version": "3.7.6"
  },
  "varInspector": {
   "cols": {
    "lenName": 16,
    "lenType": 16,
    "lenVar": 40
   },
   "kernels_config": {
    "python": {
     "delete_cmd_postfix": "",
     "delete_cmd_prefix": "del ",
     "library": "var_list.py",
     "varRefreshCmd": "print(var_dic_list())"
    },
    "r": {
     "delete_cmd_postfix": ") ",
     "delete_cmd_prefix": "rm(",
     "library": "var_list.r",
     "varRefreshCmd": "cat(var_dic_list()) "
    }
   },
   "types_to_exclude": [
    "module",
    "function",
    "builtin_function_or_method",
    "instance",
    "_Feature"
   ],
   "window_display": true
  }
 },
 "nbformat": 4,
 "nbformat_minor": 4
}
