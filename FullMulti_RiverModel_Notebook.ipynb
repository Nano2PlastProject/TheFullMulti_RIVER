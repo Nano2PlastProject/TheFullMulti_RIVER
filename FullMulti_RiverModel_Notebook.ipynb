{
 "cells": [
  {
   "cell_type": "markdown",
   "metadata": {},
   "source": [
    "##### Set up screen wide view"
   ]
  },
  {
   "cell_type": "code",
   "execution_count": 1,
   "metadata": {
    "ExecuteTime": {
     "end_time": "2021-11-11T16:15:59.995492Z",
     "start_time": "2021-11-11T16:15:59.981562Z"
    }
   },
   "outputs": [
    {
     "data": {
      "text/html": [
       "<style>.container { width:80% !important; }</style>"
      ],
      "text/plain": [
       "<IPython.core.display.HTML object>"
      ]
     },
     "metadata": {},
     "output_type": "display_data"
    }
   ],
   "source": [
    "from IPython.core.display import display, HTML\n",
    "display(HTML(\"<style>.container { width:80% !important; }</style>\"))"
   ]
  },
  {
   "cell_type": "markdown",
   "metadata": {},
   "source": [
    "# Import libraries and modules"
   ]
  },
  {
   "cell_type": "code",
   "execution_count": 2,
   "metadata": {
    "ExecuteTime": {
     "end_time": "2021-11-11T16:16:00.814797Z",
     "start_time": "2021-11-11T16:15:59.997489Z"
    }
   },
   "outputs": [],
   "source": [
    "##Import libraries\n",
    "import os\n",
    "import pandas as pd\n",
    "import itertools\n",
    "import numpy as np\n",
    "import matplotlib.patches as mpatches\n",
    "from matplotlib import pyplot as plt\n",
    "import seaborn as sns\n",
    "from matplotlib.colors import LogNorm\n",
    "from scipy.integrate import odeint\n",
    "from celluloid import Camera\n",
    "from cycler import cycler\n",
    "import warnings\n",
    "warnings.filterwarnings('ignore')\n",
    "%matplotlib inline"
   ]
  },
  {
   "cell_type": "code",
   "execution_count": 3,
   "metadata": {
    "ExecuteTime": {
     "end_time": "2021-11-11T16:16:00.829784Z",
     "start_time": "2021-11-11T16:16:00.816817Z"
    }
   },
   "outputs": [
    {
     "data": {
      "text/plain": [
       "'C:\\\\Users\\\\PradoDomercq\\\\Documents\\\\GitHub\\\\Nano2plast_Models\\\\TheFullMulti_RIVER'"
      ]
     },
     "execution_count": 3,
     "metadata": {},
     "output_type": "execute_result"
    }
   ],
   "source": [
    "##Set current working directory\n",
    "cwd=os.getcwd()\n",
    "cwd"
   ]
  },
  {
   "cell_type": "code",
   "execution_count": 4,
   "metadata": {
    "ExecuteTime": {
     "end_time": "2021-11-11T16:16:00.860918Z",
     "start_time": "2021-11-11T16:16:00.831753Z"
    }
   },
   "outputs": [],
   "source": [
    "os.chdir(cwd+\"\\Functions\")\n",
    "##Import functions\n",
    "from objectGenerationRiver_func import*\n",
    "from GlobalConstants import * \n",
    "from readImputParam import readProcessparam, microplasticData,readCompartmentData\n",
    "from dilutionVol_calculator_func import*\n",
    "import RC_GeneratorRiver\n",
    "from RC_estimation_function import*\n",
    "from reshape_RC_df_fun import*\n",
    "from fillRCmatrixInteractionsTransport_func import*\n",
    "from fillRCinteractionMatrices_func import*\n",
    "from fillInteractions_df_fun import*\n",
    "os.chdir(cwd)"
   ]
  },
  {
   "cell_type": "markdown",
   "metadata": {},
   "source": [
    "# Import input files"
   ]
  },
  {
   "cell_type": "code",
   "execution_count": 5,
   "metadata": {
    "ExecuteTime": {
     "end_time": "2021-11-11T16:16:00.892955Z",
     "start_time": "2021-11-11T16:16:00.862949Z"
    }
   },
   "outputs": [],
   "source": [
    "os.chdir(cwd+\"/Inputs\")\n",
    "#Import process parameters\n",
    "process_df= readProcessparam (\"process_paramRiver.txt\")\n",
    "#Import MP parameters (radius, volume, etc) Same way\n",
    "MP_prop = microplasticData(\"microplasticsSizeClass.txt\")\n",
    "#Import compartment info\n",
    "compartments_prop = readCompartmentData(\"compartmentsGenericRiverSec_prop.txt\")\n",
    "#Add river section depth field\n",
    "RSdepth = []\n",
    "for row in range(len(compartments_prop)):\n",
    "        RSdepth.append(round(sum(compartments_prop.depth_m[0:4]),2))\n",
    "compartments_prop[\"depthRS_m\"]=RSdepth\n",
    "os.chdir(cwd)"
   ]
  },
  {
   "cell_type": "code",
   "execution_count": 6,
   "metadata": {
    "ExecuteTime": {
     "end_time": "2021-11-11T16:16:00.924591Z",
     "start_time": "2021-11-11T16:16:00.894706Z"
    }
   },
   "outputs": [
    {
     "data": {
      "text/html": [
       "<div>\n",
       "<style scoped>\n",
       "    .dataframe tbody tr th:only-of-type {\n",
       "        vertical-align: middle;\n",
       "    }\n",
       "\n",
       "    .dataframe tbody tr th {\n",
       "        vertical-align: top;\n",
       "    }\n",
       "\n",
       "    .dataframe thead th {\n",
       "        text-align: right;\n",
       "    }\n",
       "</style>\n",
       "<table border=\"1\" class=\"dataframe\">\n",
       "  <thead>\n",
       "    <tr style=\"text-align: right;\">\n",
       "      <th></th>\n",
       "      <th>riverSection</th>\n",
       "      <th>nameRS</th>\n",
       "      <th>compartment</th>\n",
       "      <th>compType</th>\n",
       "      <th>depth_m</th>\n",
       "      <th>length_m</th>\n",
       "      <th>volume_m3</th>\n",
       "      <th>width_m</th>\n",
       "      <th>G</th>\n",
       "      <th>T_K</th>\n",
       "      <th>vFlow_m_s</th>\n",
       "      <th>SPM_mgL</th>\n",
       "      <th>depthRS_m</th>\n",
       "    </tr>\n",
       "  </thead>\n",
       "  <tbody>\n",
       "    <tr>\n",
       "      <th>0</th>\n",
       "      <td>0</td>\n",
       "      <td>RS0</td>\n",
       "      <td>1</td>\n",
       "      <td>surface</td>\n",
       "      <td>0.10</td>\n",
       "      <td>50000</td>\n",
       "      <td>400000.0</td>\n",
       "      <td>80</td>\n",
       "      <td>10</td>\n",
       "      <td>287.15</td>\n",
       "      <td>1.3</td>\n",
       "      <td>30</td>\n",
       "      <td>5.42</td>\n",
       "    </tr>\n",
       "    <tr>\n",
       "      <th>1</th>\n",
       "      <td>0</td>\n",
       "      <td>RS0</td>\n",
       "      <td>2</td>\n",
       "      <td>flowingWater</td>\n",
       "      <td>4.90</td>\n",
       "      <td>50000</td>\n",
       "      <td>19600000.0</td>\n",
       "      <td>80</td>\n",
       "      <td>10</td>\n",
       "      <td>287.15</td>\n",
       "      <td>1.3</td>\n",
       "      <td>30</td>\n",
       "      <td>5.42</td>\n",
       "    </tr>\n",
       "    <tr>\n",
       "      <th>2</th>\n",
       "      <td>0</td>\n",
       "      <td>RS0</td>\n",
       "      <td>3</td>\n",
       "      <td>stagnantWater</td>\n",
       "      <td>0.40</td>\n",
       "      <td>50000</td>\n",
       "      <td>1600000.0</td>\n",
       "      <td>80</td>\n",
       "      <td>10</td>\n",
       "      <td>287.15</td>\n",
       "      <td>1.3</td>\n",
       "      <td>30</td>\n",
       "      <td>5.42</td>\n",
       "    </tr>\n",
       "    <tr>\n",
       "      <th>3</th>\n",
       "      <td>0</td>\n",
       "      <td>RS0</td>\n",
       "      <td>4</td>\n",
       "      <td>sediment</td>\n",
       "      <td>0.02</td>\n",
       "      <td>50000</td>\n",
       "      <td>80000.0</td>\n",
       "      <td>80</td>\n",
       "      <td>10</td>\n",
       "      <td>287.15</td>\n",
       "      <td>1.3</td>\n",
       "      <td>30</td>\n",
       "      <td>5.42</td>\n",
       "    </tr>\n",
       "    <tr>\n",
       "      <th>4</th>\n",
       "      <td>1</td>\n",
       "      <td>RS1</td>\n",
       "      <td>1</td>\n",
       "      <td>surface</td>\n",
       "      <td>0.10</td>\n",
       "      <td>50000</td>\n",
       "      <td>400000.0</td>\n",
       "      <td>80</td>\n",
       "      <td>10</td>\n",
       "      <td>287.15</td>\n",
       "      <td>1.3</td>\n",
       "      <td>30</td>\n",
       "      <td>5.42</td>\n",
       "    </tr>\n",
       "    <tr>\n",
       "      <th>...</th>\n",
       "      <td>...</td>\n",
       "      <td>...</td>\n",
       "      <td>...</td>\n",
       "      <td>...</td>\n",
       "      <td>...</td>\n",
       "      <td>...</td>\n",
       "      <td>...</td>\n",
       "      <td>...</td>\n",
       "      <td>...</td>\n",
       "      <td>...</td>\n",
       "      <td>...</td>\n",
       "      <td>...</td>\n",
       "      <td>...</td>\n",
       "    </tr>\n",
       "    <tr>\n",
       "      <th>75</th>\n",
       "      <td>18</td>\n",
       "      <td>RS18</td>\n",
       "      <td>4</td>\n",
       "      <td>sediment</td>\n",
       "      <td>0.02</td>\n",
       "      <td>50000</td>\n",
       "      <td>80000.0</td>\n",
       "      <td>80</td>\n",
       "      <td>10</td>\n",
       "      <td>287.15</td>\n",
       "      <td>1.3</td>\n",
       "      <td>30</td>\n",
       "      <td>5.42</td>\n",
       "    </tr>\n",
       "    <tr>\n",
       "      <th>76</th>\n",
       "      <td>19</td>\n",
       "      <td>RS19</td>\n",
       "      <td>1</td>\n",
       "      <td>surface</td>\n",
       "      <td>0.10</td>\n",
       "      <td>50000</td>\n",
       "      <td>400000.0</td>\n",
       "      <td>80</td>\n",
       "      <td>10</td>\n",
       "      <td>287.15</td>\n",
       "      <td>1.3</td>\n",
       "      <td>30</td>\n",
       "      <td>5.42</td>\n",
       "    </tr>\n",
       "    <tr>\n",
       "      <th>77</th>\n",
       "      <td>19</td>\n",
       "      <td>RS19</td>\n",
       "      <td>2</td>\n",
       "      <td>flowingWater</td>\n",
       "      <td>4.90</td>\n",
       "      <td>50000</td>\n",
       "      <td>19600000.0</td>\n",
       "      <td>80</td>\n",
       "      <td>10</td>\n",
       "      <td>287.15</td>\n",
       "      <td>1.3</td>\n",
       "      <td>30</td>\n",
       "      <td>5.42</td>\n",
       "    </tr>\n",
       "    <tr>\n",
       "      <th>78</th>\n",
       "      <td>19</td>\n",
       "      <td>RS19</td>\n",
       "      <td>3</td>\n",
       "      <td>stagnantWater</td>\n",
       "      <td>0.40</td>\n",
       "      <td>50000</td>\n",
       "      <td>1600000.0</td>\n",
       "      <td>80</td>\n",
       "      <td>10</td>\n",
       "      <td>287.15</td>\n",
       "      <td>1.3</td>\n",
       "      <td>30</td>\n",
       "      <td>5.42</td>\n",
       "    </tr>\n",
       "    <tr>\n",
       "      <th>79</th>\n",
       "      <td>19</td>\n",
       "      <td>RS19</td>\n",
       "      <td>4</td>\n",
       "      <td>sediment</td>\n",
       "      <td>0.02</td>\n",
       "      <td>50000</td>\n",
       "      <td>80000.0</td>\n",
       "      <td>80</td>\n",
       "      <td>10</td>\n",
       "      <td>287.15</td>\n",
       "      <td>1.3</td>\n",
       "      <td>30</td>\n",
       "      <td>5.42</td>\n",
       "    </tr>\n",
       "  </tbody>\n",
       "</table>\n",
       "<p>80 rows × 13 columns</p>\n",
       "</div>"
      ],
      "text/plain": [
       "    riverSection nameRS  compartment       compType  depth_m  length_m  \\\n",
       "0              0    RS0            1        surface     0.10     50000   \n",
       "1              0    RS0            2   flowingWater     4.90     50000   \n",
       "2              0    RS0            3  stagnantWater     0.40     50000   \n",
       "3              0    RS0            4       sediment     0.02     50000   \n",
       "4              1    RS1            1        surface     0.10     50000   \n",
       "..           ...    ...          ...            ...      ...       ...   \n",
       "75            18   RS18            4       sediment     0.02     50000   \n",
       "76            19   RS19            1        surface     0.10     50000   \n",
       "77            19   RS19            2   flowingWater     4.90     50000   \n",
       "78            19   RS19            3  stagnantWater     0.40     50000   \n",
       "79            19   RS19            4       sediment     0.02     50000   \n",
       "\n",
       "     volume_m3  width_m   G     T_K  vFlow_m_s  SPM_mgL  depthRS_m  \n",
       "0     400000.0       80  10  287.15        1.3       30       5.42  \n",
       "1   19600000.0       80  10  287.15        1.3       30       5.42  \n",
       "2    1600000.0       80  10  287.15        1.3       30       5.42  \n",
       "3      80000.0       80  10  287.15        1.3       30       5.42  \n",
       "4     400000.0       80  10  287.15        1.3       30       5.42  \n",
       "..         ...      ...  ..     ...        ...      ...        ...  \n",
       "75     80000.0       80  10  287.15        1.3       30       5.42  \n",
       "76    400000.0       80  10  287.15        1.3       30       5.42  \n",
       "77  19600000.0       80  10  287.15        1.3       30       5.42  \n",
       "78   1600000.0       80  10  287.15        1.3       30       5.42  \n",
       "79     80000.0       80  10  287.15        1.3       30       5.42  \n",
       "\n",
       "[80 rows x 13 columns]"
      ]
     },
     "execution_count": 6,
     "metadata": {},
     "output_type": "execute_result"
    }
   ],
   "source": [
    "compartments_prop"
   ]
  },
  {
   "cell_type": "code",
   "execution_count": 7,
   "metadata": {
    "ExecuteTime": {
     "end_time": "2021-11-11T16:16:00.940460Z",
     "start_time": "2021-11-11T16:16:00.926418Z"
    }
   },
   "outputs": [
    {
     "data": {
      "text/html": [
       "<div>\n",
       "<style scoped>\n",
       "    .dataframe tbody tr th:only-of-type {\n",
       "        vertical-align: middle;\n",
       "    }\n",
       "\n",
       "    .dataframe tbody tr th {\n",
       "        vertical-align: top;\n",
       "    }\n",
       "\n",
       "    .dataframe thead th {\n",
       "        text-align: right;\n",
       "    }\n",
       "</style>\n",
       "<table border=\"1\" class=\"dataframe\">\n",
       "  <thead>\n",
       "    <tr style=\"text-align: right;\">\n",
       "      <th></th>\n",
       "      <th>ID</th>\n",
       "      <th>compartment</th>\n",
       "      <th>aggState</th>\n",
       "      <th>alpha</th>\n",
       "      <th>t_half_d</th>\n",
       "      <th>t_frag_d</th>\n",
       "      <th>t_biof_growth_d</th>\n",
       "      <th>t_biof_degrad_d</th>\n",
       "    </tr>\n",
       "  </thead>\n",
       "  <tbody>\n",
       "    <tr>\n",
       "      <th>0</th>\n",
       "      <td>1</td>\n",
       "      <td>1</td>\n",
       "      <td>A</td>\n",
       "      <td>0.01</td>\n",
       "      <td>5000</td>\n",
       "      <td>36.5</td>\n",
       "      <td>10</td>\n",
       "      <td>NAN</td>\n",
       "    </tr>\n",
       "    <tr>\n",
       "      <th>1</th>\n",
       "      <td>2</td>\n",
       "      <td>1</td>\n",
       "      <td>B</td>\n",
       "      <td>NaN</td>\n",
       "      <td>50000</td>\n",
       "      <td>NAN</td>\n",
       "      <td>10</td>\n",
       "      <td>NAN</td>\n",
       "    </tr>\n",
       "    <tr>\n",
       "      <th>2</th>\n",
       "      <td>3</td>\n",
       "      <td>1</td>\n",
       "      <td>C</td>\n",
       "      <td>0.02</td>\n",
       "      <td>25000</td>\n",
       "      <td>73.0</td>\n",
       "      <td>10</td>\n",
       "      <td>NAN</td>\n",
       "    </tr>\n",
       "    <tr>\n",
       "      <th>3</th>\n",
       "      <td>4</td>\n",
       "      <td>1</td>\n",
       "      <td>D</td>\n",
       "      <td>NaN</td>\n",
       "      <td>100000</td>\n",
       "      <td>NAN</td>\n",
       "      <td>10</td>\n",
       "      <td>NAN</td>\n",
       "    </tr>\n",
       "    <tr>\n",
       "      <th>4</th>\n",
       "      <td>5</td>\n",
       "      <td>2</td>\n",
       "      <td>A</td>\n",
       "      <td>0.01</td>\n",
       "      <td>5000</td>\n",
       "      <td>365</td>\n",
       "      <td>30</td>\n",
       "      <td>NAN</td>\n",
       "    </tr>\n",
       "    <tr>\n",
       "      <th>5</th>\n",
       "      <td>6</td>\n",
       "      <td>2</td>\n",
       "      <td>B</td>\n",
       "      <td>NaN</td>\n",
       "      <td>50000</td>\n",
       "      <td>NAN</td>\n",
       "      <td>30</td>\n",
       "      <td>NAN</td>\n",
       "    </tr>\n",
       "    <tr>\n",
       "      <th>6</th>\n",
       "      <td>7</td>\n",
       "      <td>2</td>\n",
       "      <td>C</td>\n",
       "      <td>0.02</td>\n",
       "      <td>25000</td>\n",
       "      <td>730</td>\n",
       "      <td>30</td>\n",
       "      <td>NAN</td>\n",
       "    </tr>\n",
       "    <tr>\n",
       "      <th>7</th>\n",
       "      <td>8</td>\n",
       "      <td>2</td>\n",
       "      <td>D</td>\n",
       "      <td>NaN</td>\n",
       "      <td>100000</td>\n",
       "      <td>NAN</td>\n",
       "      <td>30</td>\n",
       "      <td>NAN</td>\n",
       "    </tr>\n",
       "    <tr>\n",
       "      <th>8</th>\n",
       "      <td>9</td>\n",
       "      <td>3</td>\n",
       "      <td>A</td>\n",
       "      <td>0.01</td>\n",
       "      <td>5000</td>\n",
       "      <td>365</td>\n",
       "      <td>300</td>\n",
       "      <td>NAN</td>\n",
       "    </tr>\n",
       "    <tr>\n",
       "      <th>9</th>\n",
       "      <td>10</td>\n",
       "      <td>3</td>\n",
       "      <td>B</td>\n",
       "      <td>NaN</td>\n",
       "      <td>50000</td>\n",
       "      <td>NAN</td>\n",
       "      <td>300</td>\n",
       "      <td>NAN</td>\n",
       "    </tr>\n",
       "    <tr>\n",
       "      <th>10</th>\n",
       "      <td>11</td>\n",
       "      <td>3</td>\n",
       "      <td>C</td>\n",
       "      <td>0.02</td>\n",
       "      <td>25000</td>\n",
       "      <td>730</td>\n",
       "      <td>300</td>\n",
       "      <td>NAN</td>\n",
       "    </tr>\n",
       "    <tr>\n",
       "      <th>11</th>\n",
       "      <td>12</td>\n",
       "      <td>3</td>\n",
       "      <td>D</td>\n",
       "      <td>NaN</td>\n",
       "      <td>100000</td>\n",
       "      <td>NAN</td>\n",
       "      <td>300</td>\n",
       "      <td>NAN</td>\n",
       "    </tr>\n",
       "    <tr>\n",
       "      <th>12</th>\n",
       "      <td>13</td>\n",
       "      <td>4</td>\n",
       "      <td>A</td>\n",
       "      <td>0.00</td>\n",
       "      <td>5000</td>\n",
       "      <td>365</td>\n",
       "      <td>0</td>\n",
       "      <td>NAN</td>\n",
       "    </tr>\n",
       "    <tr>\n",
       "      <th>13</th>\n",
       "      <td>14</td>\n",
       "      <td>4</td>\n",
       "      <td>B</td>\n",
       "      <td>NaN</td>\n",
       "      <td>50000</td>\n",
       "      <td>NAN</td>\n",
       "      <td>0</td>\n",
       "      <td>NAN</td>\n",
       "    </tr>\n",
       "    <tr>\n",
       "      <th>14</th>\n",
       "      <td>15</td>\n",
       "      <td>4</td>\n",
       "      <td>C</td>\n",
       "      <td>0.00</td>\n",
       "      <td>25000</td>\n",
       "      <td>730</td>\n",
       "      <td>0</td>\n",
       "      <td>NAN</td>\n",
       "    </tr>\n",
       "    <tr>\n",
       "      <th>15</th>\n",
       "      <td>16</td>\n",
       "      <td>4</td>\n",
       "      <td>D</td>\n",
       "      <td>NaN</td>\n",
       "      <td>100000</td>\n",
       "      <td>NAN</td>\n",
       "      <td>0</td>\n",
       "      <td>NAN</td>\n",
       "    </tr>\n",
       "  </tbody>\n",
       "</table>\n",
       "</div>"
      ],
      "text/plain": [
       "    ID  compartment aggState  alpha  t_half_d t_frag_d  t_biof_growth_d  \\\n",
       "0    1            1        A   0.01      5000     36.5               10   \n",
       "1    2            1        B    NaN     50000      NAN               10   \n",
       "2    3            1        C   0.02     25000     73.0               10   \n",
       "3    4            1        D    NaN    100000      NAN               10   \n",
       "4    5            2        A   0.01      5000      365               30   \n",
       "5    6            2        B    NaN     50000      NAN               30   \n",
       "6    7            2        C   0.02     25000      730               30   \n",
       "7    8            2        D    NaN    100000      NAN               30   \n",
       "8    9            3        A   0.01      5000      365              300   \n",
       "9   10            3        B    NaN     50000      NAN              300   \n",
       "10  11            3        C   0.02     25000      730              300   \n",
       "11  12            3        D    NaN    100000      NAN              300   \n",
       "12  13            4        A   0.00      5000      365                0   \n",
       "13  14            4        B    NaN     50000      NAN                0   \n",
       "14  15            4        C   0.00     25000      730                0   \n",
       "15  16            4        D    NaN    100000      NAN                0   \n",
       "\n",
       "   t_biof_degrad_d  \n",
       "0              NAN  \n",
       "1              NAN  \n",
       "2              NAN  \n",
       "3              NAN  \n",
       "4              NAN  \n",
       "5              NAN  \n",
       "6              NAN  \n",
       "7              NAN  \n",
       "8         NAN       \n",
       "9              NAN  \n",
       "10             NAN  \n",
       "11             NAN  \n",
       "12             NAN  \n",
       "13             NAN  \n",
       "14             NAN  \n",
       "15             NAN  "
      ]
     },
     "execution_count": 7,
     "metadata": {},
     "output_type": "execute_result"
    }
   ],
   "source": [
    "process_df"
   ]
  },
  {
   "cell_type": "code",
   "execution_count": 8,
   "metadata": {
    "ExecuteTime": {
     "end_time": "2021-11-11T16:16:00.970890Z",
     "start_time": "2021-11-11T16:16:00.942965Z"
    }
   },
   "outputs": [
    {
     "data": {
      "text/html": [
       "<div>\n",
       "<style scoped>\n",
       "    .dataframe tbody tr th:only-of-type {\n",
       "        vertical-align: middle;\n",
       "    }\n",
       "\n",
       "    .dataframe tbody tr th {\n",
       "        vertical-align: top;\n",
       "    }\n",
       "\n",
       "    .dataframe thead th {\n",
       "        text-align: right;\n",
       "    }\n",
       "</style>\n",
       "<table border=\"1\" class=\"dataframe\">\n",
       "  <thead>\n",
       "    <tr style=\"text-align: right;\">\n",
       "      <th></th>\n",
       "      <th>ID</th>\n",
       "      <th>name</th>\n",
       "      <th>composition</th>\n",
       "      <th>density_kg_m3</th>\n",
       "      <th>MPshape</th>\n",
       "      <th>sizeBin</th>\n",
       "      <th>diameter_um</th>\n",
       "      <th>length_a_um</th>\n",
       "      <th>length_b_um</th>\n",
       "      <th>length_c_um</th>\n",
       "    </tr>\n",
       "  </thead>\n",
       "  <tbody>\n",
       "    <tr>\n",
       "      <th>0</th>\n",
       "      <td>1</td>\n",
       "      <td>MP1</td>\n",
       "      <td>PE</td>\n",
       "      <td>980</td>\n",
       "      <td>sphere</td>\n",
       "      <td>a</td>\n",
       "      <td>0.1</td>\n",
       "      <td>0</td>\n",
       "      <td>0</td>\n",
       "      <td>0</td>\n",
       "    </tr>\n",
       "    <tr>\n",
       "      <th>1</th>\n",
       "      <td>1</td>\n",
       "      <td>MP1</td>\n",
       "      <td>PE</td>\n",
       "      <td>980</td>\n",
       "      <td>sphere</td>\n",
       "      <td>b</td>\n",
       "      <td>1.0</td>\n",
       "      <td>0</td>\n",
       "      <td>0</td>\n",
       "      <td>0</td>\n",
       "    </tr>\n",
       "    <tr>\n",
       "      <th>2</th>\n",
       "      <td>1</td>\n",
       "      <td>MP1</td>\n",
       "      <td>PE</td>\n",
       "      <td>980</td>\n",
       "      <td>sphere</td>\n",
       "      <td>c</td>\n",
       "      <td>10.0</td>\n",
       "      <td>0</td>\n",
       "      <td>0</td>\n",
       "      <td>0</td>\n",
       "    </tr>\n",
       "    <tr>\n",
       "      <th>3</th>\n",
       "      <td>1</td>\n",
       "      <td>MP1</td>\n",
       "      <td>PE</td>\n",
       "      <td>980</td>\n",
       "      <td>sphere</td>\n",
       "      <td>d</td>\n",
       "      <td>100.0</td>\n",
       "      <td>0</td>\n",
       "      <td>0</td>\n",
       "      <td>0</td>\n",
       "    </tr>\n",
       "    <tr>\n",
       "      <th>4</th>\n",
       "      <td>1</td>\n",
       "      <td>MP1</td>\n",
       "      <td>PE</td>\n",
       "      <td>980</td>\n",
       "      <td>sphere</td>\n",
       "      <td>e</td>\n",
       "      <td>1000.0</td>\n",
       "      <td>0</td>\n",
       "      <td>0</td>\n",
       "      <td>0</td>\n",
       "    </tr>\n",
       "    <tr>\n",
       "      <th>5</th>\n",
       "      <td>2</td>\n",
       "      <td>MP2</td>\n",
       "      <td>PP</td>\n",
       "      <td>850</td>\n",
       "      <td>fibre</td>\n",
       "      <td>a</td>\n",
       "      <td>0.1</td>\n",
       "      <td>10</td>\n",
       "      <td>0</td>\n",
       "      <td>0</td>\n",
       "    </tr>\n",
       "    <tr>\n",
       "      <th>6</th>\n",
       "      <td>2</td>\n",
       "      <td>MP2</td>\n",
       "      <td>PP</td>\n",
       "      <td>850</td>\n",
       "      <td>fibre</td>\n",
       "      <td>b</td>\n",
       "      <td>1.0</td>\n",
       "      <td>10</td>\n",
       "      <td>0</td>\n",
       "      <td>0</td>\n",
       "    </tr>\n",
       "    <tr>\n",
       "      <th>7</th>\n",
       "      <td>2</td>\n",
       "      <td>MP2</td>\n",
       "      <td>PP</td>\n",
       "      <td>850</td>\n",
       "      <td>fibre</td>\n",
       "      <td>c</td>\n",
       "      <td>10.0</td>\n",
       "      <td>10</td>\n",
       "      <td>0</td>\n",
       "      <td>0</td>\n",
       "    </tr>\n",
       "    <tr>\n",
       "      <th>8</th>\n",
       "      <td>2</td>\n",
       "      <td>MP2</td>\n",
       "      <td>PP</td>\n",
       "      <td>850</td>\n",
       "      <td>fibre</td>\n",
       "      <td>d</td>\n",
       "      <td>100.0</td>\n",
       "      <td>10</td>\n",
       "      <td>0</td>\n",
       "      <td>0</td>\n",
       "    </tr>\n",
       "    <tr>\n",
       "      <th>9</th>\n",
       "      <td>2</td>\n",
       "      <td>MP2</td>\n",
       "      <td>PP</td>\n",
       "      <td>850</td>\n",
       "      <td>fibre</td>\n",
       "      <td>e</td>\n",
       "      <td>1000.0</td>\n",
       "      <td>10</td>\n",
       "      <td>0</td>\n",
       "      <td>0</td>\n",
       "    </tr>\n",
       "    <tr>\n",
       "      <th>10</th>\n",
       "      <td>3</td>\n",
       "      <td>MP3</td>\n",
       "      <td>PS</td>\n",
       "      <td>1080</td>\n",
       "      <td>sphere</td>\n",
       "      <td>a</td>\n",
       "      <td>0.1</td>\n",
       "      <td>0</td>\n",
       "      <td>0</td>\n",
       "      <td>0</td>\n",
       "    </tr>\n",
       "    <tr>\n",
       "      <th>11</th>\n",
       "      <td>3</td>\n",
       "      <td>MP3</td>\n",
       "      <td>PS</td>\n",
       "      <td>1080</td>\n",
       "      <td>sphere</td>\n",
       "      <td>b</td>\n",
       "      <td>1.0</td>\n",
       "      <td>0</td>\n",
       "      <td>0</td>\n",
       "      <td>0</td>\n",
       "    </tr>\n",
       "    <tr>\n",
       "      <th>12</th>\n",
       "      <td>3</td>\n",
       "      <td>MP3</td>\n",
       "      <td>PS</td>\n",
       "      <td>1080</td>\n",
       "      <td>sphere</td>\n",
       "      <td>c</td>\n",
       "      <td>10.0</td>\n",
       "      <td>0</td>\n",
       "      <td>0</td>\n",
       "      <td>0</td>\n",
       "    </tr>\n",
       "    <tr>\n",
       "      <th>13</th>\n",
       "      <td>3</td>\n",
       "      <td>MP3</td>\n",
       "      <td>PS</td>\n",
       "      <td>1080</td>\n",
       "      <td>sphere</td>\n",
       "      <td>d</td>\n",
       "      <td>1000.0</td>\n",
       "      <td>0</td>\n",
       "      <td>0</td>\n",
       "      <td>0</td>\n",
       "    </tr>\n",
       "    <tr>\n",
       "      <th>14</th>\n",
       "      <td>4</td>\n",
       "      <td>SPM1</td>\n",
       "      <td>mixed</td>\n",
       "      <td>2000</td>\n",
       "      <td>sphere</td>\n",
       "      <td>a</td>\n",
       "      <td>0.5</td>\n",
       "      <td>0</td>\n",
       "      <td>0</td>\n",
       "      <td>0</td>\n",
       "    </tr>\n",
       "    <tr>\n",
       "      <th>15</th>\n",
       "      <td>4</td>\n",
       "      <td>SPM1</td>\n",
       "      <td>mixed</td>\n",
       "      <td>2000</td>\n",
       "      <td>sphere</td>\n",
       "      <td>b</td>\n",
       "      <td>0.5</td>\n",
       "      <td>0</td>\n",
       "      <td>0</td>\n",
       "      <td>0</td>\n",
       "    </tr>\n",
       "    <tr>\n",
       "      <th>16</th>\n",
       "      <td>4</td>\n",
       "      <td>SPM1</td>\n",
       "      <td>mixed</td>\n",
       "      <td>2000</td>\n",
       "      <td>sphere</td>\n",
       "      <td>c</td>\n",
       "      <td>0.5</td>\n",
       "      <td>0</td>\n",
       "      <td>0</td>\n",
       "      <td>0</td>\n",
       "    </tr>\n",
       "    <tr>\n",
       "      <th>17</th>\n",
       "      <td>4</td>\n",
       "      <td>SPM1</td>\n",
       "      <td>mixed</td>\n",
       "      <td>2000</td>\n",
       "      <td>sphere</td>\n",
       "      <td>d</td>\n",
       "      <td>0.5</td>\n",
       "      <td>0</td>\n",
       "      <td>0</td>\n",
       "      <td>0</td>\n",
       "    </tr>\n",
       "    <tr>\n",
       "      <th>18</th>\n",
       "      <td>4</td>\n",
       "      <td>SPM1</td>\n",
       "      <td>mixed</td>\n",
       "      <td>2000</td>\n",
       "      <td>sphere</td>\n",
       "      <td>e</td>\n",
       "      <td>0.5</td>\n",
       "      <td>0</td>\n",
       "      <td>0</td>\n",
       "      <td>0</td>\n",
       "    </tr>\n",
       "    <tr>\n",
       "      <th>19</th>\n",
       "      <td>5</td>\n",
       "      <td>MP4</td>\n",
       "      <td>PVC</td>\n",
       "      <td>1580</td>\n",
       "      <td>sphere</td>\n",
       "      <td>a</td>\n",
       "      <td>0.1</td>\n",
       "      <td>0</td>\n",
       "      <td>0</td>\n",
       "      <td>0</td>\n",
       "    </tr>\n",
       "    <tr>\n",
       "      <th>20</th>\n",
       "      <td>5</td>\n",
       "      <td>MP4</td>\n",
       "      <td>PVC</td>\n",
       "      <td>1580</td>\n",
       "      <td>sphere</td>\n",
       "      <td>b</td>\n",
       "      <td>1.0</td>\n",
       "      <td>0</td>\n",
       "      <td>0</td>\n",
       "      <td>0</td>\n",
       "    </tr>\n",
       "    <tr>\n",
       "      <th>21</th>\n",
       "      <td>5</td>\n",
       "      <td>MP4</td>\n",
       "      <td>PVC</td>\n",
       "      <td>1580</td>\n",
       "      <td>sphere</td>\n",
       "      <td>c</td>\n",
       "      <td>10.0</td>\n",
       "      <td>0</td>\n",
       "      <td>0</td>\n",
       "      <td>0</td>\n",
       "    </tr>\n",
       "    <tr>\n",
       "      <th>22</th>\n",
       "      <td>5</td>\n",
       "      <td>MP4</td>\n",
       "      <td>PVC</td>\n",
       "      <td>1580</td>\n",
       "      <td>sphere</td>\n",
       "      <td>d</td>\n",
       "      <td>100.0</td>\n",
       "      <td>0</td>\n",
       "      <td>0</td>\n",
       "      <td>0</td>\n",
       "    </tr>\n",
       "    <tr>\n",
       "      <th>23</th>\n",
       "      <td>5</td>\n",
       "      <td>MP4</td>\n",
       "      <td>PVC</td>\n",
       "      <td>1580</td>\n",
       "      <td>sphere</td>\n",
       "      <td>e</td>\n",
       "      <td>1000.0</td>\n",
       "      <td>0</td>\n",
       "      <td>0</td>\n",
       "      <td>0</td>\n",
       "    </tr>\n",
       "    <tr>\n",
       "      <th>24</th>\n",
       "      <td>6</td>\n",
       "      <td>MP5</td>\n",
       "      <td>PA</td>\n",
       "      <td>1000</td>\n",
       "      <td>sphere</td>\n",
       "      <td>a</td>\n",
       "      <td>0.1</td>\n",
       "      <td>0</td>\n",
       "      <td>0</td>\n",
       "      <td>0</td>\n",
       "    </tr>\n",
       "    <tr>\n",
       "      <th>25</th>\n",
       "      <td>6</td>\n",
       "      <td>MP5</td>\n",
       "      <td>PA</td>\n",
       "      <td>1000</td>\n",
       "      <td>sphere</td>\n",
       "      <td>b</td>\n",
       "      <td>1.0</td>\n",
       "      <td>0</td>\n",
       "      <td>0</td>\n",
       "      <td>0</td>\n",
       "    </tr>\n",
       "    <tr>\n",
       "      <th>26</th>\n",
       "      <td>6</td>\n",
       "      <td>MP5</td>\n",
       "      <td>PA</td>\n",
       "      <td>1000</td>\n",
       "      <td>sphere</td>\n",
       "      <td>c</td>\n",
       "      <td>10.0</td>\n",
       "      <td>0</td>\n",
       "      <td>0</td>\n",
       "      <td>0</td>\n",
       "    </tr>\n",
       "    <tr>\n",
       "      <th>27</th>\n",
       "      <td>6</td>\n",
       "      <td>MP5</td>\n",
       "      <td>PA</td>\n",
       "      <td>1000</td>\n",
       "      <td>sphere</td>\n",
       "      <td>d</td>\n",
       "      <td>100.0</td>\n",
       "      <td>0</td>\n",
       "      <td>0</td>\n",
       "      <td>0</td>\n",
       "    </tr>\n",
       "    <tr>\n",
       "      <th>28</th>\n",
       "      <td>6</td>\n",
       "      <td>MP5</td>\n",
       "      <td>PA</td>\n",
       "      <td>1000</td>\n",
       "      <td>sphere</td>\n",
       "      <td>e</td>\n",
       "      <td>1000.0</td>\n",
       "      <td>0</td>\n",
       "      <td>0</td>\n",
       "      <td>0</td>\n",
       "    </tr>\n",
       "  </tbody>\n",
       "</table>\n",
       "</div>"
      ],
      "text/plain": [
       "    ID  name composition  density_kg_m3 MPshape sizeBin  diameter_um  \\\n",
       "0    1   MP1          PE            980  sphere       a          0.1   \n",
       "1    1   MP1          PE            980  sphere       b          1.0   \n",
       "2    1   MP1          PE            980  sphere       c         10.0   \n",
       "3    1   MP1          PE            980  sphere       d        100.0   \n",
       "4    1   MP1          PE            980  sphere       e       1000.0   \n",
       "5    2   MP2          PP            850   fibre       a          0.1   \n",
       "6    2   MP2          PP            850   fibre       b          1.0   \n",
       "7    2   MP2          PP            850   fibre       c         10.0   \n",
       "8    2   MP2          PP            850   fibre       d        100.0   \n",
       "9    2   MP2          PP            850   fibre       e       1000.0   \n",
       "10   3   MP3          PS           1080  sphere       a          0.1   \n",
       "11   3   MP3          PS           1080  sphere       b          1.0   \n",
       "12   3   MP3          PS           1080  sphere       c         10.0   \n",
       "13   3   MP3          PS           1080  sphere       d       1000.0   \n",
       "14   4  SPM1       mixed           2000  sphere       a          0.5   \n",
       "15   4  SPM1       mixed           2000  sphere       b          0.5   \n",
       "16   4  SPM1       mixed           2000  sphere       c          0.5   \n",
       "17   4  SPM1       mixed           2000  sphere       d          0.5   \n",
       "18   4  SPM1       mixed           2000  sphere       e          0.5   \n",
       "19   5   MP4         PVC           1580  sphere       a          0.1   \n",
       "20   5   MP4         PVC           1580  sphere       b          1.0   \n",
       "21   5   MP4         PVC           1580  sphere       c         10.0   \n",
       "22   5   MP4         PVC           1580  sphere       d        100.0   \n",
       "23   5   MP4         PVC           1580  sphere       e       1000.0   \n",
       "24   6   MP5          PA           1000  sphere       a          0.1   \n",
       "25   6   MP5          PA           1000  sphere       b          1.0   \n",
       "26   6   MP5          PA           1000  sphere       c         10.0   \n",
       "27   6   MP5          PA           1000  sphere       d        100.0   \n",
       "28   6   MP5          PA           1000  sphere       e       1000.0   \n",
       "\n",
       "    length_a_um  length_b_um  length_c_um  \n",
       "0             0            0            0  \n",
       "1             0            0            0  \n",
       "2             0            0            0  \n",
       "3             0            0            0  \n",
       "4             0            0            0  \n",
       "5            10            0            0  \n",
       "6            10            0            0  \n",
       "7            10            0            0  \n",
       "8            10            0            0  \n",
       "9            10            0            0  \n",
       "10            0            0            0  \n",
       "11            0            0            0  \n",
       "12            0            0            0  \n",
       "13            0            0            0  \n",
       "14            0            0            0  \n",
       "15            0            0            0  \n",
       "16            0            0            0  \n",
       "17            0            0            0  \n",
       "18            0            0            0  \n",
       "19            0            0            0  \n",
       "20            0            0            0  \n",
       "21            0            0            0  \n",
       "22            0            0            0  \n",
       "23            0            0            0  \n",
       "24            0            0            0  \n",
       "25            0            0            0  \n",
       "26            0            0            0  \n",
       "27            0            0            0  \n",
       "28            0            0            0  "
      ]
     },
     "execution_count": 8,
     "metadata": {},
     "output_type": "execute_result"
    }
   ],
   "source": [
    "MP_prop"
   ]
  },
  {
   "cell_type": "markdown",
   "metadata": {},
   "source": [
    "# Model set up"
   ]
  },
  {
   "cell_type": "code",
   "execution_count": 9,
   "metadata": {
    "ExecuteTime": {
     "end_time": "2021-11-11T16:16:00.986960Z",
     "start_time": "2021-11-11T16:16:00.972998Z"
    }
   },
   "outputs": [],
   "source": [
    "#RIVER COMPARTMENTS\n",
    "compartments = [\"Surface Water\", \"Flowing Water\", \"Stagnant Water\", \"Sediment\"]\n",
    "riverComp = [\"1\", \"2\", \"3\", \"4\"]"
   ]
  },
  {
   "cell_type": "code",
   "execution_count": 10,
   "metadata": {
    "ExecuteTime": {
     "end_time": "2021-11-11T16:16:01.002818Z",
     "start_time": "2021-11-11T16:16:00.987957Z"
    }
   },
   "outputs": [],
   "source": [
    "#MICROPLASTICS FORMS \n",
    "MPforms = [\"A\", \"B\", \"C\", \"D\"]\n",
    "MPformslabels = [\"Free\", \"Heteroaggregated\", \"Biofiolm-covered\", \"Biofilm-heteroaggregated\"]"
   ]
  },
  {
   "cell_type": "code",
   "execution_count": 11,
   "metadata": {
    "ExecuteTime": {
     "end_time": "2021-11-11T16:16:01.017778Z",
     "start_time": "2021-11-11T16:16:01.005811Z"
    }
   },
   "outputs": [],
   "source": [
    "#SIZE BINS\n",
    "sizeBin =[\"a\", \"b\", \"c\", \"d\", \"e\"]\n",
    "sizeBinLabel = [\"0.1um\", \"1um\",\"10um\", \"100um\", \"1000um\"]# Detection limit for MPs via Fourier Transform Infrared Spectroscopy is 20um"
   ]
  },
  {
   "cell_type": "code",
   "execution_count": 12,
   "metadata": {
    "ExecuteTime": {
     "end_time": "2021-11-11T16:16:01.033188Z",
     "start_time": "2021-11-11T16:16:01.019773Z"
    }
   },
   "outputs": [],
   "source": [
    "#MPS RIVER PROCESSES (FATE AND TRANSPORT) LIST\n",
    "processList = [\"degradation\", \"fragmentation\", \"heteroagg\", \"breakup\", \"settling\",\"rising\", \"advection\", \"mixing\", \"biofilm\", \"resusp\", \"burial\",\"sedTransport\", \"defouling\"]"
   ]
  },
  {
   "cell_type": "code",
   "execution_count": 13,
   "metadata": {
    "ExecuteTime": {
     "end_time": "2021-11-11T16:16:01.048382Z",
     "start_time": "2021-11-11T16:16:01.035183Z"
    }
   },
   "outputs": [],
   "source": [
    "#RIVER SECTIONS\n",
    "numberRS=len (compartments_prop)/len(riverComp)\n",
    "listRS = [*range(0,int(numberRS),1)]\n",
    "riverSect = [str(item) for item in listRS]\n",
    "riverLengths = [str(it) for it in compartments_prop[\"length_m\"]]\n",
    "riverSectLength= riverLengths[0::4]\n",
    "RS_cumLength_m =[]\n",
    "for d in range(len(riverSectLength)):\n",
    "    if d==0:\n",
    "        RS_cumLength_m.append(float(riverSectLength[d]))\n",
    "    else:\n",
    "        RS_cumLength_m.append(float(riverSectLength[d])+float(RS_cumLength_m[d-1]))"
   ]
  },
  {
   "cell_type": "markdown",
   "metadata": {},
   "source": [
    "## Define run parameters\n",
    "- Solver (Dynamic). SteadyState under developement\n",
    "- mode (Standard). Monthly under developement\n",
    "- mode2 (Timelimit or raw): \"Timelimit\" mode sets up a time limit of 30min on the processes that exceeds that speed, while \"raw\" mode leaves the rate constant as calcualted. The raw version can straing the solver due to time.\n",
    "- record (True or False) : if \"True\" the results, RC and intercations dataframes will be recorded in the Results folder."
   ]
  },
  {
   "cell_type": "code",
   "execution_count": 14,
   "metadata": {
    "ExecuteTime": {
     "end_time": "2021-11-11T16:16:01.063656Z",
     "start_time": "2021-11-11T16:16:01.050377Z"
    }
   },
   "outputs": [],
   "source": [
    "SOLVER = \"Dynamic\" \n",
    "mode = \"Standard\" \n",
    "mode2 = \"Timelimit\" \n",
    "record = \"True\""
   ]
  },
  {
   "cell_type": "markdown",
   "metadata": {},
   "source": [
    "## Define scenario \n",
    "- composition: define MP composition to study. The composition is defined in the microplastics imput file microplasticsSizeClass.txt. Examples given in such file: PE, PA and PVC.\n",
    "- imputMP: Define imput location and wich MP form is emmited by indicating the river section number, river compartment number, MP aggregation state and size bin: ex. 02Ae (RS=0:1, comp= 2:flowing water, MPtype:A:FreeMP, sizeBin:e:1000um)\n",
    "- imputFlow: define number of particles per minute entering the system\n",
    "- imputPulse: define number of particles entering the systems in a pulse (if any)"
   ]
  },
  {
   "attachments": {
    "CodingFigure_FullMulti.png": {
     "image/png": "[encoded data removed]"
    }
   },
   "cell_type": "markdown",
   "metadata": {},
   "source": [
    "![CodingFigure_FullMulti.png](attachment:CodingFigure_FullMulti.png)"
   ]
  },
  {
   "cell_type": "code",
   "execution_count": 15,
   "metadata": {
    "ExecuteTime": {
     "end_time": "2021-11-11T16:16:01.079714Z",
     "start_time": "2021-11-11T16:16:01.069565Z"
    }
   },
   "outputs": [],
   "source": [
    "composition = \"PE\"\n",
    "imputMP= \"02Ae\"\n",
    "imputFlow=100 \n",
    "imputPulse=0"
   ]
  },
  {
   "cell_type": "markdown",
   "metadata": {},
   "source": [
    "## Set simulation time:\n",
    "- t0: starting time (seconds)\n",
    "- daysSimulation: total length of simulation (days)\n",
    "- stepSize (seconds)"
   ]
  },
  {
   "cell_type": "code",
   "execution_count": 16,
   "metadata": {
    "ExecuteTime": {
     "end_time": "2021-11-11T16:16:01.095050Z",
     "start_time": "2021-11-11T16:16:01.082531Z"
    }
   },
   "outputs": [],
   "source": [
    "t0 = 0 \n",
    "daysSimulation = 365\n",
    "tmax = 24*60*daysSimulation*60 \n",
    "sec_day = 24*60*60\n",
    "stepSize= 60*60*24 #time step of 1day\n",
    "timesteps = int(sec_day*daysSimulation/stepSize) \n",
    "t_span = np.linspace(0, tmax, int(timesteps)+1, dtype=int)"
   ]
  },
  {
   "cell_type": "markdown",
   "metadata": {},
   "source": [
    "## Define model run results file name"
   ]
  },
  {
   "cell_type": "code",
   "execution_count": 17,
   "metadata": {
    "ExecuteTime": {
     "end_time": "2021-11-11T16:16:01.110464Z",
     "start_time": "2021-11-11T16:16:01.096052Z"
    }
   },
   "outputs": [],
   "source": [
    "#Set up current date label#\n",
    "from datetime import datetime, timedelta\n",
    "date_time_str = '2020-01-01 00:00'\n",
    "DayStart = datetime.strptime(date_time_str, '%Y-%m-%d %H:%M')\n",
    "LastDay = DayStart + timedelta(minutes=tmax)\n",
    "date = DayStart\n",
    "daterun = date.today()\n",
    "daterun_label = daterun.strftime(\"%Y_%m_%d\")"
   ]
  },
  {
   "cell_type": "code",
   "execution_count": 18,
   "metadata": {
    "ExecuteTime": {
     "end_time": "2021-11-11T16:16:01.126428Z",
     "start_time": "2021-11-11T16:16:01.111464Z"
    }
   },
   "outputs": [
    {
     "data": {
      "text/plain": [
       "'2021_11_11_GenericRiver_PE_inflow_02Ae_100part_s_Timelimit_TestRun'"
      ]
     },
     "execution_count": 18,
     "metadata": {},
     "output_type": "execute_result"
    }
   ],
   "source": [
    "if imputFlow !=0:\n",
    "    runtitle= daterun_label+ \"_GenericRiver_\" + composition +\"_inflow_\"+ imputMP+\"_\"+str(imputFlow)+\"part_s_\"+ mode2+\"_TestRun\"\n",
    "else:\n",
    "    runtitle= daterun_label+\"_GenericRiver_\" + composition +\"_pulse_\"+ imputMP+\"_\"+str(imputPulse)+\"part_\"+ mode2+\"_TestRun\"\n",
    "runtitle"
   ]
  },
  {
   "cell_type": "markdown",
   "metadata": {},
   "source": [
    "## Create results and figures folders"
   ]
  },
  {
   "cell_type": "code",
   "execution_count": 19,
   "metadata": {
    "ExecuteTime": {
     "end_time": "2021-11-11T16:16:01.157341Z",
     "start_time": "2021-11-11T16:16:01.133411Z"
    }
   },
   "outputs": [
    {
     "name": "stdout",
     "output_type": "stream",
     "text": [
      "2021_11_11 folder already exists.\n",
      "/Figures folder already exists.\n"
     ]
    }
   ],
   "source": [
    "os.chdir(cwd+\"/Results\")\n",
    "    \n",
    "#create folder for the day if it doesnt already exists\n",
    "\n",
    "path = cwd+\"/Results\"\n",
    "os.path.isdir(path)\n",
    "old_path = (daterun_label)\n",
    "new_path = os.path.isdir(old_path)\n",
    "if not new_path:\n",
    "    os.makedirs(old_path)\n",
    "    print(\"Created Folder : \", old_path)\n",
    "else:\n",
    "    print(old_path, \"folder already exists.\")\n",
    "\n",
    "results_path= cwd+\"/Results/\"+old_path\n",
    "\n",
    "os.chdir(results_path)\n",
    "\n",
    "Fig_folder= \"/Figures\"\n",
    "os.path.isdir(results_path+Fig_folder)\n",
    "\n",
    "new_path = os.path.isdir(results_path+Fig_folder)\n",
    "if not new_path:\n",
    "    os.mkdir(\"Figures\")\n",
    "    print(\"Created Folder : \", Fig_folder)\n",
    "else:\n",
    "    print(Fig_folder, \"folder already exists.\")\n",
    "\n",
    "results_figures_path= results_path+Fig_folder"
   ]
  },
  {
   "cell_type": "markdown",
   "metadata": {},
   "source": [
    "## Generate list of species (combination of river section-compartment-MPform-sizeFraction)"
   ]
  },
  {
   "cell_type": "code",
   "execution_count": 20,
   "metadata": {
    "ExecuteTime": {
     "end_time": "2021-11-11T16:16:01.172302Z",
     "start_time": "2021-11-11T16:16:01.159341Z"
    }
   },
   "outputs": [],
   "source": [
    "#Generate COMBINATIONS\n",
    "combinations = list(itertools.product(riverSect,riverComp,MPforms,sizeBin))\n",
    "#Generate raw list of combinations and lists of concentrations (C) and inflows (I)\n",
    "CombList = []\n",
    "Ilist = []\n",
    "Clist =[]\n",
    "def convertTuple(tup): \n",
    "    str =  ''.join(tup) \n",
    "    return str\n",
    "for e in combinations:\n",
    "    Clist.append(\"C_\" + convertTuple(e))\n",
    "    Ilist.append(\"I_\" + convertTuple(e))\n",
    "    CombList.append(convertTuple(e))"
   ]
  },
  {
   "cell_type": "markdown",
   "metadata": {},
   "source": [
    "# Model Run\n",
    "\n",
    "## -Estimate Rate constants"
   ]
  },
  {
   "cell_type": "code",
   "execution_count": 21,
   "metadata": {
    "ExecuteTime": {
     "end_time": "2021-11-11T16:16:12.988967Z",
     "start_time": "2021-11-11T16:16:01.174296Z"
    }
   },
   "outputs": [
    {
     "name": "stdout",
     "output_type": "stream",
     "text": [
      "10 or more RS but less than 100\n"
     ]
    }
   ],
   "source": [
    "RC_df=RC_estimation_function(processList,CombList,Clist,MP_prop,compartments_prop,process_df,numberRS, composition,mode2, mode, date,riverComp,MPforms,sizeBin)"
   ]
  },
  {
   "cell_type": "markdown",
   "metadata": {},
   "source": [
    "#### Rate constants dataframe "
   ]
  },
  {
   "cell_type": "code",
   "execution_count": 22,
   "metadata": {
    "ExecuteTime": {
     "end_time": "2021-11-11T16:16:19.602071Z",
     "start_time": "2021-11-11T16:16:19.572128Z"
    }
   },
   "outputs": [
    {
     "data": {
      "text/html": [
       "<div>\n",
       "<style scoped>\n",
       "    .dataframe tbody tr th:only-of-type {\n",
       "        vertical-align: middle;\n",
       "    }\n",
       "\n",
       "    .dataframe tbody tr th {\n",
       "        vertical-align: top;\n",
       "    }\n",
       "\n",
       "    .dataframe thead th {\n",
       "        text-align: right;\n",
       "    }\n",
       "</style>\n",
       "<table border=\"1\" class=\"dataframe\">\n",
       "  <thead>\n",
       "    <tr style=\"text-align: right;\">\n",
       "      <th></th>\n",
       "      <th>01Aa</th>\n",
       "      <th>01Ab</th>\n",
       "      <th>01Ac</th>\n",
       "      <th>01Ad</th>\n",
       "      <th>01Ae</th>\n",
       "      <th>01Ba</th>\n",
       "      <th>01Bb</th>\n",
       "      <th>01Bc</th>\n",
       "      <th>01Bd</th>\n",
       "      <th>01Be</th>\n",
       "      <th>...</th>\n",
       "      <th>194Ca</th>\n",
       "      <th>194Cb</th>\n",
       "      <th>194Cc</th>\n",
       "      <th>194Cd</th>\n",
       "      <th>194Ce</th>\n",
       "      <th>194Da</th>\n",
       "      <th>194Db</th>\n",
       "      <th>194Dc</th>\n",
       "      <th>194Dd</th>\n",
       "      <th>194De</th>\n",
       "    </tr>\n",
       "  </thead>\n",
       "  <tbody>\n",
       "    <tr>\n",
       "      <th>degradation</th>\n",
       "      <td>1.60451e-09</td>\n",
       "      <td>1.60451e-09</td>\n",
       "      <td>1.60451e-09</td>\n",
       "      <td>1.60451e-09</td>\n",
       "      <td>1.60451e-09</td>\n",
       "      <td>1.60451e-10</td>\n",
       "      <td>1.60451e-10</td>\n",
       "      <td>1.60451e-10</td>\n",
       "      <td>1.60451e-10</td>\n",
       "      <td>1.60451e-10</td>\n",
       "      <td>...</td>\n",
       "      <td>3.20901e-10</td>\n",
       "      <td>3.20901e-10</td>\n",
       "      <td>3.20901e-10</td>\n",
       "      <td>3.20901e-10</td>\n",
       "      <td>3.20901e-10</td>\n",
       "      <td>8.02254e-11</td>\n",
       "      <td>8.02254e-11</td>\n",
       "      <td>8.02254e-11</td>\n",
       "      <td>8.02254e-11</td>\n",
       "      <td>8.02254e-11</td>\n",
       "    </tr>\n",
       "    <tr>\n",
       "      <th>fragmentation</th>\n",
       "      <td>3.17098e-11</td>\n",
       "      <td>(3.170979198376459e-10, 1000.0)</td>\n",
       "      <td>(3.1709791983764586e-09, 999.9999999999997)</td>\n",
       "      <td>(3.170979198376459e-08, 1000.0000000000001)</td>\n",
       "      <td>(3.170979198376459e-07, 1000.0)</td>\n",
       "      <td>0</td>\n",
       "      <td>(0, 0)</td>\n",
       "      <td>(0, 0)</td>\n",
       "      <td>(0, 0)</td>\n",
       "      <td>(0, 0)</td>\n",
       "      <td>...</td>\n",
       "      <td>1.60134e-10</td>\n",
       "      <td>(1.7440385591070525e-10, 1000.0000000000002)</td>\n",
       "      <td>(3.170979198376459e-10, 999.9999999999997)</td>\n",
       "      <td>(1.744038559107052e-09, 999.9999999999998)</td>\n",
       "      <td>(1.6013444951801118e-08, 1000.0)</td>\n",
       "      <td>0</td>\n",
       "      <td>(0, 0)</td>\n",
       "      <td>(0, 0)</td>\n",
       "      <td>(0, 0)</td>\n",
       "      <td>(0, 0)</td>\n",
       "    </tr>\n",
       "    <tr>\n",
       "      <th>heteroagg</th>\n",
       "      <td>4.55619e-05</td>\n",
       "      <td>4.14024e-05</td>\n",
       "      <td>0.000556</td>\n",
       "      <td>0.000556</td>\n",
       "      <td>0.000556</td>\n",
       "      <td>0</td>\n",
       "      <td>0</td>\n",
       "      <td>0</td>\n",
       "      <td>0</td>\n",
       "      <td>0</td>\n",
       "      <td>...</td>\n",
       "      <td>0</td>\n",
       "      <td>0</td>\n",
       "      <td>0</td>\n",
       "      <td>0</td>\n",
       "      <td>0</td>\n",
       "      <td>0</td>\n",
       "      <td>0</td>\n",
       "      <td>0</td>\n",
       "      <td>0</td>\n",
       "      <td>0</td>\n",
       "    </tr>\n",
       "    <tr>\n",
       "      <th>breakup</th>\n",
       "      <td>0</td>\n",
       "      <td>0</td>\n",
       "      <td>0</td>\n",
       "      <td>0</td>\n",
       "      <td>0</td>\n",
       "      <td>4.55619e-06</td>\n",
       "      <td>4.14024e-06</td>\n",
       "      <td>0.000478566</td>\n",
       "      <td>5.56e-05</td>\n",
       "      <td>5.56e-05</td>\n",
       "      <td>...</td>\n",
       "      <td>0</td>\n",
       "      <td>0</td>\n",
       "      <td>0</td>\n",
       "      <td>0</td>\n",
       "      <td>0</td>\n",
       "      <td>0</td>\n",
       "      <td>0</td>\n",
       "      <td>0</td>\n",
       "      <td>0</td>\n",
       "      <td>0</td>\n",
       "    </tr>\n",
       "    <tr>\n",
       "      <th>settling</th>\n",
       "      <td>0</td>\n",
       "      <td>0</td>\n",
       "      <td>0</td>\n",
       "      <td>0</td>\n",
       "      <td>0</td>\n",
       "      <td>1.39431e-06</td>\n",
       "      <td>5.75593e-07</td>\n",
       "      <td>0</td>\n",
       "      <td>0</td>\n",
       "      <td>0</td>\n",
       "      <td>...</td>\n",
       "      <td>0</td>\n",
       "      <td>0</td>\n",
       "      <td>0</td>\n",
       "      <td>0</td>\n",
       "      <td>0</td>\n",
       "      <td>0</td>\n",
       "      <td>0</td>\n",
       "      <td>0</td>\n",
       "      <td>0</td>\n",
       "      <td>0</td>\n",
       "    </tr>\n",
       "    <tr>\n",
       "      <th>rising</th>\n",
       "      <td>0</td>\n",
       "      <td>0</td>\n",
       "      <td>0</td>\n",
       "      <td>0</td>\n",
       "      <td>0</td>\n",
       "      <td>0</td>\n",
       "      <td>0</td>\n",
       "      <td>0</td>\n",
       "      <td>0</td>\n",
       "      <td>0</td>\n",
       "      <td>...</td>\n",
       "      <td>0</td>\n",
       "      <td>0</td>\n",
       "      <td>0</td>\n",
       "      <td>0</td>\n",
       "      <td>0</td>\n",
       "      <td>0</td>\n",
       "      <td>0</td>\n",
       "      <td>0</td>\n",
       "      <td>0</td>\n",
       "      <td>0</td>\n",
       "    </tr>\n",
       "    <tr>\n",
       "      <th>advection</th>\n",
       "      <td>2.6e-05</td>\n",
       "      <td>2.6e-05</td>\n",
       "      <td>2.6e-05</td>\n",
       "      <td>2.6e-05</td>\n",
       "      <td>2.6e-05</td>\n",
       "      <td>2.6e-05</td>\n",
       "      <td>2.6e-05</td>\n",
       "      <td>2.6e-05</td>\n",
       "      <td>2.6e-05</td>\n",
       "      <td>2.6e-05</td>\n",
       "      <td>...</td>\n",
       "      <td>0</td>\n",
       "      <td>0</td>\n",
       "      <td>0</td>\n",
       "      <td>0</td>\n",
       "      <td>0</td>\n",
       "      <td>0</td>\n",
       "      <td>0</td>\n",
       "      <td>0</td>\n",
       "      <td>0</td>\n",
       "      <td>0</td>\n",
       "    </tr>\n",
       "    <tr>\n",
       "      <th>mixing</th>\n",
       "      <td>1e-09</td>\n",
       "      <td>1e-09</td>\n",
       "      <td>1e-09</td>\n",
       "      <td>1e-09</td>\n",
       "      <td>1e-09</td>\n",
       "      <td>1e-09</td>\n",
       "      <td>1e-09</td>\n",
       "      <td>1e-09</td>\n",
       "      <td>1e-09</td>\n",
       "      <td>1e-09</td>\n",
       "      <td>...</td>\n",
       "      <td>0</td>\n",
       "      <td>0</td>\n",
       "      <td>0</td>\n",
       "      <td>0</td>\n",
       "      <td>0</td>\n",
       "      <td>0</td>\n",
       "      <td>0</td>\n",
       "      <td>0</td>\n",
       "      <td>0</td>\n",
       "      <td>0</td>\n",
       "    </tr>\n",
       "    <tr>\n",
       "      <th>biofilm</th>\n",
       "      <td>1.15741e-06</td>\n",
       "      <td>1.15741e-06</td>\n",
       "      <td>1.15741e-06</td>\n",
       "      <td>1.15741e-06</td>\n",
       "      <td>1.15741e-06</td>\n",
       "      <td>1.15741e-06</td>\n",
       "      <td>1.15741e-06</td>\n",
       "      <td>1.15741e-06</td>\n",
       "      <td>1.15741e-06</td>\n",
       "      <td>1.15741e-06</td>\n",
       "      <td>...</td>\n",
       "      <td>0</td>\n",
       "      <td>0</td>\n",
       "      <td>0</td>\n",
       "      <td>0</td>\n",
       "      <td>0</td>\n",
       "      <td>0</td>\n",
       "      <td>0</td>\n",
       "      <td>0</td>\n",
       "      <td>0</td>\n",
       "      <td>0</td>\n",
       "    </tr>\n",
       "    <tr>\n",
       "      <th>resusp</th>\n",
       "      <td>0</td>\n",
       "      <td>0</td>\n",
       "      <td>0</td>\n",
       "      <td>0</td>\n",
       "      <td>0</td>\n",
       "      <td>0</td>\n",
       "      <td>0</td>\n",
       "      <td>0</td>\n",
       "      <td>0</td>\n",
       "      <td>0</td>\n",
       "      <td>...</td>\n",
       "      <td>1.15e-05</td>\n",
       "      <td>1.15e-05</td>\n",
       "      <td>1.15e-05</td>\n",
       "      <td>1.15e-05</td>\n",
       "      <td>1.15e-05</td>\n",
       "      <td>1.15e-05</td>\n",
       "      <td>1.15e-05</td>\n",
       "      <td>1.15e-05</td>\n",
       "      <td>1.15e-05</td>\n",
       "      <td>1.15e-05</td>\n",
       "    </tr>\n",
       "    <tr>\n",
       "      <th>burial</th>\n",
       "      <td>0</td>\n",
       "      <td>0</td>\n",
       "      <td>0</td>\n",
       "      <td>0</td>\n",
       "      <td>0</td>\n",
       "      <td>0</td>\n",
       "      <td>0</td>\n",
       "      <td>0</td>\n",
       "      <td>0</td>\n",
       "      <td>0</td>\n",
       "      <td>...</td>\n",
       "      <td>2.8e-05</td>\n",
       "      <td>2.8e-05</td>\n",
       "      <td>2.8e-05</td>\n",
       "      <td>2.8e-05</td>\n",
       "      <td>2.8e-05</td>\n",
       "      <td>2.8e-05</td>\n",
       "      <td>2.8e-05</td>\n",
       "      <td>2.8e-05</td>\n",
       "      <td>2.8e-05</td>\n",
       "      <td>2.8e-05</td>\n",
       "    </tr>\n",
       "    <tr>\n",
       "      <th>sedTransport</th>\n",
       "      <td>0</td>\n",
       "      <td>0</td>\n",
       "      <td>0</td>\n",
       "      <td>0</td>\n",
       "      <td>0</td>\n",
       "      <td>0</td>\n",
       "      <td>0</td>\n",
       "      <td>0</td>\n",
       "      <td>0</td>\n",
       "      <td>0</td>\n",
       "      <td>...</td>\n",
       "      <td>1e-07</td>\n",
       "      <td>1e-07</td>\n",
       "      <td>1e-07</td>\n",
       "      <td>1e-07</td>\n",
       "      <td>1e-07</td>\n",
       "      <td>1e-07</td>\n",
       "      <td>1e-07</td>\n",
       "      <td>1e-07</td>\n",
       "      <td>1e-07</td>\n",
       "      <td>1e-07</td>\n",
       "    </tr>\n",
       "    <tr>\n",
       "      <th>defouling</th>\n",
       "      <td>0</td>\n",
       "      <td>0</td>\n",
       "      <td>0</td>\n",
       "      <td>0</td>\n",
       "      <td>0</td>\n",
       "      <td>0</td>\n",
       "      <td>0</td>\n",
       "      <td>0</td>\n",
       "      <td>0</td>\n",
       "      <td>0</td>\n",
       "      <td>...</td>\n",
       "      <td>0</td>\n",
       "      <td>0</td>\n",
       "      <td>0</td>\n",
       "      <td>0</td>\n",
       "      <td>0</td>\n",
       "      <td>0</td>\n",
       "      <td>0</td>\n",
       "      <td>0</td>\n",
       "      <td>0</td>\n",
       "      <td>0</td>\n",
       "    </tr>\n",
       "    <tr>\n",
       "      <th>volume_m3</th>\n",
       "      <td>5.23599e-22</td>\n",
       "      <td>5.23599e-19</td>\n",
       "      <td>5.23599e-16</td>\n",
       "      <td>5.23599e-13</td>\n",
       "      <td>5.23599e-10</td>\n",
       "      <td>6.59734e-20</td>\n",
       "      <td>5.89049e-19</td>\n",
       "      <td>5.23664e-16</td>\n",
       "      <td>5.23599e-13</td>\n",
       "      <td>5.23599e-10</td>\n",
       "      <td>...</td>\n",
       "      <td>5.39464e-16</td>\n",
       "      <td>6.9691e-16</td>\n",
       "      <td>4.18879e-15</td>\n",
       "      <td>6.9691e-13</td>\n",
       "      <td>5.39464e-10</td>\n",
       "      <td>5.3953e-16</td>\n",
       "      <td>6.96975e-16</td>\n",
       "      <td>4.18886e-15</td>\n",
       "      <td>6.9691e-13</td>\n",
       "      <td>5.39464e-10</td>\n",
       "    </tr>\n",
       "    <tr>\n",
       "      <th>density_kg_m3</th>\n",
       "      <td>980</td>\n",
       "      <td>980</td>\n",
       "      <td>980</td>\n",
       "      <td>980</td>\n",
       "      <td>980</td>\n",
       "      <td>1991.9</td>\n",
       "      <td>1093.33</td>\n",
       "      <td>980.127</td>\n",
       "      <td>980</td>\n",
       "      <td>980</td>\n",
       "      <td>...</td>\n",
       "      <td>1388</td>\n",
       "      <td>1387.69</td>\n",
       "      <td>1337</td>\n",
       "      <td>1081.46</td>\n",
       "      <td>991.999</td>\n",
       "      <td>1388.07</td>\n",
       "      <td>1387.75</td>\n",
       "      <td>1337.01</td>\n",
       "      <td>1081.46</td>\n",
       "      <td>991.999</td>\n",
       "    </tr>\n",
       "  </tbody>\n",
       "</table>\n",
       "<p>15 rows × 1600 columns</p>\n",
       "</div>"
      ],
      "text/plain": [
       "                      01Aa                             01Ab  \\\n",
       "degradation    1.60451e-09                      1.60451e-09   \n",
       "fragmentation  3.17098e-11  (3.170979198376459e-10, 1000.0)   \n",
       "heteroagg      4.55619e-05                      4.14024e-05   \n",
       "breakup                  0                                0   \n",
       "settling                 0                                0   \n",
       "rising                   0                                0   \n",
       "advection          2.6e-05                          2.6e-05   \n",
       "mixing               1e-09                            1e-09   \n",
       "biofilm        1.15741e-06                      1.15741e-06   \n",
       "resusp                   0                                0   \n",
       "burial                   0                                0   \n",
       "sedTransport             0                                0   \n",
       "defouling                0                                0   \n",
       "volume_m3      5.23599e-22                      5.23599e-19   \n",
       "density_kg_m3          980                              980   \n",
       "\n",
       "                                                      01Ac  \\\n",
       "degradation                                    1.60451e-09   \n",
       "fragmentation  (3.1709791983764586e-09, 999.9999999999997)   \n",
       "heteroagg                                         0.000556   \n",
       "breakup                                                  0   \n",
       "settling                                                 0   \n",
       "rising                                                   0   \n",
       "advection                                          2.6e-05   \n",
       "mixing                                               1e-09   \n",
       "biofilm                                        1.15741e-06   \n",
       "resusp                                                   0   \n",
       "burial                                                   0   \n",
       "sedTransport                                             0   \n",
       "defouling                                                0   \n",
       "volume_m3                                      5.23599e-16   \n",
       "density_kg_m3                                          980   \n",
       "\n",
       "                                                      01Ad  \\\n",
       "degradation                                    1.60451e-09   \n",
       "fragmentation  (3.170979198376459e-08, 1000.0000000000001)   \n",
       "heteroagg                                         0.000556   \n",
       "breakup                                                  0   \n",
       "settling                                                 0   \n",
       "rising                                                   0   \n",
       "advection                                          2.6e-05   \n",
       "mixing                                               1e-09   \n",
       "biofilm                                        1.15741e-06   \n",
       "resusp                                                   0   \n",
       "burial                                                   0   \n",
       "sedTransport                                             0   \n",
       "defouling                                                0   \n",
       "volume_m3                                      5.23599e-13   \n",
       "density_kg_m3                                          980   \n",
       "\n",
       "                                          01Ae         01Ba         01Bb  \\\n",
       "degradation                        1.60451e-09  1.60451e-10  1.60451e-10   \n",
       "fragmentation  (3.170979198376459e-07, 1000.0)            0       (0, 0)   \n",
       "heteroagg                             0.000556            0            0   \n",
       "breakup                                      0  4.55619e-06  4.14024e-06   \n",
       "settling                                     0  1.39431e-06  5.75593e-07   \n",
       "rising                                       0            0            0   \n",
       "advection                              2.6e-05      2.6e-05      2.6e-05   \n",
       "mixing                                   1e-09        1e-09        1e-09   \n",
       "biofilm                            1.15741e-06  1.15741e-06  1.15741e-06   \n",
       "resusp                                       0            0            0   \n",
       "burial                                       0            0            0   \n",
       "sedTransport                                 0            0            0   \n",
       "defouling                                    0            0            0   \n",
       "volume_m3                          5.23599e-10  6.59734e-20  5.89049e-19   \n",
       "density_kg_m3                              980       1991.9      1093.33   \n",
       "\n",
       "                      01Bc         01Bd         01Be  ...        194Ca  \\\n",
       "degradation    1.60451e-10  1.60451e-10  1.60451e-10  ...  3.20901e-10   \n",
       "fragmentation       (0, 0)       (0, 0)       (0, 0)  ...  1.60134e-10   \n",
       "heteroagg                0            0            0  ...            0   \n",
       "breakup        0.000478566     5.56e-05     5.56e-05  ...            0   \n",
       "settling                 0            0            0  ...            0   \n",
       "rising                   0            0            0  ...            0   \n",
       "advection          2.6e-05      2.6e-05      2.6e-05  ...            0   \n",
       "mixing               1e-09        1e-09        1e-09  ...            0   \n",
       "biofilm        1.15741e-06  1.15741e-06  1.15741e-06  ...            0   \n",
       "resusp                   0            0            0  ...     1.15e-05   \n",
       "burial                   0            0            0  ...      2.8e-05   \n",
       "sedTransport             0            0            0  ...        1e-07   \n",
       "defouling                0            0            0  ...            0   \n",
       "volume_m3      5.23664e-16  5.23599e-13  5.23599e-10  ...  5.39464e-16   \n",
       "density_kg_m3      980.127          980          980  ...         1388   \n",
       "\n",
       "                                                      194Cb  \\\n",
       "degradation                                     3.20901e-10   \n",
       "fragmentation  (1.7440385591070525e-10, 1000.0000000000002)   \n",
       "heteroagg                                                 0   \n",
       "breakup                                                   0   \n",
       "settling                                                  0   \n",
       "rising                                                    0   \n",
       "advection                                                 0   \n",
       "mixing                                                    0   \n",
       "biofilm                                                   0   \n",
       "resusp                                             1.15e-05   \n",
       "burial                                              2.8e-05   \n",
       "sedTransport                                          1e-07   \n",
       "defouling                                                 0   \n",
       "volume_m3                                        6.9691e-16   \n",
       "density_kg_m3                                       1387.69   \n",
       "\n",
       "                                                    194Cc  \\\n",
       "degradation                                   3.20901e-10   \n",
       "fragmentation  (3.170979198376459e-10, 999.9999999999997)   \n",
       "heteroagg                                               0   \n",
       "breakup                                                 0   \n",
       "settling                                                0   \n",
       "rising                                                  0   \n",
       "advection                                               0   \n",
       "mixing                                                  0   \n",
       "biofilm                                                 0   \n",
       "resusp                                           1.15e-05   \n",
       "burial                                            2.8e-05   \n",
       "sedTransport                                        1e-07   \n",
       "defouling                                               0   \n",
       "volume_m3                                     4.18879e-15   \n",
       "density_kg_m3                                        1337   \n",
       "\n",
       "                                                    194Cd  \\\n",
       "degradation                                   3.20901e-10   \n",
       "fragmentation  (1.744038559107052e-09, 999.9999999999998)   \n",
       "heteroagg                                               0   \n",
       "breakup                                                 0   \n",
       "settling                                                0   \n",
       "rising                                                  0   \n",
       "advection                                               0   \n",
       "mixing                                                  0   \n",
       "biofilm                                                 0   \n",
       "resusp                                           1.15e-05   \n",
       "burial                                            2.8e-05   \n",
       "sedTransport                                        1e-07   \n",
       "defouling                                               0   \n",
       "volume_m3                                      6.9691e-13   \n",
       "density_kg_m3                                     1081.46   \n",
       "\n",
       "                                          194Ce        194Da        194Db  \\\n",
       "degradation                         3.20901e-10  8.02254e-11  8.02254e-11   \n",
       "fragmentation  (1.6013444951801118e-08, 1000.0)            0       (0, 0)   \n",
       "heteroagg                                     0            0            0   \n",
       "breakup                                       0            0            0   \n",
       "settling                                      0            0            0   \n",
       "rising                                        0            0            0   \n",
       "advection                                     0            0            0   \n",
       "mixing                                        0            0            0   \n",
       "biofilm                                       0            0            0   \n",
       "resusp                                 1.15e-05     1.15e-05     1.15e-05   \n",
       "burial                                  2.8e-05      2.8e-05      2.8e-05   \n",
       "sedTransport                              1e-07        1e-07        1e-07   \n",
       "defouling                                     0            0            0   \n",
       "volume_m3                           5.39464e-10   5.3953e-16  6.96975e-16   \n",
       "density_kg_m3                           991.999      1388.07      1387.75   \n",
       "\n",
       "                     194Dc        194Dd        194De  \n",
       "degradation    8.02254e-11  8.02254e-11  8.02254e-11  \n",
       "fragmentation       (0, 0)       (0, 0)       (0, 0)  \n",
       "heteroagg                0            0            0  \n",
       "breakup                  0            0            0  \n",
       "settling                 0            0            0  \n",
       "rising                   0            0            0  \n",
       "advection                0            0            0  \n",
       "mixing                   0            0            0  \n",
       "biofilm                  0            0            0  \n",
       "resusp            1.15e-05     1.15e-05     1.15e-05  \n",
       "burial             2.8e-05      2.8e-05      2.8e-05  \n",
       "sedTransport         1e-07        1e-07        1e-07  \n",
       "defouling                0            0            0  \n",
       "volume_m3      4.18886e-15   6.9691e-13  5.39464e-10  \n",
       "density_kg_m3      1337.01      1081.46      991.999  \n",
       "\n",
       "[15 rows x 1600 columns]"
      ]
     },
     "execution_count": 22,
     "metadata": {},
     "output_type": "execute_result"
    }
   ],
   "source": [
    "RC_df"
   ]
  },
  {
   "cell_type": "code",
   "execution_count": 23,
   "metadata": {
    "ExecuteTime": {
     "end_time": "2021-11-11T16:16:20.071030Z",
     "start_time": "2021-11-11T16:16:19.981270Z"
    }
   },
   "outputs": [
    {
     "data": {
      "text/html": [
       "<div>\n",
       "<style scoped>\n",
       "    .dataframe tbody tr th:only-of-type {\n",
       "        vertical-align: middle;\n",
       "    }\n",
       "\n",
       "    .dataframe tbody tr th {\n",
       "        vertical-align: top;\n",
       "    }\n",
       "\n",
       "    .dataframe thead th {\n",
       "        text-align: right;\n",
       "    }\n",
       "</style>\n",
       "<table border=\"1\" class=\"dataframe\">\n",
       "  <thead>\n",
       "    <tr style=\"text-align: right;\">\n",
       "      <th></th>\n",
       "      <th></th>\n",
       "      <th>Process</th>\n",
       "      <th>advection</th>\n",
       "      <th>biofilm</th>\n",
       "      <th>breakup</th>\n",
       "      <th>burial</th>\n",
       "      <th>defouling</th>\n",
       "      <th>degradation</th>\n",
       "      <th>fragmentation</th>\n",
       "      <th>heteroagg</th>\n",
       "      <th>mixing</th>\n",
       "      <th>resusp</th>\n",
       "      <th>rising</th>\n",
       "      <th>sedTransport</th>\n",
       "      <th>settling</th>\n",
       "    </tr>\n",
       "    <tr>\n",
       "      <th>Compartment</th>\n",
       "      <th>MP_form</th>\n",
       "      <th>SizeFrac</th>\n",
       "      <th></th>\n",
       "      <th></th>\n",
       "      <th></th>\n",
       "      <th></th>\n",
       "      <th></th>\n",
       "      <th></th>\n",
       "      <th></th>\n",
       "      <th></th>\n",
       "      <th></th>\n",
       "      <th></th>\n",
       "      <th></th>\n",
       "      <th></th>\n",
       "      <th></th>\n",
       "    </tr>\n",
       "  </thead>\n",
       "  <tbody>\n",
       "    <tr>\n",
       "      <th rowspan=\"5\" valign=\"top\">Flowing Water</th>\n",
       "      <th rowspan=\"5\" valign=\"top\">Biof&amp;Heteroagg</th>\n",
       "      <th>0.1 um</th>\n",
       "      <td>0.000026</td>\n",
       "      <td>3.858025e-07</td>\n",
       "      <td>0.000009</td>\n",
       "      <td>0.0</td>\n",
       "      <td>0.0</td>\n",
       "      <td>8.022537e-11</td>\n",
       "      <td>0.000000e+00</td>\n",
       "      <td>0.000000</td>\n",
       "      <td>1.000000e-09</td>\n",
       "      <td>0.0</td>\n",
       "      <td>0.000000</td>\n",
       "      <td>0.0</td>\n",
       "      <td>0.000005</td>\n",
       "    </tr>\n",
       "    <tr>\n",
       "      <th>1 um</th>\n",
       "      <td>0.000026</td>\n",
       "      <td>3.858025e-07</td>\n",
       "      <td>0.000008</td>\n",
       "      <td>0.0</td>\n",
       "      <td>0.0</td>\n",
       "      <td>8.022537e-11</td>\n",
       "      <td>0.000000e+00</td>\n",
       "      <td>0.000000</td>\n",
       "      <td>1.000000e-09</td>\n",
       "      <td>0.0</td>\n",
       "      <td>0.000000</td>\n",
       "      <td>0.0</td>\n",
       "      <td>0.000005</td>\n",
       "    </tr>\n",
       "    <tr>\n",
       "      <th>10 um</th>\n",
       "      <td>0.000026</td>\n",
       "      <td>3.858025e-07</td>\n",
       "      <td>0.000056</td>\n",
       "      <td>0.0</td>\n",
       "      <td>0.0</td>\n",
       "      <td>8.022537e-11</td>\n",
       "      <td>0.000000e+00</td>\n",
       "      <td>0.000000</td>\n",
       "      <td>1.000000e-09</td>\n",
       "      <td>0.0</td>\n",
       "      <td>0.000000</td>\n",
       "      <td>0.0</td>\n",
       "      <td>0.000015</td>\n",
       "    </tr>\n",
       "    <tr>\n",
       "      <th>100 um</th>\n",
       "      <td>0.000026</td>\n",
       "      <td>3.858025e-07</td>\n",
       "      <td>0.000056</td>\n",
       "      <td>0.0</td>\n",
       "      <td>0.0</td>\n",
       "      <td>8.022537e-11</td>\n",
       "      <td>0.000000e+00</td>\n",
       "      <td>0.000000</td>\n",
       "      <td>1.000000e-09</td>\n",
       "      <td>0.0</td>\n",
       "      <td>0.000000</td>\n",
       "      <td>0.0</td>\n",
       "      <td>0.000115</td>\n",
       "    </tr>\n",
       "    <tr>\n",
       "      <th>1000 um</th>\n",
       "      <td>0.000026</td>\n",
       "      <td>3.858025e-07</td>\n",
       "      <td>0.000056</td>\n",
       "      <td>0.0</td>\n",
       "      <td>0.0</td>\n",
       "      <td>8.022537e-11</td>\n",
       "      <td>0.000000e+00</td>\n",
       "      <td>0.000000</td>\n",
       "      <td>1.000000e-09</td>\n",
       "      <td>0.0</td>\n",
       "      <td>0.000556</td>\n",
       "      <td>0.0</td>\n",
       "      <td>0.000000</td>\n",
       "    </tr>\n",
       "    <tr>\n",
       "      <th>...</th>\n",
       "      <th>...</th>\n",
       "      <th>...</th>\n",
       "      <td>...</td>\n",
       "      <td>...</td>\n",
       "      <td>...</td>\n",
       "      <td>...</td>\n",
       "      <td>...</td>\n",
       "      <td>...</td>\n",
       "      <td>...</td>\n",
       "      <td>...</td>\n",
       "      <td>...</td>\n",
       "      <td>...</td>\n",
       "      <td>...</td>\n",
       "      <td>...</td>\n",
       "      <td>...</td>\n",
       "    </tr>\n",
       "    <tr>\n",
       "      <th rowspan=\"5\" valign=\"top\">Surface Water</th>\n",
       "      <th rowspan=\"5\" valign=\"top\">Pristine</th>\n",
       "      <th>0.1 um</th>\n",
       "      <td>0.000026</td>\n",
       "      <td>1.157407e-06</td>\n",
       "      <td>0.000000</td>\n",
       "      <td>0.0</td>\n",
       "      <td>0.0</td>\n",
       "      <td>1.604507e-09</td>\n",
       "      <td>3.170979e-11</td>\n",
       "      <td>0.000046</td>\n",
       "      <td>1.000000e-09</td>\n",
       "      <td>0.0</td>\n",
       "      <td>0.000000</td>\n",
       "      <td>0.0</td>\n",
       "      <td>0.000000</td>\n",
       "    </tr>\n",
       "    <tr>\n",
       "      <th>1 um</th>\n",
       "      <td>0.000026</td>\n",
       "      <td>1.157407e-06</td>\n",
       "      <td>0.000000</td>\n",
       "      <td>0.0</td>\n",
       "      <td>0.0</td>\n",
       "      <td>1.604507e-09</td>\n",
       "      <td>3.170979e-10</td>\n",
       "      <td>0.000041</td>\n",
       "      <td>1.000000e-09</td>\n",
       "      <td>0.0</td>\n",
       "      <td>0.000000</td>\n",
       "      <td>0.0</td>\n",
       "      <td>0.000000</td>\n",
       "    </tr>\n",
       "    <tr>\n",
       "      <th>10 um</th>\n",
       "      <td>0.000026</td>\n",
       "      <td>1.157407e-06</td>\n",
       "      <td>0.000000</td>\n",
       "      <td>0.0</td>\n",
       "      <td>0.0</td>\n",
       "      <td>1.604507e-09</td>\n",
       "      <td>3.170979e-09</td>\n",
       "      <td>0.000556</td>\n",
       "      <td>1.000000e-09</td>\n",
       "      <td>0.0</td>\n",
       "      <td>0.000000</td>\n",
       "      <td>0.0</td>\n",
       "      <td>0.000000</td>\n",
       "    </tr>\n",
       "    <tr>\n",
       "      <th>100 um</th>\n",
       "      <td>0.000026</td>\n",
       "      <td>1.157407e-06</td>\n",
       "      <td>0.000000</td>\n",
       "      <td>0.0</td>\n",
       "      <td>0.0</td>\n",
       "      <td>1.604507e-09</td>\n",
       "      <td>3.170979e-08</td>\n",
       "      <td>0.000556</td>\n",
       "      <td>1.000000e-09</td>\n",
       "      <td>0.0</td>\n",
       "      <td>0.000000</td>\n",
       "      <td>0.0</td>\n",
       "      <td>0.000000</td>\n",
       "    </tr>\n",
       "    <tr>\n",
       "      <th>1000 um</th>\n",
       "      <td>0.000026</td>\n",
       "      <td>1.157407e-06</td>\n",
       "      <td>0.000000</td>\n",
       "      <td>0.0</td>\n",
       "      <td>0.0</td>\n",
       "      <td>1.604507e-09</td>\n",
       "      <td>3.170979e-07</td>\n",
       "      <td>0.000556</td>\n",
       "      <td>1.000000e-09</td>\n",
       "      <td>0.0</td>\n",
       "      <td>0.000000</td>\n",
       "      <td>0.0</td>\n",
       "      <td>0.000000</td>\n",
       "    </tr>\n",
       "  </tbody>\n",
       "</table>\n",
       "<p>80 rows × 13 columns</p>\n",
       "</div>"
      ],
      "text/plain": [
       "Process                                advection       biofilm   breakup  \\\n",
       "Compartment   MP_form        SizeFrac                                      \n",
       "Flowing Water Biof&Heteroagg 0.1 um     0.000026  3.858025e-07  0.000009   \n",
       "                             1 um       0.000026  3.858025e-07  0.000008   \n",
       "                             10 um      0.000026  3.858025e-07  0.000056   \n",
       "                             100 um     0.000026  3.858025e-07  0.000056   \n",
       "                             1000 um    0.000026  3.858025e-07  0.000056   \n",
       "...                                          ...           ...       ...   \n",
       "Surface Water Pristine       0.1 um     0.000026  1.157407e-06  0.000000   \n",
       "                             1 um       0.000026  1.157407e-06  0.000000   \n",
       "                             10 um      0.000026  1.157407e-06  0.000000   \n",
       "                             100 um     0.000026  1.157407e-06  0.000000   \n",
       "                             1000 um    0.000026  1.157407e-06  0.000000   \n",
       "\n",
       "Process                                burial  defouling   degradation  \\\n",
       "Compartment   MP_form        SizeFrac                                    \n",
       "Flowing Water Biof&Heteroagg 0.1 um       0.0        0.0  8.022537e-11   \n",
       "                             1 um         0.0        0.0  8.022537e-11   \n",
       "                             10 um        0.0        0.0  8.022537e-11   \n",
       "                             100 um       0.0        0.0  8.022537e-11   \n",
       "                             1000 um      0.0        0.0  8.022537e-11   \n",
       "...                                       ...        ...           ...   \n",
       "Surface Water Pristine       0.1 um       0.0        0.0  1.604507e-09   \n",
       "                             1 um         0.0        0.0  1.604507e-09   \n",
       "                             10 um        0.0        0.0  1.604507e-09   \n",
       "                             100 um       0.0        0.0  1.604507e-09   \n",
       "                             1000 um      0.0        0.0  1.604507e-09   \n",
       "\n",
       "Process                                fragmentation  heteroagg        mixing  \\\n",
       "Compartment   MP_form        SizeFrac                                           \n",
       "Flowing Water Biof&Heteroagg 0.1 um     0.000000e+00   0.000000  1.000000e-09   \n",
       "                             1 um       0.000000e+00   0.000000  1.000000e-09   \n",
       "                             10 um      0.000000e+00   0.000000  1.000000e-09   \n",
       "                             100 um     0.000000e+00   0.000000  1.000000e-09   \n",
       "                             1000 um    0.000000e+00   0.000000  1.000000e-09   \n",
       "...                                              ...        ...           ...   \n",
       "Surface Water Pristine       0.1 um     3.170979e-11   0.000046  1.000000e-09   \n",
       "                             1 um       3.170979e-10   0.000041  1.000000e-09   \n",
       "                             10 um      3.170979e-09   0.000556  1.000000e-09   \n",
       "                             100 um     3.170979e-08   0.000556  1.000000e-09   \n",
       "                             1000 um    3.170979e-07   0.000556  1.000000e-09   \n",
       "\n",
       "Process                                resusp    rising  sedTransport  \\\n",
       "Compartment   MP_form        SizeFrac                                   \n",
       "Flowing Water Biof&Heteroagg 0.1 um       0.0  0.000000           0.0   \n",
       "                             1 um         0.0  0.000000           0.0   \n",
       "                             10 um        0.0  0.000000           0.0   \n",
       "                             100 um       0.0  0.000000           0.0   \n",
       "                             1000 um      0.0  0.000556           0.0   \n",
       "...                                       ...       ...           ...   \n",
       "Surface Water Pristine       0.1 um       0.0  0.000000           0.0   \n",
       "                             1 um         0.0  0.000000           0.0   \n",
       "                             10 um        0.0  0.000000           0.0   \n",
       "                             100 um       0.0  0.000000           0.0   \n",
       "                             1000 um      0.0  0.000000           0.0   \n",
       "\n",
       "Process                                settling  \n",
       "Compartment   MP_form        SizeFrac            \n",
       "Flowing Water Biof&Heteroagg 0.1 um    0.000005  \n",
       "                             1 um      0.000005  \n",
       "                             10 um     0.000015  \n",
       "                             100 um    0.000115  \n",
       "                             1000 um   0.000000  \n",
       "...                                         ...  \n",
       "Surface Water Pristine       0.1 um    0.000000  \n",
       "                             1 um      0.000000  \n",
       "                             10 um     0.000000  \n",
       "                             100 um    0.000000  \n",
       "                             1000 um   0.000000  \n",
       "\n",
       "[80 rows x 13 columns]"
      ]
     },
     "execution_count": 23,
     "metadata": {},
     "output_type": "execute_result"
    }
   ],
   "source": [
    "### Reshape table of RC\n",
    "RC_df_tidy=reshape_RC_df(RC_df,CombList)\n",
    "RC_df_final=RC_df_tidy.pivot_table(index=[\"Compartment\", \"MP_form\", \"SizeFrac\"],columns='Process', values='k_s-1')\n",
    "RC_df_final"
   ]
  },
  {
   "cell_type": "markdown",
   "metadata": {},
   "source": [
    "### Table of Half life times (hours)"
   ]
  },
  {
   "cell_type": "code",
   "execution_count": 24,
   "metadata": {
    "ExecuteTime": {
     "end_time": "2021-11-11T16:16:21.767997Z",
     "start_time": "2021-11-11T16:16:21.720996Z"
    }
   },
   "outputs": [
    {
     "data": {
      "text/html": [
       "<div>\n",
       "<style scoped>\n",
       "    .dataframe tbody tr th:only-of-type {\n",
       "        vertical-align: middle;\n",
       "    }\n",
       "\n",
       "    .dataframe tbody tr th {\n",
       "        vertical-align: top;\n",
       "    }\n",
       "\n",
       "    .dataframe thead th {\n",
       "        text-align: right;\n",
       "    }\n",
       "</style>\n",
       "<table border=\"1\" class=\"dataframe\">\n",
       "  <thead>\n",
       "    <tr style=\"text-align: right;\">\n",
       "      <th></th>\n",
       "      <th></th>\n",
       "      <th>Process</th>\n",
       "      <th>advection</th>\n",
       "      <th>biofilm</th>\n",
       "      <th>breakup</th>\n",
       "      <th>burial</th>\n",
       "      <th>defouling</th>\n",
       "      <th>degradation</th>\n",
       "      <th>fragmentation</th>\n",
       "      <th>heteroagg</th>\n",
       "      <th>mixing</th>\n",
       "      <th>resusp</th>\n",
       "      <th>rising</th>\n",
       "      <th>sedTransport</th>\n",
       "      <th>settling</th>\n",
       "    </tr>\n",
       "    <tr>\n",
       "      <th>Compartment</th>\n",
       "      <th>MP_form</th>\n",
       "      <th>SizeFrac</th>\n",
       "      <th></th>\n",
       "      <th></th>\n",
       "      <th></th>\n",
       "      <th></th>\n",
       "      <th></th>\n",
       "      <th></th>\n",
       "      <th></th>\n",
       "      <th></th>\n",
       "      <th></th>\n",
       "      <th></th>\n",
       "      <th></th>\n",
       "      <th></th>\n",
       "      <th></th>\n",
       "    </tr>\n",
       "  </thead>\n",
       "  <tbody>\n",
       "    <tr>\n",
       "      <th rowspan=\"5\" valign=\"top\">Flowing Water</th>\n",
       "      <th rowspan=\"5\" valign=\"top\">Biof&amp;Heteroagg</th>\n",
       "      <th>0.1 um</th>\n",
       "      <td>7.41</td>\n",
       "      <td>499.07</td>\n",
       "      <td>21.13</td>\n",
       "      <td>0.0</td>\n",
       "      <td>0.0</td>\n",
       "      <td>2400000.0</td>\n",
       "      <td>0.00</td>\n",
       "      <td>0.00</td>\n",
       "      <td>192540.88</td>\n",
       "      <td>0.0</td>\n",
       "      <td>0.00</td>\n",
       "      <td>0.0</td>\n",
       "      <td>42.47</td>\n",
       "    </tr>\n",
       "    <tr>\n",
       "      <th>1 um</th>\n",
       "      <td>7.41</td>\n",
       "      <td>499.07</td>\n",
       "      <td>23.25</td>\n",
       "      <td>0.0</td>\n",
       "      <td>0.0</td>\n",
       "      <td>2400000.0</td>\n",
       "      <td>0.00</td>\n",
       "      <td>0.00</td>\n",
       "      <td>192540.88</td>\n",
       "      <td>0.0</td>\n",
       "      <td>0.00</td>\n",
       "      <td>0.0</td>\n",
       "      <td>35.84</td>\n",
       "    </tr>\n",
       "    <tr>\n",
       "      <th>10 um</th>\n",
       "      <td>7.41</td>\n",
       "      <td>499.07</td>\n",
       "      <td>3.46</td>\n",
       "      <td>0.0</td>\n",
       "      <td>0.0</td>\n",
       "      <td>2400000.0</td>\n",
       "      <td>0.00</td>\n",
       "      <td>0.00</td>\n",
       "      <td>192540.88</td>\n",
       "      <td>0.0</td>\n",
       "      <td>0.00</td>\n",
       "      <td>0.0</td>\n",
       "      <td>12.46</td>\n",
       "    </tr>\n",
       "    <tr>\n",
       "      <th>100 um</th>\n",
       "      <td>7.41</td>\n",
       "      <td>499.07</td>\n",
       "      <td>3.46</td>\n",
       "      <td>0.0</td>\n",
       "      <td>0.0</td>\n",
       "      <td>2400000.0</td>\n",
       "      <td>0.00</td>\n",
       "      <td>0.00</td>\n",
       "      <td>192540.88</td>\n",
       "      <td>0.0</td>\n",
       "      <td>0.00</td>\n",
       "      <td>0.0</td>\n",
       "      <td>1.67</td>\n",
       "    </tr>\n",
       "    <tr>\n",
       "      <th>1000 um</th>\n",
       "      <td>7.41</td>\n",
       "      <td>499.07</td>\n",
       "      <td>3.46</td>\n",
       "      <td>0.0</td>\n",
       "      <td>0.0</td>\n",
       "      <td>2400000.0</td>\n",
       "      <td>0.00</td>\n",
       "      <td>0.00</td>\n",
       "      <td>192540.88</td>\n",
       "      <td>0.0</td>\n",
       "      <td>0.35</td>\n",
       "      <td>0.0</td>\n",
       "      <td>0.00</td>\n",
       "    </tr>\n",
       "    <tr>\n",
       "      <th>...</th>\n",
       "      <th>...</th>\n",
       "      <th>...</th>\n",
       "      <td>...</td>\n",
       "      <td>...</td>\n",
       "      <td>...</td>\n",
       "      <td>...</td>\n",
       "      <td>...</td>\n",
       "      <td>...</td>\n",
       "      <td>...</td>\n",
       "      <td>...</td>\n",
       "      <td>...</td>\n",
       "      <td>...</td>\n",
       "      <td>...</td>\n",
       "      <td>...</td>\n",
       "      <td>...</td>\n",
       "    </tr>\n",
       "    <tr>\n",
       "      <th rowspan=\"5\" valign=\"top\">Surface Water</th>\n",
       "      <th rowspan=\"5\" valign=\"top\">Pristine</th>\n",
       "      <th>0.1 um</th>\n",
       "      <td>7.41</td>\n",
       "      <td>166.36</td>\n",
       "      <td>0.00</td>\n",
       "      <td>0.0</td>\n",
       "      <td>0.0</td>\n",
       "      <td>120000.0</td>\n",
       "      <td>6071969.30</td>\n",
       "      <td>4.23</td>\n",
       "      <td>192540.88</td>\n",
       "      <td>0.0</td>\n",
       "      <td>0.00</td>\n",
       "      <td>0.0</td>\n",
       "      <td>0.00</td>\n",
       "    </tr>\n",
       "    <tr>\n",
       "      <th>1 um</th>\n",
       "      <td>7.41</td>\n",
       "      <td>166.36</td>\n",
       "      <td>0.00</td>\n",
       "      <td>0.0</td>\n",
       "      <td>0.0</td>\n",
       "      <td>120000.0</td>\n",
       "      <td>607196.93</td>\n",
       "      <td>4.65</td>\n",
       "      <td>192540.88</td>\n",
       "      <td>0.0</td>\n",
       "      <td>0.00</td>\n",
       "      <td>0.0</td>\n",
       "      <td>0.00</td>\n",
       "    </tr>\n",
       "    <tr>\n",
       "      <th>10 um</th>\n",
       "      <td>7.41</td>\n",
       "      <td>166.36</td>\n",
       "      <td>0.00</td>\n",
       "      <td>0.0</td>\n",
       "      <td>0.0</td>\n",
       "      <td>120000.0</td>\n",
       "      <td>60719.69</td>\n",
       "      <td>0.35</td>\n",
       "      <td>192540.88</td>\n",
       "      <td>0.0</td>\n",
       "      <td>0.00</td>\n",
       "      <td>0.0</td>\n",
       "      <td>0.00</td>\n",
       "    </tr>\n",
       "    <tr>\n",
       "      <th>100 um</th>\n",
       "      <td>7.41</td>\n",
       "      <td>166.36</td>\n",
       "      <td>0.00</td>\n",
       "      <td>0.0</td>\n",
       "      <td>0.0</td>\n",
       "      <td>120000.0</td>\n",
       "      <td>6071.97</td>\n",
       "      <td>0.35</td>\n",
       "      <td>192540.88</td>\n",
       "      <td>0.0</td>\n",
       "      <td>0.00</td>\n",
       "      <td>0.0</td>\n",
       "      <td>0.00</td>\n",
       "    </tr>\n",
       "    <tr>\n",
       "      <th>1000 um</th>\n",
       "      <td>7.41</td>\n",
       "      <td>166.36</td>\n",
       "      <td>0.00</td>\n",
       "      <td>0.0</td>\n",
       "      <td>0.0</td>\n",
       "      <td>120000.0</td>\n",
       "      <td>607.20</td>\n",
       "      <td>0.35</td>\n",
       "      <td>192540.88</td>\n",
       "      <td>0.0</td>\n",
       "      <td>0.00</td>\n",
       "      <td>0.0</td>\n",
       "      <td>0.00</td>\n",
       "    </tr>\n",
       "  </tbody>\n",
       "</table>\n",
       "<p>80 rows × 13 columns</p>\n",
       "</div>"
      ],
      "text/plain": [
       "Process                                advection  biofilm  breakup  burial  \\\n",
       "Compartment   MP_form        SizeFrac                                        \n",
       "Flowing Water Biof&Heteroagg 0.1 um         7.41   499.07    21.13     0.0   \n",
       "                             1 um           7.41   499.07    23.25     0.0   \n",
       "                             10 um          7.41   499.07     3.46     0.0   \n",
       "                             100 um         7.41   499.07     3.46     0.0   \n",
       "                             1000 um        7.41   499.07     3.46     0.0   \n",
       "...                                          ...      ...      ...     ...   \n",
       "Surface Water Pristine       0.1 um         7.41   166.36     0.00     0.0   \n",
       "                             1 um           7.41   166.36     0.00     0.0   \n",
       "                             10 um          7.41   166.36     0.00     0.0   \n",
       "                             100 um         7.41   166.36     0.00     0.0   \n",
       "                             1000 um        7.41   166.36     0.00     0.0   \n",
       "\n",
       "Process                                defouling  degradation  fragmentation  \\\n",
       "Compartment   MP_form        SizeFrac                                          \n",
       "Flowing Water Biof&Heteroagg 0.1 um          0.0    2400000.0           0.00   \n",
       "                             1 um            0.0    2400000.0           0.00   \n",
       "                             10 um           0.0    2400000.0           0.00   \n",
       "                             100 um          0.0    2400000.0           0.00   \n",
       "                             1000 um         0.0    2400000.0           0.00   \n",
       "...                                          ...          ...            ...   \n",
       "Surface Water Pristine       0.1 um          0.0     120000.0     6071969.30   \n",
       "                             1 um            0.0     120000.0      607196.93   \n",
       "                             10 um           0.0     120000.0       60719.69   \n",
       "                             100 um          0.0     120000.0        6071.97   \n",
       "                             1000 um         0.0     120000.0         607.20   \n",
       "\n",
       "Process                                heteroagg     mixing  resusp  rising  \\\n",
       "Compartment   MP_form        SizeFrac                                         \n",
       "Flowing Water Biof&Heteroagg 0.1 um         0.00  192540.88     0.0    0.00   \n",
       "                             1 um           0.00  192540.88     0.0    0.00   \n",
       "                             10 um          0.00  192540.88     0.0    0.00   \n",
       "                             100 um         0.00  192540.88     0.0    0.00   \n",
       "                             1000 um        0.00  192540.88     0.0    0.35   \n",
       "...                                          ...        ...     ...     ...   \n",
       "Surface Water Pristine       0.1 um         4.23  192540.88     0.0    0.00   \n",
       "                             1 um           4.65  192540.88     0.0    0.00   \n",
       "                             10 um          0.35  192540.88     0.0    0.00   \n",
       "                             100 um         0.35  192540.88     0.0    0.00   \n",
       "                             1000 um        0.35  192540.88     0.0    0.00   \n",
       "\n",
       "Process                                sedTransport  settling  \n",
       "Compartment   MP_form        SizeFrac                          \n",
       "Flowing Water Biof&Heteroagg 0.1 um             0.0     42.47  \n",
       "                             1 um               0.0     35.84  \n",
       "                             10 um              0.0     12.46  \n",
       "                             100 um             0.0      1.67  \n",
       "                             1000 um            0.0      0.00  \n",
       "...                                             ...       ...  \n",
       "Surface Water Pristine       0.1 um             0.0      0.00  \n",
       "                             1 um               0.0      0.00  \n",
       "                             10 um              0.0      0.00  \n",
       "                             100 um             0.0      0.00  \n",
       "                             1000 um            0.0      0.00  \n",
       "\n",
       "[80 rows x 13 columns]"
      ]
     },
     "execution_count": 24,
     "metadata": {},
     "output_type": "execute_result"
    }
   ],
   "source": [
    "Half_life_df_h=RC_df_tidy.pivot_table(index=[\"Compartment\", \"MP_form\", \"SizeFrac\"], \n",
    "                    columns='Process', \n",
    "                    values='t1/2_h')\n",
    "Half_life_df_h"
   ]
  },
  {
   "cell_type": "markdown",
   "metadata": {},
   "source": [
    "### Heat maps of half-life times "
   ]
  },
  {
   "cell_type": "code",
   "execution_count": 25,
   "metadata": {
    "ExecuteTime": {
     "end_time": "2021-11-11T16:16:24.349139Z",
     "start_time": "2021-11-11T16:16:22.704992Z"
    }
   },
   "outputs": [
    {
     "data": {
      "image/png": "[encoded data removed]",
      "text/plain": [
       "<Figure size 720x360 with 2 Axes>"
      ]
     },
     "metadata": {
      "needs_background": "light"
     },
     "output_type": "display_data"
    },
    {
     "data": {
      "image/png": "[encoded data removed]",
      "text/plain": [
       "<Figure size 720x360 with 2 Axes>"
      ]
     },
     "metadata": {
      "needs_background": "light"
     },
     "output_type": "display_data"
    },
    {
     "data": {
      "image/png": "[encoded data removed]",
      "text/plain": [
       "<Figure size 720x360 with 2 Axes>"
      ]
     },
     "metadata": {
      "needs_background": "light"
     },
     "output_type": "display_data"
    },
    {
     "data": {
      "image/png": "[encoded data removed]",
      "text/plain": [
       "<Figure size 720x360 with 2 Axes>"
      ]
     },
     "metadata": {
      "needs_background": "light"
     },
     "output_type": "display_data"
    }
   ],
   "source": [
    "T_hm_array= [Half_life_df_h.loc[\"Surface Water\"],Half_life_df_h.loc[\"Flowing Water\"],Half_life_df_h.loc[\"Stagnant Water\"],Half_life_df_h.loc[\"Sediment\"]]\n",
    "T_hm_array_ts=[x.transpose() for x in T_hm_array]\n",
    "T_hm_array_ts=[y.replace(0, 0.0001) for y in T_hm_array_ts]\n",
    "\n",
    "for y in range(len(T_hm_array_ts)):\n",
    "    T_hm_array_ts[y].index = pd.CategoricalIndex(T_hm_array_ts[y].index, categories= [\"degradation\", \"fragmentation\",\"mixing\",\"biofilm\", \"heteroagg\", \"breakup\", \"advection\",\"settling\",\"rising\", \"resusp\", \"burial\",\"sedTransport\", \"defouling\"])\n",
    "    T_hm_array_ts[y].sort_index(level=0, inplace=True)\n",
    "    plt.figure(figsize=(10,5))\n",
    "    log_norm = LogNorm(vmin=T_hm_array_ts[y].min().min(), vmax=T_hm_array_ts[y].max().max())\n",
    "    ax = sns.heatmap(T_hm_array_ts[y],mask=(T_hm_array_ts[y]==0.0001), annot=False,annot_kws={\"size\":12}, fmt=\".2g\", cmap='GnBu',linewidth=0.01, linecolor='white', square=True, robust = True, cbar_kws={'label': 't_half (hours)'},norm=log_norm)\n",
    "    ax.invert_xaxis()\n",
    "    ax.set_title(compartments[y])\n",
    "    # Drawing the frame\n",
    "    for _, spine in ax.spines.items():\n",
    "        spine.set_visible(True)\n",
    "        spine.set_linewidth(1)\n",
    "    ax.set_facecolor('lightgrey')\n",
    "    plt.show()"
   ]
  },
  {
   "cell_type": "markdown",
   "metadata": {},
   "source": [
    "## -Generate Interactions Matrix"
   ]
  },
  {
   "cell_type": "code",
   "execution_count": null,
   "metadata": {
    "ExecuteTime": {
     "end_time": "2021-10-28T13:25:19.072184Z",
     "start_time": "2021-10-28T13:25:16.585226Z"
    }
   },
   "outputs": [],
   "source": [
    "interactions_df= fillInteractions_fun (RC_df, Clist,compartments_prop)"
   ]
  },
  {
   "cell_type": "markdown",
   "metadata": {},
   "source": [
    "### Interactions dataframe"
   ]
  },
  {
   "cell_type": "code",
   "execution_count": null,
   "metadata": {
    "ExecuteTime": {
     "end_time": "2021-10-28T13:25:19.102132Z",
     "start_time": "2021-10-28T13:25:19.074174Z"
    }
   },
   "outputs": [],
   "source": [
    "interactions_df"
   ]
  },
  {
   "cell_type": "markdown",
   "metadata": {},
   "source": [
    "## - SOLVER"
   ]
  },
  {
   "cell_type": "code",
   "execution_count": null,
   "metadata": {
    "ExecuteTime": {
     "end_time": "2021-10-28T13:25:19.252382Z",
     "start_time": "2021-10-28T13:25:19.106091Z"
    }
   },
   "outputs": [],
   "source": [
    "#Initial number of particles in the system \n",
    "PartNum_t0 = pd.DataFrame(index=Clist, columns=['number of particles'])\n",
    "for p in range(len(PartNum_t0)):\n",
    "        PartNum_t0.iloc[p][0]= 0\n",
    "PartNum_t0.loc[\"C_\"+imputMP]=imputPulse\n",
    "\n",
    "#Inflow of particles as particles per second \n",
    "Ilist = []\n",
    "for C in Clist:\n",
    "    Ilist.append(\"I\"+ C[1:])\n",
    "inflow_vector = pd.DataFrame(index=Ilist, columns=[\"number of particles\"])\n",
    "inflow_vector.loc[:,:] = 0\n",
    "inflow_vector.loc[\"I_\"+imputMP] = imputFlow/60 #transformed to particles per sec\n",
    "\n",
    "#Model funcion\n",
    "def dNdt_2(N,t,k,I):  \n",
    "    dNdt=np.dot(N,k)+I\n",
    "    return np.squeeze(dNdt)"
   ]
  },
  {
   "cell_type": "code",
   "execution_count": null,
   "metadata": {
    "ExecuteTime": {
     "end_time": "2021-10-28T13:25:19.258322Z",
     "start_time": "2021-10-28T13:25:19.254332Z"
    }
   },
   "outputs": [],
   "source": [
    "# intitial condition\n",
    "N0 = PartNum_t0['number of particles'].to_numpy(dtype=\"float\")\n",
    "I= inflow_vector['number of particles'].to_numpy(dtype=\"float\")\n",
    "# time points\n",
    "time = np.linspace(0, tmax, int(timesteps)+1, dtype=int)##in seconds"
   ]
  },
  {
   "cell_type": "code",
   "execution_count": null,
   "metadata": {
    "ExecuteTime": {
     "end_time": "2021-10-28T13:26:47.246498Z",
     "start_time": "2021-10-28T13:25:19.260317Z"
    }
   },
   "outputs": [],
   "source": [
    "#Solve ODEs\n",
    "if SOLVER == 'Dynamic':\n",
    "    k=interactions_df.to_numpy()\n",
    "    Nfinal=odeint(dNdt_2, N0, time, args =(k,I), col_deriv=True)\n",
    "    NFinal_num = pd.DataFrame(data = Nfinal, index=t_span , columns= Clist)  \n",
    "    \n",
    "elif SOLVER == \"SteadyState\":\n",
    "    print(\"Steady State not yet implemented\")\n",
    "NFinal_num    "
   ]
  },
  {
   "cell_type": "code",
   "execution_count": null,
   "metadata": {
    "ExecuteTime": {
     "end_time": "2021-10-28T13:26:50.577826Z",
     "start_time": "2021-10-28T13:26:47.248493Z"
    }
   },
   "outputs": [],
   "source": [
    "#Vector of volumes corresponding to the compartments of the river\n",
    "dilution_vol_m3= volumesVector(Clist,compartments_prop)\n",
    "\n",
    "ConcFinal_num_m3= pd.DataFrame(data = 0, index=t_span , columns= Clist) \n",
    "for ind in range(len(NFinal_num)):\n",
    "    ConcFinal_num_m3.iloc[ind]=NFinal_num.iloc[ind]/dilution_vol_m3\n",
    "\n",
    "#Substitute values smaller than 10-5 to 0\n",
    "ConcFinal_num_m3 = ConcFinal_num_m3.apply(lambda x: [y if y >= 1e-15 else 0 for y in x])"
   ]
  },
  {
   "cell_type": "markdown",
   "metadata": {},
   "source": [
    "### Concentrations dataframe (particle number/m3)"
   ]
  },
  {
   "cell_type": "code",
   "execution_count": null,
   "metadata": {
    "ExecuteTime": {
     "end_time": "2021-10-28T13:26:50.612839Z",
     "start_time": "2021-10-28T13:26:50.578756Z"
    }
   },
   "outputs": [],
   "source": [
    "ConcFinal_num_m3"
   ]
  },
  {
   "cell_type": "markdown",
   "metadata": {},
   "source": [
    "### Concentrations dataframe (mg/m3)"
   ]
  },
  {
   "cell_type": "code",
   "execution_count": null,
   "metadata": {
    "ExecuteTime": {
     "end_time": "2021-10-28T13:26:51.303376Z",
     "start_time": "2021-10-28T13:26:50.614864Z"
    }
   },
   "outputs": [],
   "source": [
    "volume= RC_df.loc[\"volume_m3\"].to_numpy()\n",
    "density= RC_df.loc[\"density_kg_m3\"].to_numpy()\n",
    "ConcFinal_mg_m3=ConcFinal_num_m3*volume*density*10**6\n",
    "ConcFinal_mg_m3"
   ]
  },
  {
   "cell_type": "markdown",
   "metadata": {},
   "source": [
    "# Plot results"
   ]
  },
  {
   "cell_type": "markdown",
   "metadata": {},
   "source": [
    "## Multyplots graphs: Concentration over time"
   ]
  },
  {
   "cell_type": "markdown",
   "metadata": {},
   "source": [
    "### Select time span units for plotting (t_span_plot)"
   ]
  },
  {
   "cell_type": "code",
   "execution_count": null,
   "metadata": {
    "ExecuteTime": {
     "end_time": "2021-10-28T13:26:51.311355Z",
     "start_time": "2021-10-28T13:26:51.305371Z"
    }
   },
   "outputs": [],
   "source": [
    "t_span_sec = np.linspace(t0, tmax, int(timesteps)+1, dtype=int)\n",
    "t_span_min=t_span_sec/60\n",
    "t_span_h = t_span_min/60\n",
    "t_span_days = t_span_h/24\n",
    "t_span_months = t_span_days/30"
   ]
  },
  {
   "cell_type": "code",
   "execution_count": null,
   "metadata": {
    "ExecuteTime": {
     "end_time": "2021-10-28T13:26:51.318369Z",
     "start_time": "2021-10-28T13:26:51.314354Z"
    }
   },
   "outputs": [],
   "source": [
    "t_span_plot = t_span_months"
   ]
  },
  {
   "cell_type": "markdown",
   "metadata": {},
   "source": [
    "### Select river sections to plot"
   ]
  },
  {
   "cell_type": "code",
   "execution_count": null,
   "metadata": {
    "ExecuteTime": {
     "end_time": "2021-10-28T13:26:51.324328Z",
     "start_time": "2021-10-28T13:26:51.319367Z"
    }
   },
   "outputs": [],
   "source": [
    "RS= [\"0\",\"3\",\"5\",\"9\",\"10\",\"12\",\"19\"] "
   ]
  },
  {
   "cell_type": "markdown",
   "metadata": {},
   "source": [
    "### Select color palette and style"
   ]
  },
  {
   "cell_type": "code",
   "execution_count": null,
   "metadata": {
    "ExecuteTime": {
     "end_time": "2021-10-28T13:26:51.335289Z",
     "start_time": "2021-10-28T13:26:51.328315Z"
    }
   },
   "outputs": [],
   "source": [
    "palette = plt.get_cmap('Set2')\n",
    "plt.style.use('seaborn-white')"
   ]
  },
  {
   "cell_type": "markdown",
   "metadata": {},
   "source": [
    "### Plot"
   ]
  },
  {
   "cell_type": "code",
   "execution_count": null,
   "metadata": {
    "ExecuteTime": {
     "end_time": "2021-10-28T13:27:14.735843Z",
     "start_time": "2021-10-28T13:26:51.336286Z"
    }
   },
   "outputs": [],
   "source": [
    "figures=[]\n",
    "png_labels=[]\n",
    "for p in range(len(MPforms)):\n",
    "    fig, axs = plt.subplots(len(compartments),len(RS), figsize=(30, 15),sharex='col')\n",
    "    fig.suptitle(\"Concentration of \"+ composition +\" \" + MPformslabels[p]+ \" (Num/$m^3$) over time\", fontsize=30)\n",
    "    for i in range(len(RS)):\n",
    "        for j in range(len(compartments)):\n",
    "           for k in range(len(sizeBin)):\n",
    "\n",
    "               axs[j,i].plot(ConcFinal_num_m3.index/60/60/24, ConcFinal_num_m3.loc[:,\"C_\"+RS[i]+str(j+1)+MPforms[p]+ sizeBin[k]], label= sizeBinLabel[k], color=palette(k), linewidth=3);\n",
    "               axs[j,i].set_yscale(\"log\")\n",
    "               axs[j,i].set_ylim(0,1e-1)\n",
    "               if RS[i] == \"0\":\n",
    "                   axs[j,i].set_title(compartments[j]+\"\\n 0-\" + str(int(RS_cumLength_m[int(RS[i])]/1000))+\" km distance \", y=1.0)\n",
    "               else:               \n",
    "                   axs[j,i].set_title(compartments[j]+\"\\n \"+str(int(RS_cumLength_m[int(RS[i])-1]/1000))+ \"-\" + str(int(RS_cumLength_m[int(RS[i])]/1000))+\" km distance \", y=1.0)\n",
    "\n",
    "               #axs[j,i].set_yscale('log')\n",
    "               axs[j,i].legend()\n",
    "                  \n",
    "\n",
    "    # Axis titles\n",
    "    plt.text(0.1, 0.5, \"Concentration of particles (Num/$m^3$)\", fontsize=18, transform=plt.gcf().transFigure, rotation='vertical',ha='center', va='center')\n",
    "    plt.text(0.5, 0.1, \"time (days)\", fontsize=18, transform=plt.gcf().transFigure, ha='center', va='center')\n",
    "    png_label = \"Concentration_Num_m3_Multiplot_sizeBins_\"+ MPformslabels[p] +\"_\" +composition+'.png'\n",
    "    png_labels.append(png_label)\n",
    "    figures.append(fig)"
   ]
  },
  {
   "cell_type": "markdown",
   "metadata": {},
   "source": [
    "## Multyplots graphs: Concentration vs distance over time "
   ]
  },
  {
   "cell_type": "markdown",
   "metadata": {},
   "source": [
    "### - Organise results for dynamic plotting (GIF)"
   ]
  },
  {
   "cell_type": "markdown",
   "metadata": {},
   "source": [
    "#### Function to extract concentration values by size fraction"
   ]
  },
  {
   "cell_type": "code",
   "execution_count": null,
   "metadata": {
    "ExecuteTime": {
     "end_time": "2021-10-28T13:27:14.741816Z",
     "start_time": "2021-10-28T13:27:14.736815Z"
    }
   },
   "outputs": [],
   "source": [
    "#Select Concentration Units: number of particles or mass\n",
    "ConcPlot_choice=\"ConcFinal_num_m3\"\n",
    "if ConcPlot_choice == \"ConcFinal_num_m3\":\n",
    "    ConcPlot = ConcFinal_num_m3\n",
    "    ConcPlot_units= [\"(No/$m^3$)\",\"Num_m3\"]\n",
    "elif ConcPlot_choice == \"ConcFinal_mg_m3\":\n",
    "    ConcPlot = ConcFinal_mg_m3\n",
    "    ConcPlot_units= [\"(mg/$m^3$)\",\"mg_m3\"]\n",
    "else:\n",
    "    print (\"Choose correct concentration dataframe\")"
   ]
  },
  {
   "cell_type": "code",
   "execution_count": null,
   "metadata": {
    "ExecuteTime": {
     "end_time": "2021-10-28T13:27:14.766774Z",
     "start_time": "2021-10-28T13:27:14.742799Z"
    }
   },
   "outputs": [],
   "source": [
    "def extract_SizeBins (t, comp, MPform,):\n",
    "    Aa=[]\n",
    "    Ab=[]\n",
    "    Ac=[]\n",
    "    Ad=[]\n",
    "    Ae=[]\n",
    "    for i in range(len(listRS)):\n",
    "        Aa.append(ConcPlot.values[t, Clist.index(\"C_\"+str(listRS[i])+comp+MPform+\"a\")])\n",
    "        Ab.append(ConcPlot.values[t, Clist.index(\"C_\"+str(listRS[i])+comp+MPform+\"b\")])\n",
    "        Ac.append(ConcPlot.values[t, Clist.index(\"C_\"+str(listRS[i])+comp+MPform+\"c\")])\n",
    "        Ad.append(ConcPlot.values[t, Clist.index(\"C_\"+str(listRS[i])+comp+MPform+\"d\")]) \n",
    "        Ae.append(ConcPlot.values[t, Clist.index(\"C_\"+str(listRS[i])+comp+MPform+\"e\")]) \n",
    "    return [Aa, Ab, Ac, Ad, Ae]"
   ]
  },
  {
   "cell_type": "markdown",
   "metadata": {},
   "source": [
    "#### Function to extract lists from a list by criteria"
   ]
  },
  {
   "cell_type": "code",
   "execution_count": null,
   "metadata": {
    "ExecuteTime": {
     "end_time": "2021-10-28T13:27:14.773734Z",
     "start_time": "2021-10-28T13:27:14.767766Z"
    }
   },
   "outputs": [],
   "source": [
    "def listofindex(criteria,Clist):                                                                                                             \n",
    "    lista= [[] for x in range(len(criteria))]\n",
    "    for i in range(len(lista)):\n",
    "        lista[i] = [n for n in Clist if criteria[i] in n[-3:]]\n",
    "    return lista"
   ]
  },
  {
   "cell_type": "markdown",
   "metadata": {},
   "source": [
    "#### Extract list of indexes needed for plotting"
   ]
  },
  {
   "cell_type": "code",
   "execution_count": null,
   "metadata": {
    "ExecuteTime": {
     "end_time": "2021-10-28T13:27:14.786682Z",
     "start_time": "2021-10-28T13:27:14.776712Z"
    }
   },
   "outputs": [],
   "source": [
    "list_of_indexesMpType=listofindex(MPforms,Clist)\n",
    "list_of_indexesCompartments=listofindex(riverComp,Clist)\n",
    "list_ofindexesSizeBins=listofindex(sizeBin,Clist)"
   ]
  },
  {
   "cell_type": "markdown",
   "metadata": {},
   "source": [
    "#### Define time resolution for extracting results (time_extract)"
   ]
  },
  {
   "cell_type": "code",
   "execution_count": null,
   "metadata": {
    "ExecuteTime": {
     "end_time": "2021-10-28T13:27:14.793673Z",
     "start_time": "2021-10-28T13:27:14.788713Z"
    }
   },
   "outputs": [],
   "source": [
    "numTstep_hour=(60*60/stepSize)\n",
    "Time_months=t_span[::(int(numTstep_hour*24*30))]\n",
    "Time_days=t_span[::(int(numTstep_hour*24))]\n",
    "Time_halfMonth=t_span[::(int(numTstep_hour*24*15))]\n",
    "Time_5days=t_span[::(int(numTstep_hour*24*5))]#5 days"
   ]
  },
  {
   "cell_type": "code",
   "execution_count": null,
   "metadata": {
    "ExecuteTime": {
     "end_time": "2021-10-28T13:27:14.802642Z",
     "start_time": "2021-10-28T13:27:14.796654Z"
    }
   },
   "outputs": [],
   "source": [
    "time_extract=Time_months"
   ]
  },
  {
   "cell_type": "markdown",
   "metadata": {},
   "source": [
    "#### Extract data for plotting"
   ]
  },
  {
   "cell_type": "markdown",
   "metadata": {},
   "source": [
    "#### Set x values (distance in km)"
   ]
  },
  {
   "cell_type": "code",
   "execution_count": null,
   "metadata": {
    "ExecuteTime": {
     "end_time": "2021-10-28T13:27:14.807630Z",
     "start_time": "2021-10-28T13:27:14.803640Z"
    }
   },
   "outputs": [],
   "source": [
    "#Distance values\n",
    "x =[d/1000 for d in RS_cumLength_m]\n",
    "compartmentsLabel=[\"Surface\\n Water\", \"Flowing\\n Water\", \"Stagnant\\n Water\", \"Sediment\"]"
   ]
  },
  {
   "cell_type": "markdown",
   "metadata": {},
   "source": [
    "#### Dataframe of y values (num/m$^3$)"
   ]
  },
  {
   "cell_type": "code",
   "execution_count": null,
   "metadata": {
    "ExecuteTime": {
     "end_time": "2021-10-28T13:27:59.136845Z",
     "start_time": "2021-10-28T13:27:14.809626Z"
    }
   },
   "outputs": [],
   "source": [
    "y_multiplot_time= [[] for t in range(len(time_extract))]\n",
    "for t in range(len(time_extract)):\n",
    "    y_multiplot =pd.DataFrame(index=compartments, columns=MPformslabels)\n",
    "    #Estimate relative abundance of MP types in the whole river and of particles per compartment\n",
    "    for j in range(len(compartments)):\n",
    "            for k in range(len(MPforms)):\n",
    "                y_multiplot.iloc[j,k] = extract_SizeBins(int(time_extract[t]/stepSize), str(j+1),MPforms[k])  \n",
    "    y_multiplot_time[t]=y_multiplot               \n",
    "y_multiplot_time     "
   ]
  },
  {
   "cell_type": "markdown",
   "metadata": {},
   "source": [
    "#### Distribution of MPs per aggregation state and compartment over time relative to particle number\n"
   ]
  },
  {
   "cell_type": "code",
   "execution_count": null,
   "metadata": {
    "ExecuteTime": {
     "end_time": "2021-10-28T13:27:59.329515Z",
     "start_time": "2021-10-28T13:27:59.137823Z"
    }
   },
   "outputs": [],
   "source": [
    "MpTypeNum_t=pd.DataFrame(index=range(len(time_extract)),columns=[\"Timepoint (min)\"]+[m+\" (Total number)\" for m in MPformslabels]+[\"Total\"])\n",
    "RelativeAbun_MPtype_t=pd.DataFrame(0, columns=[\"Timepoint (days)\"]+[m+\" (%)\" for m in MPformslabels], index=MpTypeNum_t.index)\n",
    "compNum_t=pd.DataFrame(index=range(len(time_extract)),columns=[\"Timepoint (min)\"]+[m+\" (Total number)\" for m in compartments]+[\"Total\"])\n",
    "RelativeAbun_Comp=pd.DataFrame(0, columns=[\"Timepoint (days)\"]+[m+\" (%)\" for m in compartments], index=MpTypeNum_t.index)\n",
    "for t in range(len(time_extract)):\n",
    "    #Convert concentration to particle number\n",
    "    PartNum_timestep=ConcFinal_num_m3.iloc[int(time_extract[t]/stepSize)]*dilution_vol_m3\n",
    "    MpTypeNum_t.iloc[t,len(MPforms)+1]=sum(PartNum_timestep)\n",
    "    PartNum_timestep=PartNum_timestep.to_frame()\n",
    "    for mp in range(1,1+len(MPforms)):\n",
    "        MpTypeNum_t.iloc[t,mp]=sum(PartNum_timestep.loc[list_of_indexesMpType[mp-1], :][time_extract[t]].to_list())\n",
    "        if MpTypeNum_t.iloc[t,len(MPforms)+1] == 0:\n",
    "            RelativeAbun_MPtype_t.iloc[t,mp]= 0\n",
    "        else:\n",
    "            RelativeAbun_MPtype_t.iloc[t,mp]=round((MpTypeNum_t.iloc[t,mp]/MpTypeNum_t.iloc[t,len(MPforms)+1])*100,2)\n",
    "    for com in range(1,1+len(compartments)):\n",
    "        compNum_t.iloc[t,com]=sum(PartNum_timestep.loc[list_of_indexesCompartments[com-1], :][time_extract[t]].to_list())\n",
    "        if MpTypeNum_t.iloc[t,len(MPforms)+1]== 0:\n",
    "            RelativeAbun_Comp.iloc[t,com]=0\n",
    "        else:\n",
    "            RelativeAbun_Comp.iloc[t,com]=round((compNum_t.iloc[t,com]/MpTypeNum_t.iloc[t,len(MPforms)+1])*100,2)\n",
    "    RelativeAbun_MPtype_t.iloc[t,0]=t\n",
    "    MpTypeNum_t.iloc[t,0]=time_extract[t]/stepSize\n",
    "    compNum_t.iloc[t,0]=time_extract[t]/stepSize\n",
    "    RelativeAbun_Comp.iloc[t,0]=t"
   ]
  },
  {
   "cell_type": "markdown",
   "metadata": {},
   "source": [
    "#### - Relative abundance of MPs aggregation states in the whole system per time step"
   ]
  },
  {
   "cell_type": "code",
   "execution_count": null,
   "metadata": {
    "ExecuteTime": {
     "end_time": "2021-10-28T13:27:59.337856Z",
     "start_time": "2021-10-28T13:27:59.331306Z"
    }
   },
   "outputs": [],
   "source": [
    "sum(PartNum_timestep.loc[list_of_indexesCompartments[com-1], :][time_extract[t]])"
   ]
  },
  {
   "cell_type": "code",
   "execution_count": null,
   "metadata": {
    "ExecuteTime": {
     "end_time": "2021-10-28T13:27:59.353812Z",
     "start_time": "2021-10-28T13:27:59.338851Z"
    }
   },
   "outputs": [],
   "source": [
    "compNum_t"
   ]
  },
  {
   "cell_type": "code",
   "execution_count": null,
   "metadata": {
    "ExecuteTime": {
     "end_time": "2021-10-28T13:27:59.377746Z",
     "start_time": "2021-10-28T13:27:59.358805Z"
    }
   },
   "outputs": [],
   "source": [
    "RelativeAbun_MPtype_t"
   ]
  },
  {
   "cell_type": "markdown",
   "metadata": {},
   "source": [
    "#### - Fractionation of MPs per compartmet over time for the whole system"
   ]
  },
  {
   "cell_type": "code",
   "execution_count": null,
   "metadata": {
    "ExecuteTime": {
     "end_time": "2021-10-28T13:27:59.391718Z",
     "start_time": "2021-10-28T13:27:59.379742Z"
    }
   },
   "outputs": [],
   "source": [
    "RelativeAbun_Comp"
   ]
  },
  {
   "cell_type": "markdown",
   "metadata": {},
   "source": [
    "#### - Relative abundance per size fraction after 1 year run"
   ]
  },
  {
   "cell_type": "code",
   "execution_count": null,
   "metadata": {
    "ExecuteTime": {
     "end_time": "2021-10-28T13:27:59.398691Z",
     "start_time": "2021-10-28T13:27:59.394702Z"
    }
   },
   "outputs": [],
   "source": [
    "#Define time step (1year)\n",
    "time=range(len(t_span))\n",
    "t=time[-1]# last time step "
   ]
  },
  {
   "cell_type": "code",
   "execution_count": null,
   "metadata": {
    "ExecuteTime": {
     "end_time": "2021-10-28T13:27:59.447559Z",
     "start_time": "2021-10-28T13:27:59.400686Z"
    }
   },
   "outputs": [],
   "source": [
    "# Estimate total number of particles per size fraction in each compartment for the whole river\n",
    "SizeFracNum_comp=pd.DataFrame(index=sizeBinLabel,columns= compartments)\n",
    "for siz in range(len(sizeBin)):\n",
    "    for co in range(len(SizeFracNum_comp.columns)):  \n",
    "        list_sb= [n for n in list_of_indexesCompartments[co] if sizeBin[siz] in n[-3:]]\n",
    "        SizeFracNum_comp.iloc[siz,co]=sum(NFinal_num[list_sb].iloc[t].to_list())\n",
    "\n",
    "SizeFracNum_comp"
   ]
  },
  {
   "cell_type": "code",
   "execution_count": null,
   "metadata": {
    "ExecuteTime": {
     "end_time": "2021-10-28T13:27:59.471496Z",
     "start_time": "2021-10-28T13:27:59.448556Z"
    }
   },
   "outputs": [],
   "source": [
    "Total_num_water=sum(sum(SizeFracNum_comp[compartments[0:3]].values))\n",
    "Total_num_sediment=sum(SizeFracNum_comp[compartments[-1]].values)\n",
    "RelativeAbun_SizeFrac=pd.DataFrame(index=sizeBinLabel,columns=[\"Relative abundance in water (%)\", \"Relative abundance in sediment (%)\"])\n",
    "for siz in range(len(sizeBin)):\n",
    "    if sum(SizeFracNum_comp.iloc[siz][compartments[0:3]].values)==0:\n",
    "        RelativeAbun_SizeFrac.iloc[siz,0]=0\n",
    "    else:\n",
    "        RelativeAbun_SizeFrac.iloc[siz,0]=round((sum(SizeFracNum_comp.iloc[siz][compartments[0:3]].values)/Total_num_water)*100,2)\n",
    "    if SizeFracNum_comp.iloc[siz][compartments[-1]]==0:\n",
    "        RelativeAbun_SizeFrac.iloc[siz,1]=0\n",
    "    else:\n",
    "        RelativeAbun_SizeFrac.iloc[siz,1]=round((SizeFracNum_comp.iloc[siz][compartments[-1]]/Total_num_sediment)*100,2)\n",
    "RelativeAbun_SizeFrac"
   ]
  },
  {
   "cell_type": "code",
   "execution_count": null,
   "metadata": {
    "ExecuteTime": {
     "end_time": "2021-10-28T13:27:59.517374Z",
     "start_time": "2021-10-28T13:27:59.472493Z"
    }
   },
   "outputs": [],
   "source": [
    "# Estimate total number of particles per size fraction in each compartment for the downstream section (last 200 km )\n",
    "SizeFracNum_comp_downs=pd.DataFrame(index=sizeBinLabel,columns= compartments)\n",
    "for siz in range(len(sizeBin)):\n",
    "    for co in range(len(SizeFracNum_comp.columns)):\n",
    "        list_sb= [n for n in list_of_indexesCompartments[co] if sizeBin[siz] in n[-3:]]\n",
    "        list_sb_downstream=list_sb[20*4-4*4:]\n",
    "        SizeFracNum_comp_downs.iloc[siz,co]=sum(NFinal_num[list_sb_downstream].iloc[t].to_list())\n",
    "\n",
    "SizeFracNum_comp_downs\n",
    "Total_num_water_downs=sum(sum(SizeFracNum_comp_downs[compartments[0:3]].values))\n",
    "Total_num_sediment_downs=sum(SizeFracNum_comp_downs[compartments[-1]].values)\n",
    "RelativeAbun_SizeFrac_downs=pd.DataFrame(index=sizeBinLabel,columns=[\"Relative abundance in water (%)\", \"Relative abundance in sediment (%)\"])\n",
    "for siz in range(len(sizeBin)):\n",
    "    if sum(SizeFracNum_comp_downs.iloc[siz][compartments[0:3]].values)==0:\n",
    "        RelativeAbun_SizeFrac_downs.iloc[siz,0]=0\n",
    "    else:\n",
    "        RelativeAbun_SizeFrac_downs.iloc[siz,0]=round((sum(SizeFracNum_comp_downs.iloc[siz][compartments[0:3]].values)/Total_num_water_downs)*100,2)\n",
    "    if SizeFracNum_comp_downs.iloc[siz][compartments[-1]]==0:\n",
    "        RelativeAbun_SizeFrac_downs.iloc[siz,1]=0\n",
    "    else:\n",
    "        RelativeAbun_SizeFrac_downs.iloc[siz,1]=round((SizeFracNum_comp_downs.iloc[siz][compartments[-1]]/Total_num_sediment_downs)*100,2)\n",
    "RelativeAbun_SizeFrac_downs"
   ]
  },
  {
   "cell_type": "markdown",
   "metadata": {},
   "source": [
    "### PLOT"
   ]
  },
  {
   "cell_type": "markdown",
   "metadata": {},
   "source": [
    "#### Choose style and colour palette"
   ]
  },
  {
   "cell_type": "code",
   "execution_count": null,
   "metadata": {
    "ExecuteTime": {
     "end_time": "2021-10-28T13:27:59.525351Z",
     "start_time": "2021-10-28T13:27:59.518370Z"
    }
   },
   "outputs": [],
   "source": [
    "palette = plt.get_cmap('Set2')\n",
    "plt.style.use('seaborn-white')\n",
    "# these are matplotlib.patch.Patch properties\n",
    "props = dict(boxstyle='round', facecolor='ivory', alpha=0.5)\n",
    "props2 = dict(boxstyle='round', facecolor='white', alpha=0.5)"
   ]
  },
  {
   "cell_type": "markdown",
   "metadata": {},
   "source": [
    "### Dynamic plot"
   ]
  },
  {
   "cell_type": "code",
   "execution_count": null,
   "metadata": {
    "ExecuteTime": {
     "end_time": "2021-10-28T13:28:14.881932Z",
     "start_time": "2021-10-28T13:27:59.526351Z"
    }
   },
   "outputs": [],
   "source": [
    "#Move to figures folder\n",
    "os.chdir(results_figures_path)\n",
    "#Generate animation\n",
    "fig, axs = plt.subplots(len(compartments),len(MPforms), figsize=(30, 15),sharex='col')\n",
    "labels = ['0.1 um', '1 um', '10 um', '100 um', '1000 um']\n",
    "if imputPulse != 0:\n",
    "    if imputFlow==0:\n",
    "        fig.suptitle( composition +\" microplastics fate in generic river over time (pulse= \"+ str(imputPulse)+\" particles of 1mm)\", fontsize=30)\n",
    "    else:\n",
    "        fig.suptitle( composition +\" microplastics fate in generic river over time (pulse= \"+ str(imputPulse)+\" + inflow= \"+str(imputFlow)+\" particles/min of 1mm)\", fontsize=30)\n",
    "else:\n",
    "    fig.suptitle( composition +\" microplastics fate in generic river over time (inflow= \"+str(imputFlow)+\" particles/min of 1mm)\", fontsize=30)\n",
    "camera = Camera(fig)\n",
    "for t in range(len(time_extract)): \n",
    "    for j in range(len(compartments)):\n",
    "        for k in range(len(MPforms)):\n",
    "            #Plot\n",
    "            y = y_multiplot_time[t].iloc[j,k]\n",
    "            axs[j,k].plot(x, y[0], linewidth=2.5,color=palette(0), label='0.1 um')\n",
    "            axs[j,k].plot(x, y[1], linewidth=2.5,color=palette(1), label='1 um')\n",
    "            axs[j,k].plot(x, y[2], linewidth=2.5,color=palette(2), label='10 um')\n",
    "            axs[j,k].plot(x, y[3], linewidth=2.5,color=palette(3), label='100 um')\n",
    "            axs[j,k].plot(x, y[4], linewidth=2.5,color=palette(4), label='1000 um')\n",
    "            axs[j,k].text(0.90,0.90,str(int(time_extract[t]/60/60/24)) + ' days', bbox=props, fontsize=12, transform=axs[j,k].transAxes, ha='center', va='center')\n",
    "            #Set axes labels and title\n",
    "            if j== 0:\n",
    "                axs[j,k].text(0.5,1.1, MPformslabels[k]+ \"\\n \" +str(RelativeAbun_MPtype_t.iloc[t,k+1])+ \" %\",fontsize=20, bbox=props2, transform= axs[j,k].transAxes, ha='center')        \n",
    "            else:\n",
    "                axs[j,k].set_title(MPformslabels[k]+ \" \" + composition+ \" particles in \"+ compartments[j],fontsize=15)\n",
    "      \n",
    "            if k==0:\n",
    "                axs[j,k].text(-0.25, 0.5, compartmentsLabel[j]+\"\\n\"+str(RelativeAbun_Comp.iloc[t,j+1])+\" %\",fontsize=20,rotation=0, va='center',ha='center',bbox=props2, transform=axs[j,k].transAxes)\n",
    "                \n",
    "        \n",
    "            axs[j,k].set_yscale('log')\n",
    "            if j==0:\n",
    "                axs[j,k].set_ylim(10**-9,10**1)\n",
    "            elif j==1:\n",
    "                axs[j,k].set_ylim(10**-9,10**1)\n",
    "            elif j== 2:\n",
    "                axs[j,k].set_ylim(10**-9,10**1)\n",
    "            else:\n",
    "                axs[j,k].set_ylim(10**-9,10**1)\n",
    "            axs[j,k].set_xlim(x[0],x[-1])\n",
    "            axs[j,k].tick_params(axis='x', labelsize=12)\n",
    "            axs[j,k].tick_params(axis='y', labelsize=12)\n",
    "           \n",
    "    # Axis titles\n",
    "    plt.text(0.05, 0.5, \"Concentration of particles \" +ConcPlot_units[0], fontsize=20, transform=plt.gcf().transFigure, rotation='vertical',ha='center', va='center')\n",
    "    plt.text(0.5, 0.08, \"Distance (km)\", fontsize=20, transform=plt.gcf().transFigure, ha='center', va='center')\n",
    "    #plt.legend(labels,bbox_to_anchor=(0.5, -0.18), loc='center',ncol=5, fontsize=15 )\n",
    "    camera.snap()\n",
    "           \n",
    "if imputPulse != 0:\n",
    "    animationTitle= composition+ \"_MPs_fate_dynamicPlot_log_monthly_\"+ConcPlot_units[1]+\"_Pulse_.gif\"\n",
    "else:\n",
    "    animationTitle= composition+ \"_MPs_fate_dynamicPlot_log_monthly_\"+ConcPlot_units[1]+\"_ConstantInflow_\"+str(imputFlow)+\".gif\"\n",
    "\n",
    "animation = camera.animate()\n",
    "animation.save(animationTitle, writer='matplotlib.animation.PillowWriter', fps=2) \n",
    "os.chdir(cwd)"
   ]
  },
  {
   "cell_type": "markdown",
   "metadata": {},
   "source": [
    "## Plot after 360 days"
   ]
  },
  {
   "cell_type": "markdown",
   "metadata": {},
   "source": [
    "#### Static plot (t=tfinal)"
   ]
  },
  {
   "cell_type": "code",
   "execution_count": null,
   "metadata": {
    "ExecuteTime": {
     "end_time": "2021-10-28T13:32:09.874583Z",
     "start_time": "2021-10-28T13:32:09.870595Z"
    }
   },
   "outputs": [],
   "source": [
    "t=len(time_extract)-1"
   ]
  },
  {
   "cell_type": "code",
   "execution_count": null,
   "metadata": {
    "ExecuteTime": {
     "end_time": "2021-10-28T13:32:24.089050Z",
     "start_time": "2021-10-28T13:32:15.547437Z"
    }
   },
   "outputs": [],
   "source": [
    "import matplotlib.ticker as ticker\n",
    "from matplotlib import ticker\n",
    "\n",
    "fig2, axs = plt.subplots(len(compartments),len(MPforms), figsize=(15, 10),sharex='col', sharey= \"row\", squeeze=\"True\")\n",
    "\n",
    "labels = ['0.1 um', '1 um', '10 um', '100 um', '1000 um']\n",
    "if imputFlow == 0:\n",
    "    fig2.suptitle( composition +\" plastic particles after \"+str(int(time_extract[t]/60/60/24)) + \" days (pulse= \"+ str(imputPulse)+\" particles of 1mm)\" , fontsize=18,  y=0.95)\n",
    "    \n",
    "else:\n",
    "    fig2.suptitle( composition +\" plastic particles after \"+str(int(time_extract[t]/60/60/24)) + \" days\" , fontsize=18,  y=0.95)\n",
    "\n",
    "for j in range(len(compartments)):\n",
    "    if j == 3:\n",
    "        for k in range(len(MPforms)):\n",
    "            #Plot\n",
    "            y = extract_SizeBins (t, riverComp[j], MPforms[k])\n",
    "            axs[j,k].plot(x, [e * 10**6/1.3 for e in y[0]], linewidth=2.5,color=palette(0), label='0.1 um')\n",
    "            axs[j,k].plot(x, [e * 10**6/1.3 for e in y[1]], linewidth=2.5,color=palette(1), label='1 um')\n",
    "            axs[j,k].plot(x, [e * 10**6/1.3 for e in y[2]], linewidth=2.5,color=palette(2), label='10 um')\n",
    "            axs[j,k].plot(x, [e * 10**6/1.3 for e in y[3]], linewidth=2.5,color=palette(3), label='100 um')\n",
    "            axs[j,k].plot(x, [e * 10**6/1.3 for e in y[4]], linewidth=2.5,color=palette(4), label='1000 um')\n",
    "\n",
    "            if k==3:\n",
    "                axs[j,k].text(1.2, 0.5, compartmentsLabel[j] ,fontsize=15,rotation=0, va='center',ha='center', transform=axs[j,k].transAxes)\n",
    "\n",
    "            axs[j,k].set_yscale('log')\n",
    "            axs[j,k].set_ylim(10**-9,1000000)\n",
    "            if k == 0:\n",
    "                axs[j,k].set_ylabel(\"Conc (mg/g)\", fontsize=15)\n",
    "            axs[j,k].yaxis.set_major_locator(ticker.LogLocator(base=10.0, numticks=4))\n",
    "            axs[j,k].set_xlim(x[0],x[-1])\n",
    "            axs[j,k].tick_params(axis='x', labelsize=12, direction='inout', length=6, width=1, grid_alpha=0.5)\n",
    "            axs[j,k].tick_params(axis='y',labelsize=10, direction='inout', length=6, width=1, grid_alpha=0.5) \n",
    "            formatter = ticker.ScalarFormatter(useMathText=True)\n",
    "            formatter.set_scientific(True) \n",
    "            formatter.set_powerlimits((-1,1)) \n",
    "    else:\n",
    "        for k in range(len(MPforms)):\n",
    "            #Plot\n",
    "            y = extract_SizeBins (t, riverComp[j], MPforms[k])\n",
    "            axs[j,k].plot(x, y[0], linewidth=2.5,color=palette(0), label='0.1 um')\n",
    "            axs[j,k].plot(x, y[1], linewidth=2.5,color=palette(1), label='1 um')\n",
    "            axs[j,k].plot(x, y[2], linewidth=2.5,color=palette(2), label='10 um')\n",
    "            axs[j,k].plot(x, y[3], linewidth=2.5,color=palette(3), label='100 um')\n",
    "            axs[j,k].plot(x, y[4], linewidth=2.5,color=palette(4), label='1000 um')\n",
    "            if j== 0:\n",
    "                axs[j,k].text(0.5,1.1, MPformslabels[k] ,fontsize=15, transform= axs[j,k].transAxes, ha='center')        \n",
    "            if k==3:\n",
    "                axs[j,k].text(1.2, 0.5, compartmentsLabel[j] ,fontsize=15,rotation=0, va='center',ha='center', transform=axs[j,k].transAxes)\n",
    "            if k == 0:\n",
    "                axs[j,k].set_ylabel(\"Conc \"+ ConcPlot_units[0], fontsize=15)\n",
    "            axs[j,k].set_yscale('log')\n",
    "            \n",
    "            if j==0:\n",
    "                axs[j,k].set_ylim(10**-9,10**1)\n",
    "                axs[j,k].yaxis.set_major_locator(ticker.LogLocator(base=10.0, numticks=4))\n",
    "            elif j==1:\n",
    "                axs[j,k].set_ylim(10**-9,10**1)\n",
    "                axs[j,k].yaxis.set_major_locator(ticker.LogLocator(base=10.0, numticks=4))\n",
    "            elif j== 2:\n",
    "                axs[j,k].set_ylim(10**-9,10**1)\n",
    "                axs[j,k].yaxis.set_major_locator(ticker.LogLocator(base=10.0, numticks=4))\n",
    "            axs[j,k].set_xlim(x[0],x[-1])\n",
    "\n",
    "            axs[j,k].tick_params(axis='x', labelsize=10, direction='inout', length=6, width=1, grid_alpha=0.5)\n",
    "            axs[j,k].tick_params(axis='y',labelsize=10, direction='inout', length=6, width=1, grid_alpha=0.5)\n",
    "            from matplotlib import ticker\n",
    "            formatter = ticker.ScalarFormatter(useMathText=True)\n",
    "            formatter.set_scientific(True) \n",
    "            formatter.set_powerlimits((-1,1)) \n",
    "            axs[j,k].minorticks_on()\n",
    "            \n",
    "           \n",
    "# Axis titles\n",
    "#plt.text(0.02, 0.5, \"Concentration of particles (Num/$m^3$)\", fontsize=15, transform=plt.gcf().transFigure, rotation='vertical',ha='center', va='center')\n",
    "plt.text(0.5, 0.08, \"Distance (km)\", fontsize=15, transform=plt.gcf().transFigure, ha='center', va='center')\n",
    "#plt.legend(labels,bbox_to_anchor=(0.5, -0.18), loc='center',ncol=5, fontsize=15 )\n",
    "plt.subplots_adjust(wspace=0.02,hspace=0.1)\n",
    "handles, labels = axs[j,k].get_legend_handles_labels()\n",
    "fig2.legend(handles, labels, bbox_to_anchor=(0.5, 0.04), loc='center',ncol=5, fontsize=15)\n",
    "if imputPulse != 0:\n",
    "    fig2_label= \"ConcvsDist_Multiplot_\"+ composition +\"_\"+ConcPlot_units[1]+\"_Pulse.png\"\n",
    "else:\n",
    "    fig2_label= \"ConcvsDist_Multiplot_\"+ composition +\"_\"+ConcPlot_units[1]+\"_ConstantInflow.png\""
   ]
  },
  {
   "cell_type": "code",
   "execution_count": null,
   "metadata": {
    "ExecuteTime": {
     "end_time": "2021-10-28T13:32:29.827381Z",
     "start_time": "2021-10-28T13:32:29.146131Z"
    }
   },
   "outputs": [],
   "source": [
    "#Save static figure\n",
    "os.chdir(results_figures_path)\n",
    "fig2.savefig(fig2_label)\n",
    "os.chdir(cwd)"
   ]
  },
  {
   "cell_type": "code",
   "execution_count": null,
   "metadata": {
    "ExecuteTime": {
     "end_time": "2021-10-28T13:32:38.287748Z",
     "start_time": "2021-10-28T13:32:34.802282Z"
    }
   },
   "outputs": [],
   "source": [
    "#Move to figures folder\n",
    "os.chdir(results_figures_path)\n",
    "#Generate animation\n",
    "fig1, axs = plt.subplots(len(compartments),len(MPforms), figsize=(30, 15),sharex='col')\n",
    "labels = ['0.1 um', '1 um', '10 um', '100 um', '1000 um']\n",
    "if imputPulse != 0:\n",
    "    if imputFlow==0:\n",
    "        fig1.suptitle( composition +\" microplastics fate in generic river (pulse= \"+ str(imputPulse)+\" particles of 1mm)\", fontsize=30)\n",
    "        fig1.text(0.5,0.5,str(int(time_extract[t]/60/60/24)) + ' days', bbox=props, fontsize=24, transform=axs[j,k].transAxes, ha='center', va='center')\n",
    "    else:\n",
    "        fig1.suptitle( composition +\" microplastics fate in generic river (pulse= \"+ str(imputPulse)+\" + inflow= \"+str(imputFlow)+\" particles/min of 1mm)\", fontsize=30)\n",
    "else:\n",
    "    fig1.suptitle( composition +\" microplastics fate in generic river over time (inflow= \"+str(imputFlow)+\" particles/min of 1mm)\", fontsize=30)\n",
    "\n",
    "for j in range(len(compartments)):\n",
    "    for k in range(len(MPforms)):\n",
    "        #Plot\n",
    "        y = y_multiplot_time[t].iloc[j,k]\n",
    "        axs[j,k].plot(x, y[0], linewidth=2.5,color=palette(0), label='0.1 um')\n",
    "        axs[j,k].plot(x, y[1], linewidth=2.5,color=palette(1), label='1 um')\n",
    "        axs[j,k].plot(x, y[2], linewidth=2.5,color=palette(2), label='10 um')\n",
    "        axs[j,k].plot(x, y[3], linewidth=2.5,color=palette(3), label='100 um')\n",
    "        axs[j,k].plot(x, y[4], linewidth=2.5,color=palette(4), label='1000 um')\n",
    "        #axs[j,k].text(0.90,0.90,str(int(time_extract[t]/60/60/24)) + ' days', bbox=props, fontsize=24, transform=axs[j,k].transAxes, ha='center', va='center')\n",
    "        #Set axes labels and title\n",
    "        if j== 0:\n",
    "            axs[j,k].text(0.5,1.1, MPformslabels[k]+ \"\\n \" +str(RelativeAbun_MPtype_t.iloc[t,k+1])+ \" %\",fontsize=20, bbox=props2, transform= axs[j,k].transAxes, ha='center')        \n",
    "        else:\n",
    "            axs[j,k].set_title(MPformslabels[k]+ \" \" + composition+ \" particles in \"+ compartments[j],fontsize=15)\n",
    "\n",
    "        if k==0:\n",
    "            axs[j,k].text(-0.25, 0.5, compartmentsLabel[j]+\"\\n\"+str(RelativeAbun_Comp.iloc[t,j+1])+\" %\",fontsize=20,rotation=0, va='center',ha='center',bbox=props2, transform=axs[j,k].transAxes)\n",
    "\n",
    "\n",
    "        axs[j,k].set_yscale('log')\n",
    "        if j==0:\n",
    "            axs[j,k].set_ylim(10**-9,10**1)\n",
    "        elif j==1:\n",
    "            axs[j,k].set_ylim(10**-9,10**1)\n",
    "        elif j== 2:\n",
    "            axs[j,k].set_ylim(10**-9,10**1)\n",
    "        else:\n",
    "            axs[j,k].set_ylim(10**-9,10**1)\n",
    "        axs[j,k].set_xlim(x[0],x[-1])\n",
    "        axs[j,k].tick_params(axis='x', labelsize=12)\n",
    "        axs[j,k].tick_params(axis='y', labelsize=12)\n",
    "\n",
    "# Axis titles\n",
    "plt.text(0.05, 0.5, \"Concentration of particles \" +ConcPlot_units[0], fontsize=20, transform=plt.gcf().transFigure, rotation='vertical',ha='center', va='center')\n",
    "plt.text(0.5, 0.08, \"Distance (km)\", fontsize=20, transform=plt.gcf().transFigure, ha='center', va='center')\n",
    "#plt.legend(labels,bbox_to_anchor=(0.5, -0.18), loc='center',ncol=5, fontsize=15 )\n",
    "\n",
    "           \n",
    "if imputPulse != 0:\n",
    "    animationTitle= composition+ \"_MPs_fate_dynamicPlot_log_monthly_\"+ConcPlot_units[1]+\"_Pulse_.gif\"\n",
    "else:\n",
    "    animationTitle= composition+ \"_MPs_fate_dynamicPlot_log_monthly_\"+ConcPlot_units[1]+\"_ConstantInflow_\"+str(imputFlow)+\".gif\"\n",
    "\n",
    "fig1.legend(handles, labels, bbox_to_anchor=(0.5, 0.02), loc='center',ncol=5, fontsize=24)\n",
    "if imputPulse != 0:\n",
    "    fig1_label= composition+ \"_MPs_fate_ConcvsDist_Multiplot__log_monthly_\"+ConcPlot_units[1]+\"_Pulse.png\" \n",
    "else:\n",
    "    fig1_label= composition+ \"_MPs_fate_ConcvsDist_Multiplot__log_monthly_\"+ConcPlot_units[1]+\"_ConstantInflow.png\" \n",
    "\n",
    "#Save static figure\n",
    "os.chdir(results_figures_path)\n",
    "fig1.savefig(fig1_label)\n",
    "os.chdir(cwd)"
   ]
  },
  {
   "cell_type": "markdown",
   "metadata": {},
   "source": [
    "# Save results"
   ]
  },
  {
   "cell_type": "code",
   "execution_count": null,
   "metadata": {
    "ExecuteTime": {
     "end_time": "2021-10-28T13:28:17.756426Z",
     "start_time": "2021-10-28T13:24:58.559Z"
    }
   },
   "outputs": [],
   "source": [
    "if record == \"True\":   \n",
    "    os.chdir(cwd+\"/Results\")\n",
    "    \n",
    "    #create folder for the day if it doesnt already exists\n",
    "    path = cwd+\"/Results\"\n",
    "    os.path.isdir(path)\n",
    "    old_path = (daterun_label)\n",
    "    new_path = os.path.isdir(old_path)\n",
    "    if not new_path:\n",
    "        os.makedirs(old_path)\n",
    "        print(\"Created Folder : \", old_path)\n",
    "    else:\n",
    "        print(old_path, \"folder already exists.\")\n",
    "    \n",
    "    results_path= cwd+\"/Results/\"+old_path\n",
    "    \n",
    "    os.chdir(results_path)\n",
    "    #save\n",
    "    #rate constants \n",
    "    dfRC_filename = \"RC_df\" + runtitle +\"_\"+ daterun_label + \".csv\"\n",
    "    RC_df_final.to_csv(dfRC_filename)\n",
    "    \n",
    "    #interactions dataframe to results folder\n",
    "    interactions_filename = \"interactionsdf_\"+ runtitle +\"_\"+  daterun_label + \".csv\"\n",
    "    interactions_df.to_csv(interactions_filename)\n",
    "    \n",
    "    #Results\n",
    "    filename= \"ConcVStime_particleNum_m3_\"+ runtitle +\"_\"+ daterun_label+\".csv\"\n",
    "    filename1= \"MassVStime_kg_\"+ runtitle +\"_\"+ daterun_label+\".csv\"\n",
    "    ConcFinal_num_m3.to_csv(filename)\n",
    "    ConcFinal_mg_m3.to_csv(filename1)\n",
    "    RelativeAbun_MPtype_t.to_csv(\"Relative_abundance_MPtype_\"+composition+daterun_label+\".csv\")  \n",
    "    RelativeAbun_Comp.to_csv(\"Relative_abundance_Compartment_\"+composition+daterun_label+\".csv\")  \n",
    "    \n",
    "\n",
    "    #back to working directory\n",
    "    os.chdir(cwd)\n",
    "    \n",
    "    #Save figures\n",
    "    os.chdir(results_figures_path)\n",
    "    for f in range(len(figures)):\n",
    "        figg=figures[f]\n",
    "        figg_name=png_labels[f]\n",
    "        figg.savefig(figg_name)\n",
    "    fig2.savefig(fig2_label)\n"
   ]
  }
 ],
 "metadata": {
  "kernelspec": {
   "display_name": "Python 3",
   "language": "python",
   "name": "python3"
  },
  "language_info": {
   "codemirror_mode": {
    "name": "ipython",
    "version": 3
   },
   "file_extension": ".py",
   "mimetype": "text/x-python",
   "name": "python",
   "nbconvert_exporter": "python",
   "pygments_lexer": "ipython3",
   "version": "3.7.6"
  },
  "varInspector": {
   "cols": {
    "lenName": 16,
    "lenType": 16,
    "lenVar": 40
   },
   "kernels_config": {
    "python": {
     "delete_cmd_postfix": "",
     "delete_cmd_prefix": "del ",
     "library": "var_list.py",
     "varRefreshCmd": "print(var_dic_list())"
    },
    "r": {
     "delete_cmd_postfix": ") ",
     "delete_cmd_prefix": "rm(",
     "library": "var_list.r",
     "varRefreshCmd": "cat(var_dic_list()) "
    }
   },
   "oldHeight": 358.43778000000003,
   "position": {
    "height": "40px",
    "left": "1244.8px",
    "right": "20px",
    "top": "1.96875px",
    "width": "250px"
   },
   "types_to_exclude": [
    "module",
    "function",
    "builtin_function_or_method",
    "instance",
    "_Feature"
   ],
   "varInspector_section_display": "none",
   "window_display": true
  }
 },
 "nbformat": 4,
 "nbformat_minor": 4
}
